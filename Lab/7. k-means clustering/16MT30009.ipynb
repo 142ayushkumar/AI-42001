{
 "cells": [
  {
   "cell_type": "markdown",
   "metadata": {},
   "source": [
    " Implement k-means algorithm for the given data set for different values of k.  \n",
    " Evaluate your algorithm using rand index with respect to weather_main attribute as ground truth cluster label."
   ]
  },
  {
   "cell_type": "code",
   "execution_count": 57,
   "metadata": {},
   "outputs": [],
   "source": [
    "import numpy as np\n",
    "import pandas as pd\n",
    "import matplotlib.pyplot as plt\n",
    "\n",
    "import os, random, math\n",
    "from collections import Counter\n",
    "\n",
    "from scipy import stats"
   ]
  },
  {
   "cell_type": "markdown",
   "metadata": {},
   "source": [
    "Reading from CSV file"
   ]
  },
  {
   "cell_type": "code",
   "execution_count": 2,
   "metadata": {},
   "outputs": [],
   "source": [
    "df = pd.read_csv(\"DataSetk-means.csv\")"
   ]
  },
  {
   "cell_type": "markdown",
   "metadata": {},
   "source": [
    "Reading from ods file"
   ]
  },
  {
   "cell_type": "code",
   "execution_count": 3,
   "metadata": {},
   "outputs": [],
   "source": [
    "df_ods = pd.read_excel(\"DataSetk-means.ods\", engine=\"odf\")"
   ]
  },
  {
   "cell_type": "code",
   "execution_count": 4,
   "metadata": {},
   "outputs": [
    {
     "data": {
      "text/html": [
       "<div>\n",
       "<style scoped>\n",
       "    .dataframe tbody tr th:only-of-type {\n",
       "        vertical-align: middle;\n",
       "    }\n",
       "\n",
       "    .dataframe tbody tr th {\n",
       "        vertical-align: top;\n",
       "    }\n",
       "\n",
       "    .dataframe thead th {\n",
       "        text-align: right;\n",
       "    }\n",
       "</style>\n",
       "<table border=\"1\" class=\"dataframe\">\n",
       "  <thead>\n",
       "    <tr style=\"text-align: right;\">\n",
       "      <th></th>\n",
       "      <th>temp</th>\n",
       "      <th>rain_1h</th>\n",
       "      <th>snow_1h</th>\n",
       "      <th>clouds_all</th>\n",
       "      <th>weather_description</th>\n",
       "      <th>traffic_volume</th>\n",
       "      <th>weather_main</th>\n",
       "    </tr>\n",
       "  </thead>\n",
       "  <tbody>\n",
       "    <tr>\n",
       "      <td>0</td>\n",
       "      <td>288.28</td>\n",
       "      <td>0</td>\n",
       "      <td>0</td>\n",
       "      <td>40</td>\n",
       "      <td>scattered clouds</td>\n",
       "      <td>5545</td>\n",
       "      <td>Clouds</td>\n",
       "    </tr>\n",
       "    <tr>\n",
       "      <td>1</td>\n",
       "      <td>289.36</td>\n",
       "      <td>0</td>\n",
       "      <td>0</td>\n",
       "      <td>75</td>\n",
       "      <td>broken clouds</td>\n",
       "      <td>4516</td>\n",
       "      <td>Clouds</td>\n",
       "    </tr>\n",
       "    <tr>\n",
       "      <td>2</td>\n",
       "      <td>289.58</td>\n",
       "      <td>0</td>\n",
       "      <td>0</td>\n",
       "      <td>90</td>\n",
       "      <td>overcast clouds</td>\n",
       "      <td>4767</td>\n",
       "      <td>Clouds</td>\n",
       "    </tr>\n",
       "    <tr>\n",
       "      <td>3</td>\n",
       "      <td>290.13</td>\n",
       "      <td>0</td>\n",
       "      <td>0</td>\n",
       "      <td>90</td>\n",
       "      <td>overcast clouds</td>\n",
       "      <td>5026</td>\n",
       "      <td>Clouds</td>\n",
       "    </tr>\n",
       "    <tr>\n",
       "      <td>4</td>\n",
       "      <td>291.14</td>\n",
       "      <td>0</td>\n",
       "      <td>0</td>\n",
       "      <td>75</td>\n",
       "      <td>broken clouds</td>\n",
       "      <td>4918</td>\n",
       "      <td>Clouds</td>\n",
       "    </tr>\n",
       "    <tr>\n",
       "      <td>...</td>\n",
       "      <td>...</td>\n",
       "      <td>...</td>\n",
       "      <td>...</td>\n",
       "      <td>...</td>\n",
       "      <td>...</td>\n",
       "      <td>...</td>\n",
       "      <td>...</td>\n",
       "    </tr>\n",
       "    <tr>\n",
       "      <td>494</td>\n",
       "      <td>280.57</td>\n",
       "      <td>0</td>\n",
       "      <td>0</td>\n",
       "      <td>40</td>\n",
       "      <td>scattered clouds</td>\n",
       "      <td>259</td>\n",
       "      <td>Clouds</td>\n",
       "    </tr>\n",
       "    <tr>\n",
       "      <td>495</td>\n",
       "      <td>280.54</td>\n",
       "      <td>0</td>\n",
       "      <td>0</td>\n",
       "      <td>75</td>\n",
       "      <td>broken clouds</td>\n",
       "      <td>324</td>\n",
       "      <td>Clouds</td>\n",
       "    </tr>\n",
       "    <tr>\n",
       "      <td>496</td>\n",
       "      <td>279.37</td>\n",
       "      <td>0</td>\n",
       "      <td>0</td>\n",
       "      <td>8</td>\n",
       "      <td>mist</td>\n",
       "      <td>806</td>\n",
       "      <td>Mist</td>\n",
       "    </tr>\n",
       "    <tr>\n",
       "      <td>497</td>\n",
       "      <td>279.18</td>\n",
       "      <td>0</td>\n",
       "      <td>0</td>\n",
       "      <td>8</td>\n",
       "      <td>mist</td>\n",
       "      <td>2622</td>\n",
       "      <td>Mist</td>\n",
       "    </tr>\n",
       "    <tr>\n",
       "      <td>498</td>\n",
       "      <td>279.05</td>\n",
       "      <td>0</td>\n",
       "      <td>0</td>\n",
       "      <td>8</td>\n",
       "      <td>mist</td>\n",
       "      <td>5456</td>\n",
       "      <td>Mist</td>\n",
       "    </tr>\n",
       "  </tbody>\n",
       "</table>\n",
       "<p>499 rows × 7 columns</p>\n",
       "</div>"
      ],
      "text/plain": [
       "       temp  rain_1h  snow_1h  clouds_all weather_description  traffic_volume  \\\n",
       "0    288.28        0        0          40    scattered clouds            5545   \n",
       "1    289.36        0        0          75       broken clouds            4516   \n",
       "2    289.58        0        0          90     overcast clouds            4767   \n",
       "3    290.13        0        0          90     overcast clouds            5026   \n",
       "4    291.14        0        0          75       broken clouds            4918   \n",
       "..      ...      ...      ...         ...                 ...             ...   \n",
       "494  280.57        0        0          40    scattered clouds             259   \n",
       "495  280.54        0        0          75       broken clouds             324   \n",
       "496  279.37        0        0           8                mist             806   \n",
       "497  279.18        0        0           8                mist            2622   \n",
       "498  279.05        0        0           8                mist            5456   \n",
       "\n",
       "    weather_main  \n",
       "0         Clouds  \n",
       "1         Clouds  \n",
       "2         Clouds  \n",
       "3         Clouds  \n",
       "4         Clouds  \n",
       "..           ...  \n",
       "494       Clouds  \n",
       "495       Clouds  \n",
       "496         Mist  \n",
       "497         Mist  \n",
       "498         Mist  \n",
       "\n",
       "[499 rows x 7 columns]"
      ]
     },
     "execution_count": 4,
     "metadata": {},
     "output_type": "execute_result"
    }
   ],
   "source": [
    "df"
   ]
  },
  {
   "cell_type": "code",
   "execution_count": 5,
   "metadata": {},
   "outputs": [
    {
     "data": {
      "text/plain": [
       "14"
      ]
     },
     "execution_count": 5,
     "metadata": {},
     "output_type": "execute_result"
    }
   ],
   "source": [
    "len(Counter(df[\"weather_description\"]))"
   ]
  },
  {
   "cell_type": "code",
   "execution_count": 6,
   "metadata": {},
   "outputs": [
    {
     "data": {
      "text/plain": [
       "Counter({'scattered clouds': 31,\n",
       "         'broken clouds': 66,\n",
       "         'overcast clouds': 110,\n",
       "         'sky is clear': 107,\n",
       "         'few clouds': 42,\n",
       "         'light rain': 34,\n",
       "         'light intensity drizzle': 24,\n",
       "         'mist': 58,\n",
       "         'haze': 1,\n",
       "         'fog': 9,\n",
       "         'proximity shower rain': 1,\n",
       "         'drizzle': 10,\n",
       "         'moderate rain': 5,\n",
       "         'heavy intensity rain': 1})"
      ]
     },
     "execution_count": 6,
     "metadata": {},
     "output_type": "execute_result"
    }
   ],
   "source": [
    "Counter(df[\"weather_description\"])"
   ]
  },
  {
   "cell_type": "code",
   "execution_count": 7,
   "metadata": {},
   "outputs": [
    {
     "data": {
      "text/plain": [
       "Counter({0: 499})"
      ]
     },
     "execution_count": 7,
     "metadata": {},
     "output_type": "execute_result"
    }
   ],
   "source": [
    "Counter(df[\"rain_1h\"])"
   ]
  },
  {
   "cell_type": "code",
   "execution_count": 8,
   "metadata": {},
   "outputs": [
    {
     "data": {
      "text/plain": [
       "Counter({0: 499})"
      ]
     },
     "execution_count": 8,
     "metadata": {},
     "output_type": "execute_result"
    }
   ],
   "source": [
    "Counter(df[\"snow_1h\"])"
   ]
  },
  {
   "cell_type": "markdown",
   "metadata": {},
   "source": [
    "2 columns \"rain_1h\" and \"snow_1h\" both are 0 and can be removed"
   ]
  },
  {
   "cell_type": "code",
   "execution_count": 9,
   "metadata": {},
   "outputs": [
    {
     "name": "stdout",
     "output_type": "stream",
     "text": [
      "Removing rain_1h and snow_1h\n"
     ]
    }
   ],
   "source": [
    "print(\"Removing rain_1h and snow_1h\")\n",
    "df.drop([\"rain_1h\", \"snow_1h\"], inplace=True, axis=1)"
   ]
  },
  {
   "cell_type": "code",
   "execution_count": 10,
   "metadata": {},
   "outputs": [
    {
     "data": {
      "text/plain": [
       "Index(['temp', 'clouds_all', 'weather_description', 'traffic_volume',\n",
       "       'weather_main'],\n",
       "      dtype='object')"
      ]
     },
     "execution_count": 10,
     "metadata": {},
     "output_type": "execute_result"
    }
   ],
   "source": [
    "df.columns"
   ]
  },
  {
   "cell_type": "code",
   "execution_count": 11,
   "metadata": {},
   "outputs": [
    {
     "name": "stdout",
     "output_type": "stream",
     "text": [
      "temp: float64\n",
      "clouds_all: int64\n",
      "weather_description: object\n",
      "traffic_volume: int64\n",
      "weather_main: object\n"
     ]
    }
   ],
   "source": [
    "for column in df.columns:\n",
    "    print(f\"{column}: {df[column].dtype}\")"
   ]
  },
  {
   "cell_type": "markdown",
   "metadata": {},
   "source": [
    "## Normalising the data"
   ]
  },
  {
   "cell_type": "code",
   "execution_count": 12,
   "metadata": {},
   "outputs": [],
   "source": [
    "for column in df.columns:\n",
    "    if df[column].dtype != \"object\":\n",
    "        mean = df[column].mean()\n",
    "        std = df[column].std()\n",
    "        df[column] = (df[column]-mean)/std"
   ]
  },
  {
   "cell_type": "code",
   "execution_count": 13,
   "metadata": {},
   "outputs": [
    {
     "data": {
      "text/html": [
       "<div>\n",
       "<style scoped>\n",
       "    .dataframe tbody tr th:only-of-type {\n",
       "        vertical-align: middle;\n",
       "    }\n",
       "\n",
       "    .dataframe tbody tr th {\n",
       "        vertical-align: top;\n",
       "    }\n",
       "\n",
       "    .dataframe thead th {\n",
       "        text-align: right;\n",
       "    }\n",
       "</style>\n",
       "<table border=\"1\" class=\"dataframe\">\n",
       "  <thead>\n",
       "    <tr style=\"text-align: right;\">\n",
       "      <th></th>\n",
       "      <th>temp</th>\n",
       "      <th>clouds_all</th>\n",
       "      <th>weather_description</th>\n",
       "      <th>traffic_volume</th>\n",
       "      <th>weather_main</th>\n",
       "    </tr>\n",
       "  </thead>\n",
       "  <tbody>\n",
       "    <tr>\n",
       "      <td>0</td>\n",
       "      <td>1.244246</td>\n",
       "      <td>-0.571764</td>\n",
       "      <td>scattered clouds</td>\n",
       "      <td>1.051308</td>\n",
       "      <td>Clouds</td>\n",
       "    </tr>\n",
       "    <tr>\n",
       "      <td>1</td>\n",
       "      <td>1.461489</td>\n",
       "      <td>0.375930</td>\n",
       "      <td>broken clouds</td>\n",
       "      <td>0.543897</td>\n",
       "      <td>Clouds</td>\n",
       "    </tr>\n",
       "    <tr>\n",
       "      <td>2</td>\n",
       "      <td>1.505742</td>\n",
       "      <td>0.782085</td>\n",
       "      <td>overcast clouds</td>\n",
       "      <td>0.667668</td>\n",
       "      <td>Clouds</td>\n",
       "    </tr>\n",
       "    <tr>\n",
       "      <td>3</td>\n",
       "      <td>1.616375</td>\n",
       "      <td>0.782085</td>\n",
       "      <td>overcast clouds</td>\n",
       "      <td>0.795384</td>\n",
       "      <td>Clouds</td>\n",
       "    </tr>\n",
       "    <tr>\n",
       "      <td>4</td>\n",
       "      <td>1.819538</td>\n",
       "      <td>0.375930</td>\n",
       "      <td>broken clouds</td>\n",
       "      <td>0.742128</td>\n",
       "      <td>Clouds</td>\n",
       "    </tr>\n",
       "    <tr>\n",
       "      <td>...</td>\n",
       "      <td>...</td>\n",
       "      <td>...</td>\n",
       "      <td>...</td>\n",
       "      <td>...</td>\n",
       "      <td>...</td>\n",
       "    </tr>\n",
       "    <tr>\n",
       "      <td>494</td>\n",
       "      <td>-0.306628</td>\n",
       "      <td>-0.571764</td>\n",
       "      <td>scattered clouds</td>\n",
       "      <td>-1.555278</td>\n",
       "      <td>Clouds</td>\n",
       "    </tr>\n",
       "    <tr>\n",
       "      <td>495</td>\n",
       "      <td>-0.312663</td>\n",
       "      <td>0.375930</td>\n",
       "      <td>broken clouds</td>\n",
       "      <td>-1.523226</td>\n",
       "      <td>Clouds</td>\n",
       "    </tr>\n",
       "    <tr>\n",
       "      <td>496</td>\n",
       "      <td>-0.548009</td>\n",
       "      <td>-1.438227</td>\n",
       "      <td>mist</td>\n",
       "      <td>-1.285546</td>\n",
       "      <td>Mist</td>\n",
       "    </tr>\n",
       "    <tr>\n",
       "      <td>497</td>\n",
       "      <td>-0.586228</td>\n",
       "      <td>-1.438227</td>\n",
       "      <td>mist</td>\n",
       "      <td>-0.390056</td>\n",
       "      <td>Mist</td>\n",
       "    </tr>\n",
       "    <tr>\n",
       "      <td>498</td>\n",
       "      <td>-0.612378</td>\n",
       "      <td>-1.438227</td>\n",
       "      <td>mist</td>\n",
       "      <td>1.007421</td>\n",
       "      <td>Mist</td>\n",
       "    </tr>\n",
       "  </tbody>\n",
       "</table>\n",
       "<p>499 rows × 5 columns</p>\n",
       "</div>"
      ],
      "text/plain": [
       "         temp  clouds_all weather_description  traffic_volume weather_main\n",
       "0    1.244246   -0.571764    scattered clouds        1.051308       Clouds\n",
       "1    1.461489    0.375930       broken clouds        0.543897       Clouds\n",
       "2    1.505742    0.782085     overcast clouds        0.667668       Clouds\n",
       "3    1.616375    0.782085     overcast clouds        0.795384       Clouds\n",
       "4    1.819538    0.375930       broken clouds        0.742128       Clouds\n",
       "..        ...         ...                 ...             ...          ...\n",
       "494 -0.306628   -0.571764    scattered clouds       -1.555278       Clouds\n",
       "495 -0.312663    0.375930       broken clouds       -1.523226       Clouds\n",
       "496 -0.548009   -1.438227                mist       -1.285546         Mist\n",
       "497 -0.586228   -1.438227                mist       -0.390056         Mist\n",
       "498 -0.612378   -1.438227                mist        1.007421         Mist\n",
       "\n",
       "[499 rows x 5 columns]"
      ]
     },
     "execution_count": 13,
     "metadata": {},
     "output_type": "execute_result"
    }
   ],
   "source": [
    "df"
   ]
  },
  {
   "cell_type": "code",
   "execution_count": 14,
   "metadata": {},
   "outputs": [],
   "source": [
    "X = df.drop(\"weather_main\", axis=1)\n",
    "y = df.weather_main"
   ]
  },
  {
   "cell_type": "code",
   "execution_count": 15,
   "metadata": {},
   "outputs": [
    {
     "data": {
      "text/plain": [
       "Counter({'Clouds': 249,\n",
       "         'Clear': 107,\n",
       "         'Rain': 41,\n",
       "         'Drizzle': 34,\n",
       "         'Mist': 58,\n",
       "         'Haze': 1,\n",
       "         'Fog': 9})"
      ]
     },
     "execution_count": 15,
     "metadata": {},
     "output_type": "execute_result"
    }
   ],
   "source": [
    "Counter(y)"
   ]
  },
  {
   "cell_type": "code",
   "execution_count": 16,
   "metadata": {},
   "outputs": [
    {
     "name": "stdout",
     "output_type": "stream",
     "text": [
      "Total number of classes: 7\n"
     ]
    }
   ],
   "source": [
    "print(f\"Total number of classes: {len(Counter(y))}\")"
   ]
  },
  {
   "cell_type": "code",
   "execution_count": 91,
   "metadata": {},
   "outputs": [],
   "source": [
    "# Converting pandas dataframe x to numpy array\n",
    "X = X.to_numpy()"
   ]
  },
  {
   "cell_type": "markdown",
   "metadata": {},
   "source": [
    "## K means clustering"
   ]
  },
  {
   "cell_type": "markdown",
   "metadata": {},
   "source": [
    "Algo:\n",
    "* Initialize clusters centroids $\\mu_1, \\mu_2, \\cdots, \\mu_k$\n",
    "* Repeat until convergence: {  \n",
    "    For every i, set  \n",
    " $c^{(i)} = arg min ||x^{(i)} - \\mu_j ||^2$   \n",
    "    For each j, set  \n",
    "$\\mu_j = \\dfrac{\\sum_{i=1}^{m} 1{\\{c^{(i)} = j\\}x^{(i)}}}{\\sum_{i=1}^{m} 1\\{c^{(i)} = j\\} }$\n",
    "    \n",
    " \n",
    "}"
   ]
  },
  {
   "cell_type": "code",
   "execution_count": null,
   "metadata": {},
   "outputs": [],
   "source": [
    "def dist(a, b):\n",
    "    '''\n",
    "    Calculate distance between two different rows/objects\n",
    "    a: numpy array\n",
    "    b: numpy array\n",
    "    '''\n",
    "    ans = 0\n",
    "    for i in range(len(a)):\n",
    "        if isinstance(a[i], str):\n",
    "            if a[i] != b[i]:\n",
    "                ans += 1\n",
    "        else:\n",
    "            ans += (a[i] - b[i])**2\n",
    "    return math.sqrt(ans)\n",
    "\n",
    "def get_centroid(X, mp):\n",
    "    '''\n",
    "    Calculating centroid of a given set of objects\n",
    "    mp: a dict or map which stores indices of values having same cluster\n",
    "    returns: cetroid of cluster passed\n",
    "    '''\n",
    "    centroid = []\n",
    "    for cluster_index in mp:\n",
    "        curr_centroid = []\n",
    "        for i in range(X.shape[1]):\n",
    "            # iterating for every features\n",
    "            if isinstance(X[0][i], str):\n",
    "                # calculating mode\n",
    "                curr_centroid.append(stats.mode(X[mp[cluster_index], i])[0][0])\n",
    "            else:\n",
    "                try:\n",
    "                    curr_centroid.append(X[mp[cluster_index],i].mean())\n",
    "                except:\n",
    "                    print(\"ERROR OCCURED\")\n",
    "                    print(f\"cluster_index is {cluster_index}\")\n",
    "                    print(mp)\n",
    "        centroid.append(curr_centroid)\n",
    "    return centroid\n",
    "    \n",
    "def initialise_dict(mp, n_classes):\n",
    "    '''\n",
    "    Takes a dict and clear it. Initlise that dict with n_classes empty list\n",
    "    '''\n",
    "    mp.clear()\n",
    "    for i in range(n_classes):\n",
    "        mp[i] = []\n",
    "    \n",
    "\n",
    "def kMeans(X, k, max_iter=10000):\n",
    "    '''\n",
    "    X: numpy array, training data\n",
    "    k: number of clusters\n",
    "    max_iter: maximum number of iterations\n",
    "    Returns: a map of clusters and final k means\n",
    "    '''\n",
    "    N_TOT = X.shape[0]\n",
    "    # randomly chosing initial centroids from given data\n",
    "    random_values = random.sample(range(0, N_TOT), k)\n",
    "    means = [X[i] for i in random_values]\n",
    "    mp = dict()\n",
    "    for n_iter in range(max_iter):\n",
    "        initialise_dict(mp, k)\n",
    "        for i in range(N_TOT):\n",
    "            min_dist = int(1e9)\n",
    "            curr_class = 0\n",
    "            for j in range(len(means)):\n",
    "                x = dist(means[j], X[i])\n",
    "                if x < min_dist:\n",
    "                    min_dist = x\n",
    "                    curr_class = j\n",
    "            mp[curr_class].append(i)\n",
    "        updated_means = get_centroid(X, mp)\n",
    "        # compare two means, if they are equal break from loop\n",
    "        equal = True\n",
    "        \n",
    "        for i in range(len(means)):\n",
    "            for j in range(len(means[i])):\n",
    "                if isinstance(means[i][j], str):\n",
    "                    if means[i][j] != updated_means[i][j]:\n",
    "                        equal = False\n",
    "                        break\n",
    "                elif abs(means[i][j] - updated_means[i][j]) > 1e-6:\n",
    "                    equal = False\n",
    "                    break\n",
    "        if equal:\n",
    "            break\n",
    "    return mp, means\n",
    "        \n",
    "                    \n",
    "            "
   ]
  },
  {
   "cell_type": "code",
   "execution_count": 177,
   "metadata": {},
   "outputs": [],
   "source": [
    "mp, means = kMeans(X, 3, 100000)"
   ]
  },
  {
   "cell_type": "code",
   "execution_count": 178,
   "metadata": {},
   "outputs": [
    {
     "name": "stdout",
     "output_type": "stream",
     "text": [
      "266\n",
      "123\n",
      "110\n"
     ]
    }
   ],
   "source": [
    "for i in mp:\n",
    "    print (len(mp[i]))"
   ]
  },
  {
   "cell_type": "markdown",
   "metadata": {},
   "source": [
    "## Rand index"
   ]
  },
  {
   "cell_type": "markdown",
   "metadata": {},
   "source": [
    "$R = \\dfrac{a + b}{a + b + c + d} = \\dfrac{a + b}{n\\choose2}$    \n",
    "a: number of elements which are in same subsets in both X and Y  \n",
    "b: number of elements which are in different subsets in both X and Y  \n"
   ]
  },
  {
   "cell_type": "code",
   "execution_count": 191,
   "metadata": {},
   "outputs": [],
   "source": [
    "def rand_index(X, y, mp, clusters):\n",
    "    '''\n",
    "    X: training data\n",
    "    y: given class/ground truth\n",
    "    mp and clusters are the output of kMeans functions, mp is a map  and clusters are centroid of clusters\n",
    "    '''\n",
    "    # Creating a few dicts which will help in comparing which subsets a particular row from training example is\n",
    "#     row_to_index = dict()\n",
    "\n",
    "#     for i in range(len(X)):\n",
    "#         row_to_index[X[i]] = i\n",
    "        \n",
    "    k_means_cluster_index = dict()\n",
    "    for i in mp:\n",
    "        for j in mp[i]:\n",
    "            k_means_cluster_index[j] = i\n",
    "    a = 0\n",
    "    b = 0\n",
    "    for i in range(len(X)):\n",
    "        for j in range(i+1, len(X)):\n",
    "            if (k_means_cluster_index[i] == k_means_cluster_index[j]) and (y[i] == y[j]):\n",
    "                a += 1\n",
    "            elif(k_means_cluster_index[i] != k_means_cluster_index[j]) and (y[i] != y[j]):\n",
    "                b += 1\n",
    "    n = len(X)\n",
    "    nc2 = (n*(n-1))/2\n",
    "    return (a + b)/nc2"
   ]
  },
  {
   "cell_type": "code",
   "execution_count": 193,
   "metadata": {},
   "outputs": [],
   "source": [
    "mp, means = kMeans(X, 3, 100000)"
   ]
  },
  {
   "cell_type": "code",
   "execution_count": 194,
   "metadata": {},
   "outputs": [
    {
     "data": {
      "text/plain": [
       "0.574329381654876"
      ]
     },
     "execution_count": 194,
     "metadata": {},
     "output_type": "execute_result"
    }
   ],
   "source": [
    "rand_index(X, y, mp, means)"
   ]
  },
  {
   "cell_type": "code",
   "execution_count": 197,
   "metadata": {},
   "outputs": [],
   "source": [
    "mp, means = kMeans(X, 4, 50000)"
   ]
  },
  {
   "cell_type": "code",
   "execution_count": 198,
   "metadata": {},
   "outputs": [
    {
     "data": {
      "text/plain": [
       "0.5958181423087138"
      ]
     },
     "execution_count": 198,
     "metadata": {},
     "output_type": "execute_result"
    }
   ],
   "source": [
    "rand_index(X, y, mp, means)"
   ]
  },
  {
   "cell_type": "code",
   "execution_count": 199,
   "metadata": {},
   "outputs": [],
   "source": [
    "mp, means = kMeans(X, 5, 5000)"
   ]
  },
  {
   "cell_type": "code",
   "execution_count": 200,
   "metadata": {},
   "outputs": [
    {
     "data": {
      "text/plain": [
       "0.6106027315675527"
      ]
     },
     "execution_count": 200,
     "metadata": {},
     "output_type": "execute_result"
    }
   ],
   "source": [
    "rand_index(X, y, mp, means)"
   ]
  },
  {
   "cell_type": "code",
   "execution_count": 202,
   "metadata": {},
   "outputs": [
    {
     "data": {
      "text/plain": [
       "0.607415634481815"
      ]
     },
     "execution_count": 202,
     "metadata": {},
     "output_type": "execute_result"
    }
   ],
   "source": [
    "mp, means = kMeans(X, 6, 5000)\n",
    "rand_index(X, y, mp, means)"
   ]
  },
  {
   "cell_type": "code",
   "execution_count": 203,
   "metadata": {},
   "outputs": [
    {
     "data": {
      "text/plain": [
       "0.6485501122727383"
      ]
     },
     "execution_count": 203,
     "metadata": {},
     "output_type": "execute_result"
    }
   ],
   "source": [
    "mp, means = kMeans(X, 7, 5000)\n",
    "rand_index(X, y, mp, means)"
   ]
  },
  {
   "cell_type": "code",
   "execution_count": 204,
   "metadata": {},
   "outputs": [
    {
     "data": {
      "text/plain": [
       "0.6286227072619134"
      ]
     },
     "execution_count": 204,
     "metadata": {},
     "output_type": "execute_result"
    }
   ],
   "source": [
    "mp, means = kMeans(X, 8, 5000)\n",
    "rand_index(X, y, mp, means)"
   ]
  },
  {
   "cell_type": "code",
   "execution_count": 205,
   "metadata": {},
   "outputs": [
    {
     "name": "stdout",
     "output_type": "stream",
     "text": [
      "{0: [9, 10, 29, 30, 31, 54, 55, 56, 57, 58, 59, 60, 61, 168, 319, 368, 369, 370, 371, 372], 1: [5, 6, 7, 11, 12, 13, 14, 15, 24, 25, 26, 32, 33, 34, 35, 45, 46, 47, 315, 316, 317, 318, 338, 362, 363, 364, 365, 366, 367], 2: [21, 22, 23, 40, 41, 42, 43, 44, 90, 91, 133, 134, 137, 138, 141, 142, 155, 185, 201, 202, 203, 204, 205, 234, 247, 248, 249, 250, 251, 252, 253, 254, 256, 331, 332, 333, 334, 335, 336, 498], 3: [63, 64, 65, 66, 67, 68, 69, 70, 71, 72, 73, 74, 75, 76, 93, 94, 95, 96, 97, 98, 99, 113, 114, 115, 116, 117, 118, 119, 120, 156, 157, 158, 159, 160, 163, 164, 165, 177, 178, 179, 180, 181, 182, 183, 184, 186, 187, 188, 189, 190, 208, 209, 210, 211, 222, 223, 224, 225, 226, 227, 230, 231, 232, 279, 280, 281, 282, 283, 284, 285, 286, 287, 288, 289, 290, 291, 307, 308, 309, 310, 311, 312, 313, 343, 355, 358, 359, 381, 382, 383, 384, 386, 387, 388, 389, 390, 391, 392, 393, 409, 410, 411, 412, 413, 414, 415, 416, 417, 418, 419, 420, 421, 422, 423, 424, 425, 426, 427, 428, 459, 460, 461, 462, 463, 464, 465, 466, 467, 468, 469, 470, 471, 472, 473, 475, 477, 489], 4: [81, 82, 83, 84, 104, 105, 106, 107, 108, 109, 123, 169, 170, 171, 172, 173, 174, 175, 176, 195, 196, 198, 199, 213, 214, 215, 216, 217, 218, 219, 220, 221, 258, 259, 260, 261, 262, 263, 264, 265, 266, 267, 293, 294, 295, 296, 297, 298, 299, 300, 301, 302, 303, 304, 322, 324, 345, 346, 347, 348, 349, 350, 351, 352, 353, 354, 376, 377, 378, 379, 394, 395, 396, 397, 398, 399, 400, 401, 402, 403, 404, 405, 406, 408, 433, 435, 436, 437, 438, 439, 440, 441, 442, 443, 444, 445, 446, 447, 448, 449, 450, 451, 452, 453, 454, 455, 456, 458, 490, 491, 492, 493, 495], 5: [16, 17, 18, 19, 20, 36, 37, 38, 39, 62, 77, 78, 79, 80, 85, 86, 87, 88, 89, 100, 101, 102, 103, 110, 111, 112, 121, 122, 124, 125, 126, 127, 128, 129, 130, 131, 132, 135, 136, 145, 146, 147, 148, 149, 150, 151, 152, 153, 154, 194, 197, 200, 212, 235, 236, 237, 238, 239, 240, 241, 242, 243, 244, 245, 246, 255, 257, 268, 269, 270, 271, 272, 273, 274, 275, 276, 292, 305, 306, 321, 323, 325, 326, 327, 328, 329, 330, 373, 374, 375, 407, 429, 430, 431, 432, 434, 457, 480, 481, 482, 483, 484, 485, 486, 487, 494, 496, 497], 6: [0, 1, 2, 3, 4, 92, 139, 140, 143, 144, 161, 162, 166, 167, 191, 192, 193, 206, 207, 228, 229, 233, 277, 278, 314, 320, 337, 339, 340, 341, 342, 344, 356, 357, 360, 361, 380, 385, 474, 476, 478, 479, 488], 7: [8, 27, 28, 48, 49, 50, 51, 52, 53]}\n"
     ]
    }
   ],
   "source": [
    "print(mp)"
   ]
  },
  {
   "cell_type": "code",
   "execution_count": 206,
   "metadata": {},
   "outputs": [
    {
     "data": {
      "text/plain": [
       "0.6614675133399329"
      ]
     },
     "execution_count": 206,
     "metadata": {},
     "output_type": "execute_result"
    }
   ],
   "source": [
    "mp, means = kMeans(X, 7, 10000)\n",
    "rand_index(X, y, mp, means)"
   ]
  },
  {
   "cell_type": "code",
   "execution_count": null,
   "metadata": {},
   "outputs": [],
   "source": []
  }
 ],
 "metadata": {
  "kernelspec": {
   "display_name": "Python 3",
   "language": "python",
   "name": "python3"
  },
  "language_info": {
   "codemirror_mode": {
    "name": "ipython",
    "version": 3
   },
   "file_extension": ".py",
   "mimetype": "text/x-python",
   "name": "python",
   "nbconvert_exporter": "python",
   "pygments_lexer": "ipython3",
   "version": "3.7.4"
  }
 },
 "nbformat": 4,
 "nbformat_minor": 2
}
