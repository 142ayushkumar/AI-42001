{
 "cells": [
  {
   "cell_type": "markdown",
   "metadata": {},
   "source": [
    "# Clustering papers based on titles, keywords and topics"
   ]
  },
  {
   "cell_type": "code",
   "execution_count": 1,
   "metadata": {},
   "outputs": [],
   "source": [
    "# importing libraries\n",
    "import numpy as np\n",
    "import matplotlib.pyplot as plt\n",
    "import pandas as pd\n",
    "import re\n",
    "import string\n",
    "import itertools"
   ]
  },
  {
   "cell_type": "code",
   "execution_count": 2,
   "metadata": {},
   "outputs": [],
   "source": [
    "# Reading data from a csv file\n",
    "df_train = pd.read_csv(\"AAAI.csv\")"
   ]
  },
  {
   "cell_type": "code",
   "execution_count": 3,
   "metadata": {},
   "outputs": [
    {
     "data": {
      "text/html": [
       "<div>\n",
       "<style scoped>\n",
       "    .dataframe tbody tr th:only-of-type {\n",
       "        vertical-align: middle;\n",
       "    }\n",
       "\n",
       "    .dataframe tbody tr th {\n",
       "        vertical-align: top;\n",
       "    }\n",
       "\n",
       "    .dataframe thead th {\n",
       "        text-align: right;\n",
       "    }\n",
       "</style>\n",
       "<table border=\"1\" class=\"dataframe\">\n",
       "  <thead>\n",
       "    <tr style=\"text-align: right;\">\n",
       "      <th></th>\n",
       "      <th>Title</th>\n",
       "      <th>Keywords</th>\n",
       "      <th>Topics</th>\n",
       "      <th>High-Level Keyword(s)</th>\n",
       "      <th>Abstract</th>\n",
       "    </tr>\n",
       "  </thead>\n",
       "  <tbody>\n",
       "    <tr>\n",
       "      <td>0</td>\n",
       "      <td>The cascade auction – a mechanism for deterrin...</td>\n",
       "      <td>Mediators\\nAuctions\\nCollusion\\nAd Exchanges</td>\n",
       "      <td>Auctions and Market-Based Systems\\nE-Commerce\\...</td>\n",
       "      <td>Multiagent Systems</td>\n",
       "      <td>We introduce a sealed bid auction of a single ...</td>\n",
       "    </tr>\n",
       "    <tr>\n",
       "      <td>1</td>\n",
       "      <td>Basis Adaptation for Sparse Nonlinear Reinforc...</td>\n",
       "      <td>Reinforcement learning\\nSparsity\\nMirror desce...</td>\n",
       "      <td>Dimension Reduction/Feature Selection\\nOnline ...</td>\n",
       "      <td>Machine Learning</td>\n",
       "      <td>This paper presents a new approach to basis ad...</td>\n",
       "    </tr>\n",
       "    <tr>\n",
       "      <td>2</td>\n",
       "      <td>Optimal Coalition Structures in Cooperative Gr...</td>\n",
       "      <td>Cooperative Game Theory\\nCoalition Structure G...</td>\n",
       "      <td>Coordination and Collaboration\\nGame Theory</td>\n",
       "      <td>Multiagent Systems</td>\n",
       "      <td>Representation  languages for coalitional game...</td>\n",
       "    </tr>\n",
       "    <tr>\n",
       "      <td>3</td>\n",
       "      <td>External Memory Best-First Search for Multiple...</td>\n",
       "      <td>External-Memory Search\\nParallel Search\\nMulti...</td>\n",
       "      <td>Heuristic Search\\nEvaluation and Analysis (Sea...</td>\n",
       "      <td>Heuristic Search and Optimization</td>\n",
       "      <td>Multiple sequence alignment (MSA) is a central...</td>\n",
       "    </tr>\n",
       "    <tr>\n",
       "      <td>4</td>\n",
       "      <td>Posted Prices Exchange for Display Advertising...</td>\n",
       "      <td>Display Advertising\\nDynamic Pricing\\nMarket E...</td>\n",
       "      <td>Auctions and Market-Based Systems\\nE-Commerce\\...</td>\n",
       "      <td>Multiagent Systems</td>\n",
       "      <td>We propose a new market design for display adv...</td>\n",
       "    </tr>\n",
       "    <tr>\n",
       "      <td>...</td>\n",
       "      <td>...</td>\n",
       "      <td>...</td>\n",
       "      <td>...</td>\n",
       "      <td>...</td>\n",
       "      <td>...</td>\n",
       "    </tr>\n",
       "    <tr>\n",
       "      <td>145</td>\n",
       "      <td>Probabilistic Sense Sentiment Similarity throu...</td>\n",
       "      <td>Sentiment Similarity\\nIndirect yse/no Question...</td>\n",
       "      <td>Information Extraction\\nQuestion Answering\\nNa...</td>\n",
       "      <td>Natural Language Processing</td>\n",
       "      <td>Sentiment Similarity of word pairs reflects th...</td>\n",
       "    </tr>\n",
       "    <tr>\n",
       "      <td>146</td>\n",
       "      <td>Strategic Behavior when Allocating Indivisible...</td>\n",
       "      <td>Fair division\\nElicition free protocol\\nBackwa...</td>\n",
       "      <td>Game Theory\\nMechanism Design</td>\n",
       "      <td>Multiagent Systems</td>\n",
       "      <td>We study a simple sequential allocation mechan...</td>\n",
       "    </tr>\n",
       "    <tr>\n",
       "      <td>147</td>\n",
       "      <td>A Pattern Matching Based Graphical Model for Q...</td>\n",
       "      <td>Opinion Question\\nSubjectivity Detection\\nOpin...</td>\n",
       "      <td>Natural Language Processing (General/Other)</td>\n",
       "      <td>Natural Language Processing</td>\n",
       "      <td>This paper presents the results of developing ...</td>\n",
       "    </tr>\n",
       "    <tr>\n",
       "      <td>148</td>\n",
       "      <td>Grounding Natural Language References to Unvis...</td>\n",
       "      <td>Human-robot interaction\\nIntegrated perception...</td>\n",
       "      <td>Natural Language Processing (General/Other)\\nR...</td>\n",
       "      <td>Natural Language Processing</td>\n",
       "      <td>While much research exists on resolving spatia...</td>\n",
       "    </tr>\n",
       "    <tr>\n",
       "      <td>149</td>\n",
       "      <td>Story Generation with Crowdsourced Plot Graphs</td>\n",
       "      <td>Story generation\\nNarrative intelligence\\nKnow...</td>\n",
       "      <td>Knowledge-Based Systems (General/Other)\\nMachi...</td>\n",
       "      <td>Multidisciplinary Topics</td>\n",
       "      <td>Story generation is the problem of automatical...</td>\n",
       "    </tr>\n",
       "  </tbody>\n",
       "</table>\n",
       "<p>150 rows × 5 columns</p>\n",
       "</div>"
      ],
      "text/plain": [
       "                                                 Title  \\\n",
       "0    The cascade auction – a mechanism for deterrin...   \n",
       "1    Basis Adaptation for Sparse Nonlinear Reinforc...   \n",
       "2    Optimal Coalition Structures in Cooperative Gr...   \n",
       "3    External Memory Best-First Search for Multiple...   \n",
       "4    Posted Prices Exchange for Display Advertising...   \n",
       "..                                                 ...   \n",
       "145  Probabilistic Sense Sentiment Similarity throu...   \n",
       "146  Strategic Behavior when Allocating Indivisible...   \n",
       "147  A Pattern Matching Based Graphical Model for Q...   \n",
       "148  Grounding Natural Language References to Unvis...   \n",
       "149     Story Generation with Crowdsourced Plot Graphs   \n",
       "\n",
       "                                              Keywords  \\\n",
       "0         Mediators\\nAuctions\\nCollusion\\nAd Exchanges   \n",
       "1    Reinforcement learning\\nSparsity\\nMirror desce...   \n",
       "2    Cooperative Game Theory\\nCoalition Structure G...   \n",
       "3    External-Memory Search\\nParallel Search\\nMulti...   \n",
       "4    Display Advertising\\nDynamic Pricing\\nMarket E...   \n",
       "..                                                 ...   \n",
       "145  Sentiment Similarity\\nIndirect yse/no Question...   \n",
       "146  Fair division\\nElicition free protocol\\nBackwa...   \n",
       "147  Opinion Question\\nSubjectivity Detection\\nOpin...   \n",
       "148  Human-robot interaction\\nIntegrated perception...   \n",
       "149  Story generation\\nNarrative intelligence\\nKnow...   \n",
       "\n",
       "                                                Topics  \\\n",
       "0    Auctions and Market-Based Systems\\nE-Commerce\\...   \n",
       "1    Dimension Reduction/Feature Selection\\nOnline ...   \n",
       "2          Coordination and Collaboration\\nGame Theory   \n",
       "3    Heuristic Search\\nEvaluation and Analysis (Sea...   \n",
       "4    Auctions and Market-Based Systems\\nE-Commerce\\...   \n",
       "..                                                 ...   \n",
       "145  Information Extraction\\nQuestion Answering\\nNa...   \n",
       "146                      Game Theory\\nMechanism Design   \n",
       "147        Natural Language Processing (General/Other)   \n",
       "148  Natural Language Processing (General/Other)\\nR...   \n",
       "149  Knowledge-Based Systems (General/Other)\\nMachi...   \n",
       "\n",
       "                 High-Level Keyword(s)  \\\n",
       "0                   Multiagent Systems   \n",
       "1                     Machine Learning   \n",
       "2                   Multiagent Systems   \n",
       "3    Heuristic Search and Optimization   \n",
       "4                   Multiagent Systems   \n",
       "..                                 ...   \n",
       "145        Natural Language Processing   \n",
       "146                 Multiagent Systems   \n",
       "147        Natural Language Processing   \n",
       "148        Natural Language Processing   \n",
       "149           Multidisciplinary Topics   \n",
       "\n",
       "                                              Abstract  \n",
       "0    We introduce a sealed bid auction of a single ...  \n",
       "1    This paper presents a new approach to basis ad...  \n",
       "2    Representation  languages for coalitional game...  \n",
       "3    Multiple sequence alignment (MSA) is a central...  \n",
       "4    We propose a new market design for display adv...  \n",
       "..                                                 ...  \n",
       "145  Sentiment Similarity of word pairs reflects th...  \n",
       "146  We study a simple sequential allocation mechan...  \n",
       "147  This paper presents the results of developing ...  \n",
       "148  While much research exists on resolving spatia...  \n",
       "149  Story generation is the problem of automatical...  \n",
       "\n",
       "[150 rows x 5 columns]"
      ]
     },
     "execution_count": 3,
     "metadata": {},
     "output_type": "execute_result"
    }
   ],
   "source": [
    "df_train"
   ]
  },
  {
   "cell_type": "code",
   "execution_count": 4,
   "metadata": {},
   "outputs": [
    {
     "name": "stdout",
     "output_type": "stream",
     "text": [
      "All possible prediction classes are ['Machine Learning', 'Heuristic Search and Optimization', 'Robotics', 'Constraints and Satisfiability', 'Natural Language Processing', 'Reasoning about Plans, Processes, and Actions', 'Multidisciplinary Topics', 'Multiagent Systems', 'Knowledge Representation and Reasoning']\n"
     ]
    }
   ],
   "source": [
    "all_possible_predictions = list(set(df_train[\"High-Level Keyword(s)\"]))\n",
    "print(f\"All possible prediction classes are {all_possible_predictions}\")"
   ]
  },
  {
   "cell_type": "code",
   "execution_count": 5,
   "metadata": {},
   "outputs": [
    {
     "name": "stdout",
     "output_type": "stream",
     "text": [
      "Printing length of clusters:\n",
      "\n",
      "Machine Learning: 45\n",
      "Heuristic Search and Optimization: 9\n",
      "Robotics: 5\n",
      "Constraints and Satisfiability: 10\n",
      "Natural Language Processing: 13\n",
      "Reasoning about Plans, Processes, and Actions: 12\n",
      "Multidisciplinary Topics: 7\n",
      "Multiagent Systems: 32\n",
      "Knowledge Representation and Reasoning: 17\n"
     ]
    }
   ],
   "source": [
    "print(f\"Printing length of clusters:\\n\")\n",
    "for i in all_possible_predictions:\n",
    "    num = df_train[df_train[\"High-Level Keyword(s)\"] == i].shape[0]\n",
    "    print(f\"{i}: {num}\")"
   ]
  },
  {
   "cell_type": "code",
   "execution_count": 6,
   "metadata": {},
   "outputs": [
    {
     "data": {
      "text/plain": [
       "['Machine Learning',\n",
       " 'Multiagent Systems',\n",
       " 'Knowledge Representation and Reasoning',\n",
       " 'Natural Language Processing',\n",
       " 'Reasoning about Plans, Processes, and Actions',\n",
       " 'Constraints and Satisfiability',\n",
       " 'Heuristic Search and Optimization',\n",
       " 'Multidisciplinary Topics',\n",
       " 'Robotics']"
      ]
     },
     "execution_count": 6,
     "metadata": {},
     "output_type": "execute_result"
    }
   ],
   "source": [
    "# sorting all_possible_predictions list on number of predictions in dataset \n",
    "all_possible_predictions = sorted(all_possible_predictions, key = lambda x: df_train[df_train[\"High-Level Keyword(s)\"] == x].shape[0])\n",
    "all_possible_predictions = all_possible_predictions[::-1]\n",
    "all_possible_predictions"
   ]
  },
  {
   "cell_type": "code",
   "execution_count": 7,
   "metadata": {},
   "outputs": [],
   "source": [
    "# Removing the High-Level Keyword(s) column, X_train is the feature vector\n",
    "X_train = df_train.drop(\"High-Level Keyword(s)\", axis=1)"
   ]
  },
  {
   "cell_type": "code",
   "execution_count": 8,
   "metadata": {},
   "outputs": [
    {
     "data": {
      "text/html": [
       "<div>\n",
       "<style scoped>\n",
       "    .dataframe tbody tr th:only-of-type {\n",
       "        vertical-align: middle;\n",
       "    }\n",
       "\n",
       "    .dataframe tbody tr th {\n",
       "        vertical-align: top;\n",
       "    }\n",
       "\n",
       "    .dataframe thead th {\n",
       "        text-align: right;\n",
       "    }\n",
       "</style>\n",
       "<table border=\"1\" class=\"dataframe\">\n",
       "  <thead>\n",
       "    <tr style=\"text-align: right;\">\n",
       "      <th></th>\n",
       "      <th>Title</th>\n",
       "      <th>Keywords</th>\n",
       "      <th>Topics</th>\n",
       "      <th>Abstract</th>\n",
       "    </tr>\n",
       "  </thead>\n",
       "  <tbody>\n",
       "    <tr>\n",
       "      <td>0</td>\n",
       "      <td>The cascade auction – a mechanism for deterrin...</td>\n",
       "      <td>Mediators\\nAuctions\\nCollusion\\nAd Exchanges</td>\n",
       "      <td>Auctions and Market-Based Systems\\nE-Commerce\\...</td>\n",
       "      <td>We introduce a sealed bid auction of a single ...</td>\n",
       "    </tr>\n",
       "    <tr>\n",
       "      <td>1</td>\n",
       "      <td>Basis Adaptation for Sparse Nonlinear Reinforc...</td>\n",
       "      <td>Reinforcement learning\\nSparsity\\nMirror desce...</td>\n",
       "      <td>Dimension Reduction/Feature Selection\\nOnline ...</td>\n",
       "      <td>This paper presents a new approach to basis ad...</td>\n",
       "    </tr>\n",
       "    <tr>\n",
       "      <td>2</td>\n",
       "      <td>Optimal Coalition Structures in Cooperative Gr...</td>\n",
       "      <td>Cooperative Game Theory\\nCoalition Structure G...</td>\n",
       "      <td>Coordination and Collaboration\\nGame Theory</td>\n",
       "      <td>Representation  languages for coalitional game...</td>\n",
       "    </tr>\n",
       "    <tr>\n",
       "      <td>3</td>\n",
       "      <td>External Memory Best-First Search for Multiple...</td>\n",
       "      <td>External-Memory Search\\nParallel Search\\nMulti...</td>\n",
       "      <td>Heuristic Search\\nEvaluation and Analysis (Sea...</td>\n",
       "      <td>Multiple sequence alignment (MSA) is a central...</td>\n",
       "    </tr>\n",
       "    <tr>\n",
       "      <td>4</td>\n",
       "      <td>Posted Prices Exchange for Display Advertising...</td>\n",
       "      <td>Display Advertising\\nDynamic Pricing\\nMarket E...</td>\n",
       "      <td>Auctions and Market-Based Systems\\nE-Commerce\\...</td>\n",
       "      <td>We propose a new market design for display adv...</td>\n",
       "    </tr>\n",
       "    <tr>\n",
       "      <td>...</td>\n",
       "      <td>...</td>\n",
       "      <td>...</td>\n",
       "      <td>...</td>\n",
       "      <td>...</td>\n",
       "    </tr>\n",
       "    <tr>\n",
       "      <td>145</td>\n",
       "      <td>Probabilistic Sense Sentiment Similarity throu...</td>\n",
       "      <td>Sentiment Similarity\\nIndirect yse/no Question...</td>\n",
       "      <td>Information Extraction\\nQuestion Answering\\nNa...</td>\n",
       "      <td>Sentiment Similarity of word pairs reflects th...</td>\n",
       "    </tr>\n",
       "    <tr>\n",
       "      <td>146</td>\n",
       "      <td>Strategic Behavior when Allocating Indivisible...</td>\n",
       "      <td>Fair division\\nElicition free protocol\\nBackwa...</td>\n",
       "      <td>Game Theory\\nMechanism Design</td>\n",
       "      <td>We study a simple sequential allocation mechan...</td>\n",
       "    </tr>\n",
       "    <tr>\n",
       "      <td>147</td>\n",
       "      <td>A Pattern Matching Based Graphical Model for Q...</td>\n",
       "      <td>Opinion Question\\nSubjectivity Detection\\nOpin...</td>\n",
       "      <td>Natural Language Processing (General/Other)</td>\n",
       "      <td>This paper presents the results of developing ...</td>\n",
       "    </tr>\n",
       "    <tr>\n",
       "      <td>148</td>\n",
       "      <td>Grounding Natural Language References to Unvis...</td>\n",
       "      <td>Human-robot interaction\\nIntegrated perception...</td>\n",
       "      <td>Natural Language Processing (General/Other)\\nR...</td>\n",
       "      <td>While much research exists on resolving spatia...</td>\n",
       "    </tr>\n",
       "    <tr>\n",
       "      <td>149</td>\n",
       "      <td>Story Generation with Crowdsourced Plot Graphs</td>\n",
       "      <td>Story generation\\nNarrative intelligence\\nKnow...</td>\n",
       "      <td>Knowledge-Based Systems (General/Other)\\nMachi...</td>\n",
       "      <td>Story generation is the problem of automatical...</td>\n",
       "    </tr>\n",
       "  </tbody>\n",
       "</table>\n",
       "<p>150 rows × 4 columns</p>\n",
       "</div>"
      ],
      "text/plain": [
       "                                                 Title  \\\n",
       "0    The cascade auction – a mechanism for deterrin...   \n",
       "1    Basis Adaptation for Sparse Nonlinear Reinforc...   \n",
       "2    Optimal Coalition Structures in Cooperative Gr...   \n",
       "3    External Memory Best-First Search for Multiple...   \n",
       "4    Posted Prices Exchange for Display Advertising...   \n",
       "..                                                 ...   \n",
       "145  Probabilistic Sense Sentiment Similarity throu...   \n",
       "146  Strategic Behavior when Allocating Indivisible...   \n",
       "147  A Pattern Matching Based Graphical Model for Q...   \n",
       "148  Grounding Natural Language References to Unvis...   \n",
       "149     Story Generation with Crowdsourced Plot Graphs   \n",
       "\n",
       "                                              Keywords  \\\n",
       "0         Mediators\\nAuctions\\nCollusion\\nAd Exchanges   \n",
       "1    Reinforcement learning\\nSparsity\\nMirror desce...   \n",
       "2    Cooperative Game Theory\\nCoalition Structure G...   \n",
       "3    External-Memory Search\\nParallel Search\\nMulti...   \n",
       "4    Display Advertising\\nDynamic Pricing\\nMarket E...   \n",
       "..                                                 ...   \n",
       "145  Sentiment Similarity\\nIndirect yse/no Question...   \n",
       "146  Fair division\\nElicition free protocol\\nBackwa...   \n",
       "147  Opinion Question\\nSubjectivity Detection\\nOpin...   \n",
       "148  Human-robot interaction\\nIntegrated perception...   \n",
       "149  Story generation\\nNarrative intelligence\\nKnow...   \n",
       "\n",
       "                                                Topics  \\\n",
       "0    Auctions and Market-Based Systems\\nE-Commerce\\...   \n",
       "1    Dimension Reduction/Feature Selection\\nOnline ...   \n",
       "2          Coordination and Collaboration\\nGame Theory   \n",
       "3    Heuristic Search\\nEvaluation and Analysis (Sea...   \n",
       "4    Auctions and Market-Based Systems\\nE-Commerce\\...   \n",
       "..                                                 ...   \n",
       "145  Information Extraction\\nQuestion Answering\\nNa...   \n",
       "146                      Game Theory\\nMechanism Design   \n",
       "147        Natural Language Processing (General/Other)   \n",
       "148  Natural Language Processing (General/Other)\\nR...   \n",
       "149  Knowledge-Based Systems (General/Other)\\nMachi...   \n",
       "\n",
       "                                              Abstract  \n",
       "0    We introduce a sealed bid auction of a single ...  \n",
       "1    This paper presents a new approach to basis ad...  \n",
       "2    Representation  languages for coalitional game...  \n",
       "3    Multiple sequence alignment (MSA) is a central...  \n",
       "4    We propose a new market design for display adv...  \n",
       "..                                                 ...  \n",
       "145  Sentiment Similarity of word pairs reflects th...  \n",
       "146  We study a simple sequential allocation mechan...  \n",
       "147  This paper presents the results of developing ...  \n",
       "148  While much research exists on resolving spatia...  \n",
       "149  Story generation is the problem of automatical...  \n",
       "\n",
       "[150 rows x 4 columns]"
      ]
     },
     "execution_count": 8,
     "metadata": {},
     "output_type": "execute_result"
    }
   ],
   "source": [
    "X_train"
   ]
  },
  {
   "cell_type": "markdown",
   "metadata": {},
   "source": [
    "# Cleaning Text "
   ]
  },
  {
   "cell_type": "code",
   "execution_count": 9,
   "metadata": {},
   "outputs": [],
   "source": [
    "def remove_punctuation(s):\n",
    "    '''\n",
    "    s: string \n",
    "    String will be returned by removing punctuations and newline character '\\n' from s\n",
    "    '''\n",
    "    s = s.replace('\\n', ' ')\n",
    "    translator = str.maketrans(string.punctuation, ' '*len(string.punctuation)) #map punctuation to space\n",
    "    s = s.translate(translator)\n",
    "    \n",
    "    # remove redundant spaces after replacing puncutations and newline with spaces\n",
    "    s = re.sub(' +', ' ', s)\n",
    "    return s\n",
    "\n",
    "def clean_df(df):\n",
    "    '''\n",
    "    df: Pandas DataFrame\n",
    "    Inplace changes dataframe\n",
    "    '''\n",
    "    cols = df.columns\n",
    "    for col in cols:\n",
    "        for i in range(len(df[col])):\n",
    "            df[col][i] = remove_punctuation(df[col][i])"
   ]
  },
  {
   "cell_type": "code",
   "execution_count": 10,
   "metadata": {},
   "outputs": [],
   "source": [
    "# Cleaning X_train\n",
    "clean_df(X_train)"
   ]
  },
  {
   "cell_type": "code",
   "execution_count": 11,
   "metadata": {},
   "outputs": [
    {
     "data": {
      "text/plain": [
       "8211"
      ]
     },
     "execution_count": 11,
     "metadata": {},
     "output_type": "execute_result"
    }
   ],
   "source": [
    "ord(df_train[\"Title\"][0][20])"
   ]
  },
  {
   "cell_type": "code",
   "execution_count": 12,
   "metadata": {},
   "outputs": [
    {
     "data": {
      "text/plain": [
       "45"
      ]
     },
     "execution_count": 12,
     "metadata": {},
     "output_type": "execute_result"
    }
   ],
   "source": [
    "ord('-')"
   ]
  },
  {
   "cell_type": "code",
   "execution_count": 13,
   "metadata": {},
   "outputs": [
    {
     "data": {
      "text/plain": [
       "8212"
      ]
     },
     "execution_count": 13,
     "metadata": {},
     "output_type": "execute_result"
    }
   ],
   "source": [
    "ord(df_train[\"Title\"][28][31])"
   ]
  },
  {
   "cell_type": "code",
   "execution_count": 14,
   "metadata": {},
   "outputs": [
    {
     "data": {
      "text/html": [
       "<div>\n",
       "<style scoped>\n",
       "    .dataframe tbody tr th:only-of-type {\n",
       "        vertical-align: middle;\n",
       "    }\n",
       "\n",
       "    .dataframe tbody tr th {\n",
       "        vertical-align: top;\n",
       "    }\n",
       "\n",
       "    .dataframe thead th {\n",
       "        text-align: right;\n",
       "    }\n",
       "</style>\n",
       "<table border=\"1\" class=\"dataframe\">\n",
       "  <thead>\n",
       "    <tr style=\"text-align: right;\">\n",
       "      <th></th>\n",
       "      <th>Title</th>\n",
       "      <th>Keywords</th>\n",
       "      <th>Topics</th>\n",
       "      <th>Abstract</th>\n",
       "    </tr>\n",
       "  </thead>\n",
       "  <tbody>\n",
       "    <tr>\n",
       "      <td>0</td>\n",
       "      <td>The cascade auction – a mechanism for deterrin...</td>\n",
       "      <td>Mediators Auctions Collusion Ad Exchanges</td>\n",
       "      <td>Auctions and Market Based Systems E Commerce G...</td>\n",
       "      <td>We introduce a sealed bid auction of a single ...</td>\n",
       "    </tr>\n",
       "    <tr>\n",
       "      <td>1</td>\n",
       "      <td>Basis Adaptation for Sparse Nonlinear Reinforc...</td>\n",
       "      <td>Reinforcement learning Sparsity Mirror descent...</td>\n",
       "      <td>Dimension Reduction Feature Selection Online L...</td>\n",
       "      <td>This paper presents a new approach to basis ad...</td>\n",
       "    </tr>\n",
       "    <tr>\n",
       "      <td>2</td>\n",
       "      <td>Optimal Coalition Structures in Cooperative Gr...</td>\n",
       "      <td>Cooperative Game Theory Coalition Structure Ge...</td>\n",
       "      <td>Coordination and Collaboration Game Theory</td>\n",
       "      <td>Representation languages for coalitional games...</td>\n",
       "    </tr>\n",
       "    <tr>\n",
       "      <td>3</td>\n",
       "      <td>External Memory Best First Search for Multiple...</td>\n",
       "      <td>External Memory Search Parallel Search Multipl...</td>\n",
       "      <td>Heuristic Search Evaluation and Analysis Searc...</td>\n",
       "      <td>Multiple sequence alignment MSA is a central p...</td>\n",
       "    </tr>\n",
       "    <tr>\n",
       "      <td>4</td>\n",
       "      <td>Posted Prices Exchange for Display Advertising...</td>\n",
       "      <td>Display Advertising Dynamic Pricing Market Equ...</td>\n",
       "      <td>Auctions and Market Based Systems E Commerce M...</td>\n",
       "      <td>We propose a new market design for display adv...</td>\n",
       "    </tr>\n",
       "    <tr>\n",
       "      <td>...</td>\n",
       "      <td>...</td>\n",
       "      <td>...</td>\n",
       "      <td>...</td>\n",
       "      <td>...</td>\n",
       "    </tr>\n",
       "    <tr>\n",
       "      <td>145</td>\n",
       "      <td>Probabilistic Sense Sentiment Similarity throu...</td>\n",
       "      <td>Sentiment Similarity Indirect yse no Question ...</td>\n",
       "      <td>Information Extraction Question Answering Natu...</td>\n",
       "      <td>Sentiment Similarity of word pairs reflects th...</td>\n",
       "    </tr>\n",
       "    <tr>\n",
       "      <td>146</td>\n",
       "      <td>Strategic Behavior when Allocating Indivisible...</td>\n",
       "      <td>Fair division Elicition free protocol Backward...</td>\n",
       "      <td>Game Theory Mechanism Design</td>\n",
       "      <td>We study a simple sequential allocation mechan...</td>\n",
       "    </tr>\n",
       "    <tr>\n",
       "      <td>147</td>\n",
       "      <td>A Pattern Matching Based Graphical Model for Q...</td>\n",
       "      <td>Opinion Question Subjectivity Detection Opinio...</td>\n",
       "      <td>Natural Language Processing General Other</td>\n",
       "      <td>This paper presents the results of developing ...</td>\n",
       "    </tr>\n",
       "    <tr>\n",
       "      <td>148</td>\n",
       "      <td>Grounding Natural Language References to Unvis...</td>\n",
       "      <td>Human robot interaction Integrated perception ...</td>\n",
       "      <td>Natural Language Processing General Other Robo...</td>\n",
       "      <td>While much research exists on resolving spatia...</td>\n",
       "    </tr>\n",
       "    <tr>\n",
       "      <td>149</td>\n",
       "      <td>Story Generation with Crowdsourced Plot Graphs</td>\n",
       "      <td>Story generation Narrative intelligence Knowle...</td>\n",
       "      <td>Knowledge Based Systems General Other Machine ...</td>\n",
       "      <td>Story generation is the problem of automatical...</td>\n",
       "    </tr>\n",
       "  </tbody>\n",
       "</table>\n",
       "<p>150 rows × 4 columns</p>\n",
       "</div>"
      ],
      "text/plain": [
       "                                                 Title  \\\n",
       "0    The cascade auction – a mechanism for deterrin...   \n",
       "1    Basis Adaptation for Sparse Nonlinear Reinforc...   \n",
       "2    Optimal Coalition Structures in Cooperative Gr...   \n",
       "3    External Memory Best First Search for Multiple...   \n",
       "4    Posted Prices Exchange for Display Advertising...   \n",
       "..                                                 ...   \n",
       "145  Probabilistic Sense Sentiment Similarity throu...   \n",
       "146  Strategic Behavior when Allocating Indivisible...   \n",
       "147  A Pattern Matching Based Graphical Model for Q...   \n",
       "148  Grounding Natural Language References to Unvis...   \n",
       "149     Story Generation with Crowdsourced Plot Graphs   \n",
       "\n",
       "                                              Keywords  \\\n",
       "0            Mediators Auctions Collusion Ad Exchanges   \n",
       "1    Reinforcement learning Sparsity Mirror descent...   \n",
       "2    Cooperative Game Theory Coalition Structure Ge...   \n",
       "3    External Memory Search Parallel Search Multipl...   \n",
       "4    Display Advertising Dynamic Pricing Market Equ...   \n",
       "..                                                 ...   \n",
       "145  Sentiment Similarity Indirect yse no Question ...   \n",
       "146  Fair division Elicition free protocol Backward...   \n",
       "147  Opinion Question Subjectivity Detection Opinio...   \n",
       "148  Human robot interaction Integrated perception ...   \n",
       "149  Story generation Narrative intelligence Knowle...   \n",
       "\n",
       "                                                Topics  \\\n",
       "0    Auctions and Market Based Systems E Commerce G...   \n",
       "1    Dimension Reduction Feature Selection Online L...   \n",
       "2           Coordination and Collaboration Game Theory   \n",
       "3    Heuristic Search Evaluation and Analysis Searc...   \n",
       "4    Auctions and Market Based Systems E Commerce M...   \n",
       "..                                                 ...   \n",
       "145  Information Extraction Question Answering Natu...   \n",
       "146                       Game Theory Mechanism Design   \n",
       "147         Natural Language Processing General Other    \n",
       "148  Natural Language Processing General Other Robo...   \n",
       "149  Knowledge Based Systems General Other Machine ...   \n",
       "\n",
       "                                              Abstract  \n",
       "0    We introduce a sealed bid auction of a single ...  \n",
       "1    This paper presents a new approach to basis ad...  \n",
       "2    Representation languages for coalitional games...  \n",
       "3    Multiple sequence alignment MSA is a central p...  \n",
       "4    We propose a new market design for display adv...  \n",
       "..                                                 ...  \n",
       "145  Sentiment Similarity of word pairs reflects th...  \n",
       "146  We study a simple sequential allocation mechan...  \n",
       "147  This paper presents the results of developing ...  \n",
       "148  While much research exists on resolving spatia...  \n",
       "149  Story generation is the problem of automatical...  \n",
       "\n",
       "[150 rows x 4 columns]"
      ]
     },
     "execution_count": 14,
     "metadata": {},
     "output_type": "execute_result"
    }
   ],
   "source": [
    "X_train"
   ]
  },
  {
   "cell_type": "markdown",
   "metadata": {},
   "source": [
    "# Utility Funcitons ( Jacardian Similarity, getting thresholds etc.)"
   ]
  },
  {
   "cell_type": "markdown",
   "metadata": {},
   "source": [
    "JC = $\\dfrac{H \\cap S}{H \\cup S}$"
   ]
  },
  {
   "cell_type": "code",
   "execution_count": 17,
   "metadata": {},
   "outputs": [],
   "source": [
    "def Intersection(H, S):\n",
    "    '''\n",
    "    Returns a list Intersection of H and S set\n",
    "    '''\n",
    "    return set(H) - (set(H) - set(S))\n",
    "\n",
    "def Union(H, S):\n",
    "    '''\n",
    "    Returns a list of union of H and S set\n",
    "    '''\n",
    "    return set(H + S)\n",
    "\n",
    "def Jacardian_score(H, S):\n",
    "    '''\n",
    "    Returns jacardian similarity\n",
    "    '''\n",
    "    if len(Union(H, S)) == 0:\n",
    "        print(f\"Empty H and S Passed\")\n",
    "        return 0\n",
    "    return len(Intersection(H, S))/ len(Union(H, S))\n",
    "\n",
    "def dist(H, S):\n",
    "    '''\n",
    "        Returns 1- Jacardian Score\n",
    "    '''\n",
    "    return 1 - Jacardian_score(H, S)\n",
    "\n",
    "def calc_dist(a, b, f, X):\n",
    "    '''\n",
    "    a: list of indices of cluster from X which belongs to one segment\n",
    "    b: list of indices of cluster from X which belongs to one segment\n",
    "    f: funtion, for single use min, multi use max\n",
    "    Uses function dist to calculate jacardian distance between two clusters a and b\n",
    "    '''\n",
    "    distances = []\n",
    "    for i in a:\n",
    "        for j in b:\n",
    "            distances.append(dist(X[i], X[j]))\n",
    "    return f(distances)"
   ]
  },
  {
   "cell_type": "code",
   "execution_count": 18,
   "metadata": {},
   "outputs": [],
   "source": [
    "def get_accuracy(df_train, clusters, all_possible_predictions):\n",
    "    '''\n",
    "    cluster: List of list of indices in clusters\n",
    "    labels: df_train[\"High-Level Keyword(s)\"] to calculate accuracy\n",
    "    Returns accuracy\n",
    "    '''\n",
    "    mp = dict()\n",
    "    used_col = []\n",
    "    i = 1\n",
    "    for cluster in clusters:\n",
    "        score = 0\n",
    "        col = \"\"\n",
    "        for x in all_possible_predictions:\n",
    "            if x not in used_col:\n",
    "                col = x\n",
    "                break\n",
    "        temp = dict()\n",
    "        for z in cluster:\n",
    "            key = df_train[\"High-Level Keyword(s)\"][i]\n",
    "            if key in used_col:\n",
    "                continue\n",
    "            if key not in temp:\n",
    "                temp[key] = 1\n",
    "            else:\n",
    "                temp[key] += 1\n",
    "            if temp[key] > score:\n",
    "                score = temp[key]\n",
    "                col = key\n",
    "        mp[i] = col\n",
    "        used_col.append(col)\n",
    "        i += 1\n",
    "    correct_pred = 0\n",
    "    for j, cluster in enumerate(clusters):\n",
    "        for z in cluster:\n",
    "            if df_train[\"High-Level Keyword(s)\"][z] == mp[j+1]:\n",
    "                correct_pred += 1\n",
    "    acc = correct_pred / df_train.shape[0]\n",
    "    print(mp)\n",
    "#     perm = list(range(1, 10))\n",
    "#     perms = list(itertools.permutations(perm))\n",
    "#     max_acc = 0\n",
    "#     for perm in perms:\n",
    "#         curr_score = 0\n",
    "#         for i, cluster in enumerate(clusters):\n",
    "#             for z in cluster:\n",
    "#                 if df_train[\"High-Level Keyword(s)\"][z] == perm[i]:\n",
    "#                     curr_score += 1\n",
    "#         max_acc = max(curr_score, max_acc)\n",
    "#     max_acc = max_acc/df_train.shape[0]\n",
    "    return acc"
   ]
  },
  {
   "cell_type": "markdown",
   "metadata": {},
   "source": [
    "# Agglomerative Clustering"
   ]
  },
  {
   "cell_type": "code",
   "execution_count": 19,
   "metadata": {},
   "outputs": [],
   "source": [
    "def agglomerative_clustering_single(X_train, n_cluster):\n",
    "    '''\n",
    "    X_train: Training dataset on which it will calculate similarity\n",
    "    n_cluster: Number of clusters required\n",
    "    Returns a cluster list which will contain informations of clusters\n",
    "    '''\n",
    "    #Every points in datset is a single cluster initially\n",
    "    clusters = []\n",
    "    for i in range(len(X_train)):\n",
    "        clusters.append([i])\n",
    "    # curr cluster is number of current clusters, dist_store will store distances\n",
    "    curr_clusters = len(X_train)\n",
    "    dist_store = []\n",
    "    while curr_clusters > n_cluster:\n",
    "        dist_store.clear()\n",
    "        for i in range(curr_clusters):\n",
    "            for j in range(i+1, curr_clusters):\n",
    "                dist_store.append([calc_dist(clusters[i], clusters[j], min, X_train), j, i])\n",
    "        # sorting distances in ascending order and merging two lists having min distances\n",
    "        dist_store = sorted(dist_store, key = lambda x:x[0])\n",
    "        # now merge first one\n",
    "        to_merge = dist_store[0]\n",
    "        clusters[to_merge[1]].extend(clusters[to_merge[2]])\n",
    "        del clusters[to_merge[2]]\n",
    "        curr_clusters -= 1\n",
    "    clusters = sorted(clusters, key = lambda x: len(x))\n",
    "    clusters = clusters[::-1]\n",
    "    return clusters\n",
    "    "
   ]
  },
  {
   "cell_type": "code",
   "execution_count": 20,
   "metadata": {},
   "outputs": [],
   "source": [
    "def agglomerative_clustering_multi(X_train, n_cluster):\n",
    "    '''\n",
    "    X_train: Training dataset on which it will calculate similarity\n",
    "    n_cluster: Number of clusters required\n",
    "    Returns a cluster list which will contain informations of clusters\n",
    "    '''\n",
    "    #Every points in datset is a single cluster initially\n",
    "    clusters = []\n",
    "    for i in range(len(X_train)):\n",
    "        clusters.append([i])\n",
    "    # curr cluster is number of current clusters, dist_store will store distances\n",
    "    curr_clusters = len(X_train)\n",
    "    dist_store = []\n",
    "    while curr_clusters > n_cluster:\n",
    "        dist_store.clear()\n",
    "        for i in range(curr_clusters):\n",
    "            for j in range(i+1, curr_clusters):\n",
    "                dist_store.append([calc_dist(clusters[i], clusters[j], max, X_train), j, i])\n",
    "        # sorting distances in ascending order and merging two lists having min distances\n",
    "        dist_store = sorted(dist_store, key = lambda x:x[0])\n",
    "        # now merge first one\n",
    "        to_merge = dist_store[0]\n",
    "        clusters[to_merge[1]].extend(clusters[to_merge[2]])\n",
    "        del clusters[to_merge[2]]\n",
    "        curr_clusters -= 1\n",
    "    clusters = sorted(clusters, key = lambda x: len(x))\n",
    "    clusters = clusters[::-1]\n",
    "    return clusters\n",
    "    "
   ]
  },
  {
   "cell_type": "markdown",
   "metadata": {},
   "source": [
    "# Clustering based on Title"
   ]
  },
  {
   "cell_type": "code",
   "execution_count": 21,
   "metadata": {},
   "outputs": [],
   "source": [
    "X_title = X_train[\"Title\"].str.split(\" \")"
   ]
  },
  {
   "cell_type": "code",
   "execution_count": 22,
   "metadata": {},
   "outputs": [
    {
     "data": {
      "text/plain": [
       "['Optimal', 'Coalition', 'Structures', 'in', 'Cooperative', 'Graph', 'Games']"
      ]
     },
     "execution_count": 22,
     "metadata": {},
     "output_type": "execute_result"
    }
   ],
   "source": [
    "X_title[2]"
   ]
  },
  {
   "cell_type": "code",
   "execution_count": null,
   "metadata": {},
   "outputs": [],
   "source": []
  },
  {
   "cell_type": "code",
   "execution_count": 23,
   "metadata": {
    "scrolled": false
   },
   "outputs": [],
   "source": [
    "title_pred_single = agglomerative_clustering_single(X_title, 9)"
   ]
  },
  {
   "cell_type": "code",
   "execution_count": 24,
   "metadata": {},
   "outputs": [
    {
     "name": "stdout",
     "output_type": "stream",
     "text": [
      "{1: 'Machine Learning', 2: 'Multiagent Systems', 3: 'Heuristic Search and Optimization', 4: 'Knowledge Representation and Reasoning', 5: 'Robotics', 6: 'Natural Language Processing', 7: 'Reasoning about Plans, Processes, and Actions', 8: 'Constraints and Satisfiability', 9: 'Multidisciplinary Topics'}\n"
     ]
    },
    {
     "data": {
      "text/plain": [
       "0.2866666666666667"
      ]
     },
     "execution_count": 24,
     "metadata": {},
     "output_type": "execute_result"
    }
   ],
   "source": [
    "get_accuracy(df_train, title_pred_single, all_possible_predictions)"
   ]
  },
  {
   "cell_type": "code",
   "execution_count": 25,
   "metadata": {},
   "outputs": [],
   "source": [
    "title_pred_multi = agglomerative_clustering_multi(X_title, 9)"
   ]
  },
  {
   "cell_type": "code",
   "execution_count": 26,
   "metadata": {},
   "outputs": [
    {
     "name": "stdout",
     "output_type": "stream",
     "text": [
      "{1: 'Machine Learning', 2: 'Multiagent Systems', 3: 'Heuristic Search and Optimization', 4: 'Knowledge Representation and Reasoning', 5: 'Robotics', 6: 'Natural Language Processing', 7: 'Reasoning about Plans, Processes, and Actions', 8: 'Constraints and Satisfiability', 9: 'Multidisciplinary Topics'}\n"
     ]
    },
    {
     "data": {
      "text/plain": [
       "0.22"
      ]
     },
     "execution_count": 26,
     "metadata": {},
     "output_type": "execute_result"
    }
   ],
   "source": [
    "get_accuracy(df_train, title_pred_multi, all_possible_predictions)"
   ]
  },
  {
   "cell_type": "markdown",
   "metadata": {},
   "source": [
    "# Clustering based on Keywords"
   ]
  },
  {
   "cell_type": "code",
   "execution_count": 27,
   "metadata": {},
   "outputs": [],
   "source": [
    "X_keywords = X_train[\"Keywords\"].str.split(\" \")"
   ]
  },
  {
   "cell_type": "code",
   "execution_count": 28,
   "metadata": {},
   "outputs": [],
   "source": [
    "keywords_pred_single = agglomerative_clustering_single(X_keywords, 9)"
   ]
  },
  {
   "cell_type": "code",
   "execution_count": 29,
   "metadata": {},
   "outputs": [
    {
     "name": "stdout",
     "output_type": "stream",
     "text": [
      "{1: 'Machine Learning', 2: 'Multiagent Systems', 3: 'Heuristic Search and Optimization', 4: 'Knowledge Representation and Reasoning', 5: 'Robotics', 6: 'Natural Language Processing', 7: 'Reasoning about Plans, Processes, and Actions', 8: 'Constraints and Satisfiability', 9: 'Multidisciplinary Topics'}\n"
     ]
    },
    {
     "data": {
      "text/plain": [
       "0.29333333333333333"
      ]
     },
     "execution_count": 29,
     "metadata": {},
     "output_type": "execute_result"
    }
   ],
   "source": [
    "get_accuracy(df_train, keywords_pred_single, all_possible_predictions)"
   ]
  },
  {
   "cell_type": "code",
   "execution_count": 30,
   "metadata": {},
   "outputs": [],
   "source": [
    "keywords_pred_multi = agglomerative_clustering_multi(X_keywords, 9)"
   ]
  },
  {
   "cell_type": "code",
   "execution_count": 31,
   "metadata": {},
   "outputs": [
    {
     "name": "stdout",
     "output_type": "stream",
     "text": [
      "{1: 'Machine Learning', 2: 'Multiagent Systems', 3: 'Heuristic Search and Optimization', 4: 'Knowledge Representation and Reasoning', 5: 'Robotics', 6: 'Natural Language Processing', 7: 'Reasoning about Plans, Processes, and Actions', 8: 'Constraints and Satisfiability', 9: 'Multidisciplinary Topics'}\n"
     ]
    },
    {
     "data": {
      "text/plain": [
       "0.22"
      ]
     },
     "execution_count": 31,
     "metadata": {},
     "output_type": "execute_result"
    }
   ],
   "source": [
    "get_accuracy(df_train, keywords_pred_multi, all_possible_predictions)"
   ]
  },
  {
   "cell_type": "markdown",
   "metadata": {},
   "source": [
    "# Clustering on Topics"
   ]
  },
  {
   "cell_type": "code",
   "execution_count": 32,
   "metadata": {},
   "outputs": [],
   "source": [
    "X_topics = X_train[\"Topics\"].str.split(\" \")"
   ]
  },
  {
   "cell_type": "code",
   "execution_count": 33,
   "metadata": {},
   "outputs": [],
   "source": [
    "topics_pred_single = agglomerative_clustering_single(X_topics, 9)"
   ]
  },
  {
   "cell_type": "code",
   "execution_count": 34,
   "metadata": {},
   "outputs": [
    {
     "name": "stdout",
     "output_type": "stream",
     "text": [
      "{1: 'Machine Learning', 2: 'Multiagent Systems', 3: 'Heuristic Search and Optimization', 4: 'Knowledge Representation and Reasoning', 5: 'Robotics', 6: 'Natural Language Processing', 7: 'Reasoning about Plans, Processes, and Actions', 8: 'Constraints and Satisfiability', 9: 'Multidisciplinary Topics'}\n"
     ]
    },
    {
     "data": {
      "text/plain": [
       "0.29333333333333333"
      ]
     },
     "execution_count": 34,
     "metadata": {},
     "output_type": "execute_result"
    }
   ],
   "source": [
    "get_accuracy(df_train, topics_pred_single, all_possible_predictions)"
   ]
  },
  {
   "cell_type": "code",
   "execution_count": 35,
   "metadata": {},
   "outputs": [],
   "source": [
    "topics_pred_multi = agglomerative_clustering_multi(X_topics, 9)"
   ]
  },
  {
   "cell_type": "code",
   "execution_count": 36,
   "metadata": {},
   "outputs": [
    {
     "name": "stdout",
     "output_type": "stream",
     "text": [
      "{1: 'Machine Learning', 2: 'Multiagent Systems', 3: 'Heuristic Search and Optimization', 4: 'Knowledge Representation and Reasoning', 5: 'Robotics', 6: 'Natural Language Processing', 7: 'Reasoning about Plans, Processes, and Actions', 8: 'Constraints and Satisfiability', 9: 'Multidisciplinary Topics'}\n"
     ]
    },
    {
     "data": {
      "text/plain": [
       "0.12666666666666668"
      ]
     },
     "execution_count": 36,
     "metadata": {},
     "output_type": "execute_result"
    }
   ],
   "source": [
    "get_accuracy(df_train, topics_pred_multi, all_possible_predictions)"
   ]
  },
  {
   "cell_type": "code",
   "execution_count": 37,
   "metadata": {},
   "outputs": [
    {
     "data": {
      "text/plain": [
       "['Machine Learning',\n",
       " 'Multiagent Systems',\n",
       " 'Knowledge Representation and Reasoning',\n",
       " 'Natural Language Processing',\n",
       " 'Reasoning about Plans, Processes, and Actions',\n",
       " 'Constraints and Satisfiability',\n",
       " 'Heuristic Search and Optimization',\n",
       " 'Multidisciplinary Topics',\n",
       " 'Robotics']"
      ]
     },
     "execution_count": 37,
     "metadata": {},
     "output_type": "execute_result"
    }
   ],
   "source": [
    "all_possible_predictions"
   ]
  },
  {
   "cell_type": "code",
   "execution_count": 38,
   "metadata": {},
   "outputs": [
    {
     "data": {
      "text/plain": [
       "[[123,\n",
       "  76,\n",
       "  116,\n",
       "  86,\n",
       "  70,\n",
       "  50,\n",
       "  39,\n",
       "  121,\n",
       "  24,\n",
       "  87,\n",
       "  4,\n",
       "  0,\n",
       "  111,\n",
       "  43,\n",
       "  103,\n",
       "  102,\n",
       "  42,\n",
       "  32,\n",
       "  109,\n",
       "  72,\n",
       "  69,\n",
       "  51,\n",
       "  106,\n",
       "  1,\n",
       "  79,\n",
       "  100,\n",
       "  91,\n",
       "  94,\n",
       "  11,\n",
       "  89,\n",
       "  41,\n",
       "  25,\n",
       "  88,\n",
       "  83,\n",
       "  47],\n",
       " [148,\n",
       "  147,\n",
       "  64,\n",
       "  145,\n",
       "  90,\n",
       "  61,\n",
       "  141,\n",
       "  115,\n",
       "  57,\n",
       "  75,\n",
       "  142,\n",
       "  38,\n",
       "  108,\n",
       "  82,\n",
       "  58,\n",
       "  122,\n",
       "  120,\n",
       "  139,\n",
       "  34,\n",
       "  107,\n",
       "  134,\n",
       "  113,\n",
       "  48,\n",
       "  92,\n",
       "  62,\n",
       "  118,\n",
       "  105,\n",
       "  77,\n",
       "  85,\n",
       "  23],\n",
       " [132,\n",
       "  126,\n",
       "  96,\n",
       "  2,\n",
       "  20,\n",
       "  124,\n",
       "  110,\n",
       "  22,\n",
       "  84,\n",
       "  60,\n",
       "  46,\n",
       "  104,\n",
       "  78,\n",
       "  59,\n",
       "  35,\n",
       "  7,\n",
       "  15,\n",
       "  119,\n",
       "  114,\n",
       "  93,\n",
       "  56,\n",
       "  33,\n",
       "  5,\n",
       "  127,\n",
       "  13,\n",
       "  66,\n",
       "  26,\n",
       "  99,\n",
       "  30,\n",
       "  3],\n",
       " [149,\n",
       "  125,\n",
       "  21,\n",
       "  65,\n",
       "  63,\n",
       "  54,\n",
       "  9,\n",
       "  98,\n",
       "  45,\n",
       "  40,\n",
       "  14,\n",
       "  144,\n",
       "  36,\n",
       "  12,\n",
       "  143,\n",
       "  138,\n",
       "  137,\n",
       "  133,\n",
       "  117,\n",
       "  80,\n",
       "  16,\n",
       "  27,\n",
       "  101,\n",
       "  6,\n",
       "  97],\n",
       " [140, 37, 10, 135, 49, 17, 68, 31, 55, 19, 8],\n",
       " [131, 81, 74, 112, 28, 128, 73, 53],\n",
       " [146, 18, 136, 95, 29, 67],\n",
       " [129, 71, 52],\n",
       " [130, 44]]"
      ]
     },
     "execution_count": 38,
     "metadata": {},
     "output_type": "execute_result"
    }
   ],
   "source": [
    "topics_pred_multi"
   ]
  },
  {
   "cell_type": "code",
   "execution_count": 39,
   "metadata": {},
   "outputs": [
    {
     "data": {
      "text/plain": [
       "'Machine Learning'"
      ]
     },
     "execution_count": 39,
     "metadata": {},
     "output_type": "execute_result"
    }
   ],
   "source": [
    "df_train[\"High-Level Keyword(s)\"][1]"
   ]
  },
  {
   "cell_type": "markdown",
   "metadata": {},
   "source": [
    "# Clustering on Abstract"
   ]
  },
  {
   "cell_type": "code",
   "execution_count": 40,
   "metadata": {},
   "outputs": [],
   "source": [
    "X_abstract = X_train[\"Abstract\"].str.split(\" \")"
   ]
  },
  {
   "cell_type": "code",
   "execution_count": 41,
   "metadata": {},
   "outputs": [
    {
     "ename": "KeyboardInterrupt",
     "evalue": "",
     "output_type": "error",
     "traceback": [
      "\u001b[1;31m---------------------------------------------------------------------------\u001b[0m",
      "\u001b[1;31mKeyboardInterrupt\u001b[0m                         Traceback (most recent call last)",
      "\u001b[1;32m<ipython-input-41-1a85d3302c3c>\u001b[0m in \u001b[0;36m<module>\u001b[1;34m\u001b[0m\n\u001b[1;32m----> 1\u001b[1;33m \u001b[0mabstract_pred_single\u001b[0m \u001b[1;33m=\u001b[0m \u001b[0magglomerative_clustering_single\u001b[0m\u001b[1;33m(\u001b[0m\u001b[0mX_abstract\u001b[0m\u001b[1;33m,\u001b[0m \u001b[1;36m9\u001b[0m\u001b[1;33m)\u001b[0m\u001b[1;33m\u001b[0m\u001b[1;33m\u001b[0m\u001b[0m\n\u001b[0m",
      "\u001b[1;32m<ipython-input-19-bd9b869f2b03>\u001b[0m in \u001b[0;36magglomerative_clustering_single\u001b[1;34m(X_train, n_cluster)\u001b[0m\n\u001b[0;32m     16\u001b[0m         \u001b[1;32mfor\u001b[0m \u001b[0mi\u001b[0m \u001b[1;32min\u001b[0m \u001b[0mrange\u001b[0m\u001b[1;33m(\u001b[0m\u001b[0mcurr_clusters\u001b[0m\u001b[1;33m)\u001b[0m\u001b[1;33m:\u001b[0m\u001b[1;33m\u001b[0m\u001b[1;33m\u001b[0m\u001b[0m\n\u001b[0;32m     17\u001b[0m             \u001b[1;32mfor\u001b[0m \u001b[0mj\u001b[0m \u001b[1;32min\u001b[0m \u001b[0mrange\u001b[0m\u001b[1;33m(\u001b[0m\u001b[0mi\u001b[0m\u001b[1;33m+\u001b[0m\u001b[1;36m1\u001b[0m\u001b[1;33m,\u001b[0m \u001b[0mcurr_clusters\u001b[0m\u001b[1;33m)\u001b[0m\u001b[1;33m:\u001b[0m\u001b[1;33m\u001b[0m\u001b[1;33m\u001b[0m\u001b[0m\n\u001b[1;32m---> 18\u001b[1;33m                 \u001b[0mdist_store\u001b[0m\u001b[1;33m.\u001b[0m\u001b[0mappend\u001b[0m\u001b[1;33m(\u001b[0m\u001b[1;33m[\u001b[0m\u001b[0mcalc_dist\u001b[0m\u001b[1;33m(\u001b[0m\u001b[0mclusters\u001b[0m\u001b[1;33m[\u001b[0m\u001b[0mi\u001b[0m\u001b[1;33m]\u001b[0m\u001b[1;33m,\u001b[0m \u001b[0mclusters\u001b[0m\u001b[1;33m[\u001b[0m\u001b[0mj\u001b[0m\u001b[1;33m]\u001b[0m\u001b[1;33m,\u001b[0m \u001b[0mmin\u001b[0m\u001b[1;33m,\u001b[0m \u001b[0mX_train\u001b[0m\u001b[1;33m)\u001b[0m\u001b[1;33m,\u001b[0m \u001b[0mj\u001b[0m\u001b[1;33m,\u001b[0m \u001b[0mi\u001b[0m\u001b[1;33m]\u001b[0m\u001b[1;33m)\u001b[0m\u001b[1;33m\u001b[0m\u001b[1;33m\u001b[0m\u001b[0m\n\u001b[0m\u001b[0;32m     19\u001b[0m         \u001b[1;31m# sorting distances in ascending order and merging two lists having min distances\u001b[0m\u001b[1;33m\u001b[0m\u001b[1;33m\u001b[0m\u001b[1;33m\u001b[0m\u001b[0m\n\u001b[0;32m     20\u001b[0m         \u001b[0mdist_store\u001b[0m \u001b[1;33m=\u001b[0m \u001b[0msorted\u001b[0m\u001b[1;33m(\u001b[0m\u001b[0mdist_store\u001b[0m\u001b[1;33m,\u001b[0m \u001b[0mkey\u001b[0m \u001b[1;33m=\u001b[0m \u001b[1;32mlambda\u001b[0m \u001b[0mx\u001b[0m\u001b[1;33m:\u001b[0m\u001b[0mx\u001b[0m\u001b[1;33m[\u001b[0m\u001b[1;36m0\u001b[0m\u001b[1;33m]\u001b[0m\u001b[1;33m)\u001b[0m\u001b[1;33m\u001b[0m\u001b[1;33m\u001b[0m\u001b[0m\n",
      "\u001b[1;32m<ipython-input-17-b4b83bffb5bb>\u001b[0m in \u001b[0;36mcalc_dist\u001b[1;34m(a, b, f, X)\u001b[0m\n\u001b[0;32m     36\u001b[0m     \u001b[1;32mfor\u001b[0m \u001b[0mi\u001b[0m \u001b[1;32min\u001b[0m \u001b[0ma\u001b[0m\u001b[1;33m:\u001b[0m\u001b[1;33m\u001b[0m\u001b[1;33m\u001b[0m\u001b[0m\n\u001b[0;32m     37\u001b[0m         \u001b[1;32mfor\u001b[0m \u001b[0mj\u001b[0m \u001b[1;32min\u001b[0m \u001b[0mb\u001b[0m\u001b[1;33m:\u001b[0m\u001b[1;33m\u001b[0m\u001b[1;33m\u001b[0m\u001b[0m\n\u001b[1;32m---> 38\u001b[1;33m             \u001b[0mdistances\u001b[0m\u001b[1;33m.\u001b[0m\u001b[0mappend\u001b[0m\u001b[1;33m(\u001b[0m\u001b[0mdist\u001b[0m\u001b[1;33m(\u001b[0m\u001b[0mX\u001b[0m\u001b[1;33m[\u001b[0m\u001b[0mi\u001b[0m\u001b[1;33m]\u001b[0m\u001b[1;33m,\u001b[0m \u001b[0mX\u001b[0m\u001b[1;33m[\u001b[0m\u001b[0mj\u001b[0m\u001b[1;33m]\u001b[0m\u001b[1;33m)\u001b[0m\u001b[1;33m)\u001b[0m\u001b[1;33m\u001b[0m\u001b[1;33m\u001b[0m\u001b[0m\n\u001b[0m\u001b[0;32m     39\u001b[0m     \u001b[1;32mreturn\u001b[0m \u001b[0mf\u001b[0m\u001b[1;33m(\u001b[0m\u001b[0mdistances\u001b[0m\u001b[1;33m)\u001b[0m\u001b[1;33m\u001b[0m\u001b[1;33m\u001b[0m\u001b[0m\n",
      "\u001b[1;32m<ipython-input-17-b4b83bffb5bb>\u001b[0m in \u001b[0;36mdist\u001b[1;34m(H, S)\u001b[0m\n\u001b[0;32m     24\u001b[0m         \u001b[0mReturns\u001b[0m \u001b[1;36m1\u001b[0m\u001b[1;33m-\u001b[0m \u001b[0mJacardian\u001b[0m \u001b[0mScore\u001b[0m\u001b[1;33m\u001b[0m\u001b[1;33m\u001b[0m\u001b[0m\n\u001b[0;32m     25\u001b[0m     '''\n\u001b[1;32m---> 26\u001b[1;33m     \u001b[1;32mreturn\u001b[0m \u001b[1;36m1\u001b[0m \u001b[1;33m-\u001b[0m \u001b[0mJacardian_score\u001b[0m\u001b[1;33m(\u001b[0m\u001b[0mH\u001b[0m\u001b[1;33m,\u001b[0m \u001b[0mS\u001b[0m\u001b[1;33m)\u001b[0m\u001b[1;33m\u001b[0m\u001b[1;33m\u001b[0m\u001b[0m\n\u001b[0m\u001b[0;32m     27\u001b[0m \u001b[1;33m\u001b[0m\u001b[0m\n\u001b[0;32m     28\u001b[0m \u001b[1;32mdef\u001b[0m \u001b[0mcalc_dist\u001b[0m\u001b[1;33m(\u001b[0m\u001b[0ma\u001b[0m\u001b[1;33m,\u001b[0m \u001b[0mb\u001b[0m\u001b[1;33m,\u001b[0m \u001b[0mf\u001b[0m\u001b[1;33m,\u001b[0m \u001b[0mX\u001b[0m\u001b[1;33m)\u001b[0m\u001b[1;33m:\u001b[0m\u001b[1;33m\u001b[0m\u001b[1;33m\u001b[0m\u001b[0m\n",
      "\u001b[1;32m<ipython-input-17-b4b83bffb5bb>\u001b[0m in \u001b[0;36mJacardian_score\u001b[1;34m(H, S)\u001b[0m\n\u001b[0;32m     18\u001b[0m         \u001b[0mprint\u001b[0m\u001b[1;33m(\u001b[0m\u001b[1;34mf\"Empty H and S Passed\"\u001b[0m\u001b[1;33m)\u001b[0m\u001b[1;33m\u001b[0m\u001b[1;33m\u001b[0m\u001b[0m\n\u001b[0;32m     19\u001b[0m         \u001b[1;32mreturn\u001b[0m \u001b[1;36m0\u001b[0m\u001b[1;33m\u001b[0m\u001b[1;33m\u001b[0m\u001b[0m\n\u001b[1;32m---> 20\u001b[1;33m     \u001b[1;32mreturn\u001b[0m \u001b[0mlen\u001b[0m\u001b[1;33m(\u001b[0m\u001b[0mIntersection\u001b[0m\u001b[1;33m(\u001b[0m\u001b[0mH\u001b[0m\u001b[1;33m,\u001b[0m \u001b[0mS\u001b[0m\u001b[1;33m)\u001b[0m\u001b[1;33m)\u001b[0m\u001b[1;33m/\u001b[0m \u001b[0mlen\u001b[0m\u001b[1;33m(\u001b[0m\u001b[0mUnion\u001b[0m\u001b[1;33m(\u001b[0m\u001b[0mH\u001b[0m\u001b[1;33m,\u001b[0m \u001b[0mS\u001b[0m\u001b[1;33m)\u001b[0m\u001b[1;33m)\u001b[0m\u001b[1;33m\u001b[0m\u001b[1;33m\u001b[0m\u001b[0m\n\u001b[0m\u001b[0;32m     21\u001b[0m \u001b[1;33m\u001b[0m\u001b[0m\n\u001b[0;32m     22\u001b[0m \u001b[1;32mdef\u001b[0m \u001b[0mdist\u001b[0m\u001b[1;33m(\u001b[0m\u001b[0mH\u001b[0m\u001b[1;33m,\u001b[0m \u001b[0mS\u001b[0m\u001b[1;33m)\u001b[0m\u001b[1;33m:\u001b[0m\u001b[1;33m\u001b[0m\u001b[1;33m\u001b[0m\u001b[0m\n",
      "\u001b[1;32m<ipython-input-17-b4b83bffb5bb>\u001b[0m in \u001b[0;36mIntersection\u001b[1;34m(H, S)\u001b[0m\n\u001b[0;32m      3\u001b[0m     \u001b[0mReturns\u001b[0m \u001b[0ma\u001b[0m \u001b[0mlist\u001b[0m \u001b[0mIntersection\u001b[0m \u001b[0mof\u001b[0m \u001b[0mH\u001b[0m \u001b[1;32mand\u001b[0m \u001b[0mS\u001b[0m \u001b[0mset\u001b[0m\u001b[1;33m\u001b[0m\u001b[1;33m\u001b[0m\u001b[0m\n\u001b[0;32m      4\u001b[0m     '''\n\u001b[1;32m----> 5\u001b[1;33m     \u001b[1;32mreturn\u001b[0m \u001b[0mset\u001b[0m\u001b[1;33m(\u001b[0m\u001b[0mH\u001b[0m\u001b[1;33m)\u001b[0m \u001b[1;33m-\u001b[0m \u001b[1;33m(\u001b[0m\u001b[0mset\u001b[0m\u001b[1;33m(\u001b[0m\u001b[0mH\u001b[0m\u001b[1;33m)\u001b[0m \u001b[1;33m-\u001b[0m \u001b[0mset\u001b[0m\u001b[1;33m(\u001b[0m\u001b[0mS\u001b[0m\u001b[1;33m)\u001b[0m\u001b[1;33m)\u001b[0m\u001b[1;33m\u001b[0m\u001b[1;33m\u001b[0m\u001b[0m\n\u001b[0m\u001b[0;32m      6\u001b[0m \u001b[1;33m\u001b[0m\u001b[0m\n\u001b[0;32m      7\u001b[0m \u001b[1;32mdef\u001b[0m \u001b[0mUnion\u001b[0m\u001b[1;33m(\u001b[0m\u001b[0mH\u001b[0m\u001b[1;33m,\u001b[0m \u001b[0mS\u001b[0m\u001b[1;33m)\u001b[0m\u001b[1;33m:\u001b[0m\u001b[1;33m\u001b[0m\u001b[1;33m\u001b[0m\u001b[0m\n",
      "\u001b[1;31mKeyboardInterrupt\u001b[0m: "
     ]
    }
   ],
   "source": [
    "abstract_pred_single = agglomerative_clustering_single(X_abstract, 9)"
   ]
  },
  {
   "cell_type": "code",
   "execution_count": null,
   "metadata": {},
   "outputs": [],
   "source": [
    "get_accuracy(df_train, abstract_pred_single, all_possible_predictions)"
   ]
  },
  {
   "cell_type": "code",
   "execution_count": null,
   "metadata": {},
   "outputs": [],
   "source": [
    "abstract_pred_multi = agglomerative_clustering_multi(X_abstract, 9)"
   ]
  },
  {
   "cell_type": "code",
   "execution_count": null,
   "metadata": {},
   "outputs": [],
   "source": [
    "get_accuracy(df_train, abstract_pred_multi, all_possible_predictions)"
   ]
  },
  {
   "cell_type": "code",
   "execution_count": null,
   "metadata": {},
   "outputs": [],
   "source": [
    "abstract_pred_multi"
   ]
  },
  {
   "cell_type": "code",
   "execution_count": null,
   "metadata": {},
   "outputs": [],
   "source": [
    "df_train[\"High-Level Keyword(s)\"][4]"
   ]
  },
  {
   "cell_type": "markdown",
   "metadata": {
    "heading_collapsed": true
   },
   "source": [
    "# Removing stopwords, and again repeating above works"
   ]
  },
  {
   "cell_type": "code",
   "execution_count": 106,
   "metadata": {
    "hidden": true
   },
   "outputs": [],
   "source": [
    "from nltk.corpus import stopwords"
   ]
  },
  {
   "cell_type": "code",
   "execution_count": 107,
   "metadata": {
    "hidden": true
   },
   "outputs": [],
   "source": [
    "stop_words = set(stopwords.words('english'))"
   ]
  },
  {
   "cell_type": "code",
   "execution_count": 284,
   "metadata": {
    "hidden": true
   },
   "outputs": [],
   "source": [
    "X_train = X_train.apply(lambda x: [item for item in x if item not in stop_words])"
   ]
  },
  {
   "cell_type": "markdown",
   "metadata": {
    "heading_collapsed": true,
    "hidden": true
   },
   "source": [
    "## Clustering based on Title"
   ]
  },
  {
   "cell_type": "code",
   "execution_count": 21,
   "metadata": {
    "hidden": true
   },
   "outputs": [],
   "source": [
    "X_title = X_train[\"Title\"].str.split(\" \")"
   ]
  },
  {
   "cell_type": "code",
   "execution_count": 22,
   "metadata": {
    "hidden": true
   },
   "outputs": [
    {
     "data": {
      "text/plain": [
       "['Optimal', 'Coalition', 'Structures', 'in', 'Cooperative', 'Graph', 'Games']"
      ]
     },
     "execution_count": 22,
     "metadata": {},
     "output_type": "execute_result"
    }
   ],
   "source": [
    "X_title[2]"
   ]
  },
  {
   "cell_type": "code",
   "execution_count": null,
   "metadata": {
    "hidden": true
   },
   "outputs": [],
   "source": []
  },
  {
   "cell_type": "code",
   "execution_count": null,
   "metadata": {
    "hidden": true,
    "scrolled": false
   },
   "outputs": [],
   "source": [
    "title_pred_single = agglomerative_clustering_single(X_title, 9)"
   ]
  },
  {
   "cell_type": "code",
   "execution_count": null,
   "metadata": {
    "hidden": true
   },
   "outputs": [],
   "source": [
    "get_accuracy(df_train, title_pred_single, all_possible_predictions)"
   ]
  },
  {
   "cell_type": "code",
   "execution_count": null,
   "metadata": {
    "hidden": true
   },
   "outputs": [],
   "source": [
    "title_pred_multi = agglomerative_clustering_multi(X_title, 9)"
   ]
  },
  {
   "cell_type": "code",
   "execution_count": null,
   "metadata": {
    "hidden": true
   },
   "outputs": [],
   "source": [
    "get_accuracy(df_train, title_pred_multi, all_possible_predictions)"
   ]
  },
  {
   "cell_type": "markdown",
   "metadata": {
    "heading_collapsed": true,
    "hidden": true
   },
   "source": [
    "## Clustering based on Keywords"
   ]
  },
  {
   "cell_type": "code",
   "execution_count": null,
   "metadata": {
    "hidden": true
   },
   "outputs": [],
   "source": [
    "X_keywords = X_train[\"Keywords\"].str.split(\" \")"
   ]
  },
  {
   "cell_type": "code",
   "execution_count": null,
   "metadata": {
    "hidden": true
   },
   "outputs": [],
   "source": [
    "keywords_pred_single = agglomerative_clustering_single(X_keywords, 9)"
   ]
  },
  {
   "cell_type": "code",
   "execution_count": null,
   "metadata": {
    "hidden": true
   },
   "outputs": [],
   "source": [
    "get_accuracy(df_train, keywords_pred_single, all_possible_predictions)"
   ]
  },
  {
   "cell_type": "code",
   "execution_count": null,
   "metadata": {
    "hidden": true
   },
   "outputs": [],
   "source": [
    "keywords_pred_multi = agglomerative_clustering_multi(X_keywords, 9)"
   ]
  },
  {
   "cell_type": "code",
   "execution_count": null,
   "metadata": {
    "hidden": true
   },
   "outputs": [],
   "source": [
    "get_accuracy(df_train, keywords_pred_multi, all_possible_predictions)"
   ]
  },
  {
   "cell_type": "markdown",
   "metadata": {
    "heading_collapsed": true,
    "hidden": true
   },
   "source": [
    "## Clustering on Topics"
   ]
  },
  {
   "cell_type": "code",
   "execution_count": null,
   "metadata": {
    "hidden": true
   },
   "outputs": [],
   "source": [
    "X_topics = X_train[\"Topics\"].str.split(\" \")"
   ]
  },
  {
   "cell_type": "code",
   "execution_count": null,
   "metadata": {
    "hidden": true
   },
   "outputs": [],
   "source": [
    "topics_pred_single = agglomerative_clustering_single(X_topics, 9)"
   ]
  },
  {
   "cell_type": "code",
   "execution_count": null,
   "metadata": {
    "hidden": true
   },
   "outputs": [],
   "source": [
    "get_accuracy(df_train, topics_pred_single, all_possible_predictions)"
   ]
  },
  {
   "cell_type": "code",
   "execution_count": null,
   "metadata": {
    "hidden": true
   },
   "outputs": [],
   "source": [
    "topics_pred_multi = agglomerative_clustering_multi(X_topics, 9)"
   ]
  },
  {
   "cell_type": "code",
   "execution_count": null,
   "metadata": {
    "hidden": true
   },
   "outputs": [],
   "source": [
    "get_accuracy(df_train, topics_pred_multi, all_possible_predictions)"
   ]
  },
  {
   "cell_type": "code",
   "execution_count": null,
   "metadata": {
    "hidden": true
   },
   "outputs": [],
   "source": [
    "all_possible_predictions"
   ]
  },
  {
   "cell_type": "code",
   "execution_count": null,
   "metadata": {
    "hidden": true
   },
   "outputs": [],
   "source": [
    "topics_pred_multi"
   ]
  },
  {
   "cell_type": "code",
   "execution_count": null,
   "metadata": {
    "hidden": true
   },
   "outputs": [],
   "source": [
    "df_train[\"High-Level Keyword(s)\"][1]"
   ]
  },
  {
   "cell_type": "markdown",
   "metadata": {
    "heading_collapsed": true,
    "hidden": true
   },
   "source": [
    "## Clustering on Abstract"
   ]
  },
  {
   "cell_type": "code",
   "execution_count": null,
   "metadata": {
    "hidden": true
   },
   "outputs": [],
   "source": [
    "X_abstract = X_train[\"Abstract\"].str.split(\" \")"
   ]
  },
  {
   "cell_type": "code",
   "execution_count": null,
   "metadata": {
    "hidden": true
   },
   "outputs": [],
   "source": [
    "abstract_pred_single = agglomerative_clustering_single(X_abstract, 9)"
   ]
  },
  {
   "cell_type": "code",
   "execution_count": null,
   "metadata": {
    "hidden": true
   },
   "outputs": [],
   "source": [
    "get_accuracy(df_train, abstract_pred_single, all_possible_predictions)"
   ]
  },
  {
   "cell_type": "code",
   "execution_count": null,
   "metadata": {
    "hidden": true
   },
   "outputs": [],
   "source": [
    "abstract_pred_multi = agglomerative_clustering_multi(X_abstract, 9)"
   ]
  },
  {
   "cell_type": "code",
   "execution_count": null,
   "metadata": {
    "hidden": true
   },
   "outputs": [],
   "source": [
    "get_accuracy(df_train, abstract_pred_multi, all_possible_predictions)"
   ]
  },
  {
   "cell_type": "code",
   "execution_count": null,
   "metadata": {
    "hidden": true
   },
   "outputs": [],
   "source": [
    "abstract_pred_multi"
   ]
  },
  {
   "cell_type": "code",
   "execution_count": null,
   "metadata": {
    "hidden": true
   },
   "outputs": [],
   "source": [
    "df_train[\"High-Level Keyword(s)\"][4]"
   ]
  },
  {
   "cell_type": "code",
   "execution_count": null,
   "metadata": {
    "hidden": true
   },
   "outputs": [],
   "source": []
  },
  {
   "cell_type": "markdown",
   "metadata": {},
   "source": [
    "# Stemming and again repeating above works"
   ]
  },
  {
   "cell_type": "code",
   "execution_count": null,
   "metadata": {},
   "outputs": [],
   "source": [
    "# Stemming"
   ]
  },
  {
   "cell_type": "code",
   "execution_count": null,
   "metadata": {},
   "outputs": [],
   "source": []
  },
  {
   "cell_type": "markdown",
   "metadata": {
    "heading_collapsed": true
   },
   "source": [
    "## Clustering based on Title"
   ]
  },
  {
   "cell_type": "code",
   "execution_count": 21,
   "metadata": {
    "hidden": true
   },
   "outputs": [],
   "source": [
    "X_title = X_train[\"Title\"].str.split(\" \")"
   ]
  },
  {
   "cell_type": "code",
   "execution_count": 22,
   "metadata": {
    "hidden": true
   },
   "outputs": [
    {
     "data": {
      "text/plain": [
       "['Optimal', 'Coalition', 'Structures', 'in', 'Cooperative', 'Graph', 'Games']"
      ]
     },
     "execution_count": 22,
     "metadata": {},
     "output_type": "execute_result"
    }
   ],
   "source": [
    "X_title[2]"
   ]
  },
  {
   "cell_type": "code",
   "execution_count": null,
   "metadata": {
    "hidden": true
   },
   "outputs": [],
   "source": []
  },
  {
   "cell_type": "code",
   "execution_count": null,
   "metadata": {
    "hidden": true,
    "scrolled": false
   },
   "outputs": [],
   "source": [
    "title_pred_single = agglomerative_clustering_single(X_title, 9)"
   ]
  },
  {
   "cell_type": "code",
   "execution_count": null,
   "metadata": {
    "hidden": true
   },
   "outputs": [],
   "source": [
    "get_accuracy(df_train, title_pred_single, all_possible_predictions)"
   ]
  },
  {
   "cell_type": "code",
   "execution_count": null,
   "metadata": {
    "hidden": true
   },
   "outputs": [],
   "source": [
    "title_pred_multi = agglomerative_clustering_multi(X_title, 9)"
   ]
  },
  {
   "cell_type": "code",
   "execution_count": null,
   "metadata": {
    "hidden": true
   },
   "outputs": [],
   "source": [
    "get_accuracy(df_train, title_pred_multi, all_possible_predictions)"
   ]
  },
  {
   "cell_type": "markdown",
   "metadata": {
    "heading_collapsed": true
   },
   "source": [
    "## Clustering based on Keywords"
   ]
  },
  {
   "cell_type": "code",
   "execution_count": null,
   "metadata": {
    "hidden": true
   },
   "outputs": [],
   "source": [
    "X_keywords = X_train[\"Keywords\"].str.split(\" \")"
   ]
  },
  {
   "cell_type": "code",
   "execution_count": null,
   "metadata": {
    "hidden": true
   },
   "outputs": [],
   "source": [
    "keywords_pred_single = agglomerative_clustering_single(X_keywords, 9)"
   ]
  },
  {
   "cell_type": "code",
   "execution_count": null,
   "metadata": {
    "hidden": true
   },
   "outputs": [],
   "source": [
    "get_accuracy(df_train, keywords_pred_single, all_possible_predictions)"
   ]
  },
  {
   "cell_type": "code",
   "execution_count": null,
   "metadata": {
    "hidden": true
   },
   "outputs": [],
   "source": [
    "keywords_pred_multi = agglomerative_clustering_multi(X_keywords, 9)"
   ]
  },
  {
   "cell_type": "code",
   "execution_count": null,
   "metadata": {
    "hidden": true
   },
   "outputs": [],
   "source": [
    "get_accuracy(df_train, keywords_pred_multi, all_possible_predictions)"
   ]
  },
  {
   "cell_type": "markdown",
   "metadata": {
    "heading_collapsed": true
   },
   "source": [
    "## Clustering on Topics"
   ]
  },
  {
   "cell_type": "code",
   "execution_count": null,
   "metadata": {
    "hidden": true
   },
   "outputs": [],
   "source": [
    "X_topics = X_train[\"Topics\"].str.split(\" \")"
   ]
  },
  {
   "cell_type": "code",
   "execution_count": null,
   "metadata": {
    "hidden": true
   },
   "outputs": [],
   "source": [
    "topics_pred_single = agglomerative_clustering_single(X_topics, 9)"
   ]
  },
  {
   "cell_type": "code",
   "execution_count": null,
   "metadata": {
    "hidden": true
   },
   "outputs": [],
   "source": [
    "get_accuracy(df_train, topics_pred_single, all_possible_predictions)"
   ]
  },
  {
   "cell_type": "code",
   "execution_count": null,
   "metadata": {
    "hidden": true
   },
   "outputs": [],
   "source": [
    "topics_pred_multi = agglomerative_clustering_multi(X_topics, 9)"
   ]
  },
  {
   "cell_type": "code",
   "execution_count": null,
   "metadata": {
    "hidden": true
   },
   "outputs": [],
   "source": [
    "get_accuracy(df_train, topics_pred_multi, all_possible_predictions)"
   ]
  },
  {
   "cell_type": "code",
   "execution_count": null,
   "metadata": {
    "hidden": true
   },
   "outputs": [],
   "source": [
    "all_possible_predictions"
   ]
  },
  {
   "cell_type": "code",
   "execution_count": null,
   "metadata": {
    "hidden": true
   },
   "outputs": [],
   "source": [
    "topics_pred_multi"
   ]
  },
  {
   "cell_type": "code",
   "execution_count": null,
   "metadata": {
    "hidden": true
   },
   "outputs": [],
   "source": [
    "df_train[\"High-Level Keyword(s)\"][1]"
   ]
  },
  {
   "cell_type": "markdown",
   "metadata": {
    "heading_collapsed": true
   },
   "source": [
    "## Clustering on Abstract"
   ]
  },
  {
   "cell_type": "code",
   "execution_count": null,
   "metadata": {
    "hidden": true
   },
   "outputs": [],
   "source": [
    "X_abstract = X_train[\"Abstract\"].str.split(\" \")"
   ]
  },
  {
   "cell_type": "code",
   "execution_count": null,
   "metadata": {
    "hidden": true
   },
   "outputs": [],
   "source": [
    "abstract_pred_single = agglomerative_clustering_single(X_abstract, 9)"
   ]
  },
  {
   "cell_type": "code",
   "execution_count": null,
   "metadata": {
    "hidden": true
   },
   "outputs": [],
   "source": [
    "get_accuracy(df_train, abstract_pred_single, all_possible_predictions)"
   ]
  },
  {
   "cell_type": "code",
   "execution_count": null,
   "metadata": {
    "hidden": true
   },
   "outputs": [],
   "source": [
    "abstract_pred_multi = agglomerative_clustering_multi(X_abstract, 9)"
   ]
  },
  {
   "cell_type": "code",
   "execution_count": null,
   "metadata": {
    "hidden": true
   },
   "outputs": [],
   "source": [
    "get_accuracy(df_train, abstract_pred_multi, all_possible_predictions)"
   ]
  },
  {
   "cell_type": "code",
   "execution_count": null,
   "metadata": {
    "hidden": true
   },
   "outputs": [],
   "source": [
    "abstract_pred_multi"
   ]
  },
  {
   "cell_type": "code",
   "execution_count": null,
   "metadata": {
    "hidden": true
   },
   "outputs": [],
   "source": [
    "df_train[\"High-Level Keyword(s)\"][4]"
   ]
  },
  {
   "cell_type": "code",
   "execution_count": null,
   "metadata": {
    "hidden": true
   },
   "outputs": [],
   "source": []
  },
  {
   "cell_type": "markdown",
   "metadata": {},
   "source": [
    "# Removing Stopwords and Stemming"
   ]
  },
  {
   "cell_type": "code",
   "execution_count": null,
   "metadata": {},
   "outputs": [],
   "source": [
    "\n",
    "\n"
   ]
  },
  {
   "cell_type": "code",
   "execution_count": null,
   "metadata": {},
   "outputs": [],
   "source": []
  },
  {
   "cell_type": "markdown",
   "metadata": {
    "heading_collapsed": true
   },
   "source": [
    "## Clustering based on Title"
   ]
  },
  {
   "cell_type": "code",
   "execution_count": 21,
   "metadata": {
    "hidden": true
   },
   "outputs": [],
   "source": [
    "X_title = X_train[\"Title\"].str.split(\" \")"
   ]
  },
  {
   "cell_type": "code",
   "execution_count": 22,
   "metadata": {
    "hidden": true
   },
   "outputs": [
    {
     "data": {
      "text/plain": [
       "['Optimal', 'Coalition', 'Structures', 'in', 'Cooperative', 'Graph', 'Games']"
      ]
     },
     "execution_count": 22,
     "metadata": {},
     "output_type": "execute_result"
    }
   ],
   "source": [
    "X_title[2]"
   ]
  },
  {
   "cell_type": "code",
   "execution_count": null,
   "metadata": {
    "hidden": true
   },
   "outputs": [],
   "source": []
  },
  {
   "cell_type": "code",
   "execution_count": null,
   "metadata": {
    "hidden": true,
    "scrolled": false
   },
   "outputs": [],
   "source": [
    "title_pred_single = agglomerative_clustering_single(X_title, 9)"
   ]
  },
  {
   "cell_type": "code",
   "execution_count": null,
   "metadata": {
    "hidden": true
   },
   "outputs": [],
   "source": [
    "get_accuracy(df_train, title_pred_single, all_possible_predictions)"
   ]
  },
  {
   "cell_type": "code",
   "execution_count": null,
   "metadata": {
    "hidden": true
   },
   "outputs": [],
   "source": [
    "title_pred_multi = agglomerative_clustering_multi(X_title, 9)"
   ]
  },
  {
   "cell_type": "code",
   "execution_count": null,
   "metadata": {
    "hidden": true
   },
   "outputs": [],
   "source": [
    "get_accuracy(df_train, title_pred_multi, all_possible_predictions)"
   ]
  },
  {
   "cell_type": "markdown",
   "metadata": {
    "heading_collapsed": true
   },
   "source": [
    "## Clustering based on Keywords"
   ]
  },
  {
   "cell_type": "code",
   "execution_count": null,
   "metadata": {
    "hidden": true
   },
   "outputs": [],
   "source": [
    "X_keywords = X_train[\"Keywords\"].str.split(\" \")"
   ]
  },
  {
   "cell_type": "code",
   "execution_count": null,
   "metadata": {
    "hidden": true
   },
   "outputs": [],
   "source": [
    "keywords_pred_single = agglomerative_clustering_single(X_keywords, 9)"
   ]
  },
  {
   "cell_type": "code",
   "execution_count": null,
   "metadata": {
    "hidden": true
   },
   "outputs": [],
   "source": [
    "get_accuracy(df_train, keywords_pred_single, all_possible_predictions)"
   ]
  },
  {
   "cell_type": "code",
   "execution_count": null,
   "metadata": {
    "hidden": true
   },
   "outputs": [],
   "source": [
    "keywords_pred_multi = agglomerative_clustering_multi(X_keywords, 9)"
   ]
  },
  {
   "cell_type": "code",
   "execution_count": null,
   "metadata": {
    "hidden": true
   },
   "outputs": [],
   "source": [
    "get_accuracy(df_train, keywords_pred_multi, all_possible_predictions)"
   ]
  },
  {
   "cell_type": "markdown",
   "metadata": {
    "heading_collapsed": true
   },
   "source": [
    "## Clustering on Topics"
   ]
  },
  {
   "cell_type": "code",
   "execution_count": null,
   "metadata": {
    "hidden": true
   },
   "outputs": [],
   "source": [
    "X_topics = X_train[\"Topics\"].str.split(\" \")"
   ]
  },
  {
   "cell_type": "code",
   "execution_count": null,
   "metadata": {
    "hidden": true
   },
   "outputs": [],
   "source": [
    "topics_pred_single = agglomerative_clustering_single(X_topics, 9)"
   ]
  },
  {
   "cell_type": "code",
   "execution_count": null,
   "metadata": {
    "hidden": true
   },
   "outputs": [],
   "source": [
    "get_accuracy(df_train, topics_pred_single, all_possible_predictions)"
   ]
  },
  {
   "cell_type": "code",
   "execution_count": null,
   "metadata": {
    "hidden": true
   },
   "outputs": [],
   "source": [
    "topics_pred_multi = agglomerative_clustering_multi(X_topics, 9)"
   ]
  },
  {
   "cell_type": "code",
   "execution_count": null,
   "metadata": {
    "hidden": true
   },
   "outputs": [],
   "source": [
    "get_accuracy(df_train, topics_pred_multi, all_possible_predictions)"
   ]
  },
  {
   "cell_type": "code",
   "execution_count": null,
   "metadata": {
    "hidden": true
   },
   "outputs": [],
   "source": [
    "all_possible_predictions"
   ]
  },
  {
   "cell_type": "code",
   "execution_count": null,
   "metadata": {
    "hidden": true
   },
   "outputs": [],
   "source": [
    "topics_pred_multi"
   ]
  },
  {
   "cell_type": "code",
   "execution_count": null,
   "metadata": {
    "hidden": true
   },
   "outputs": [],
   "source": [
    "df_train[\"High-Level Keyword(s)\"][1]"
   ]
  },
  {
   "cell_type": "markdown",
   "metadata": {
    "heading_collapsed": true
   },
   "source": [
    "## Clustering on Abstract"
   ]
  },
  {
   "cell_type": "code",
   "execution_count": null,
   "metadata": {
    "hidden": true
   },
   "outputs": [],
   "source": [
    "X_abstract = X_train[\"Abstract\"].str.split(\" \")"
   ]
  },
  {
   "cell_type": "code",
   "execution_count": null,
   "metadata": {
    "hidden": true
   },
   "outputs": [],
   "source": [
    "abstract_pred_single = agglomerative_clustering_single(X_abstract, 9)"
   ]
  },
  {
   "cell_type": "code",
   "execution_count": null,
   "metadata": {
    "hidden": true
   },
   "outputs": [],
   "source": [
    "get_accuracy(df_train, abstract_pred_single, all_possible_predictions)"
   ]
  },
  {
   "cell_type": "code",
   "execution_count": null,
   "metadata": {
    "hidden": true
   },
   "outputs": [],
   "source": [
    "abstract_pred_multi = agglomerative_clustering_multi(X_abstract, 9)"
   ]
  },
  {
   "cell_type": "code",
   "execution_count": null,
   "metadata": {
    "hidden": true
   },
   "outputs": [],
   "source": [
    "get_accuracy(df_train, abstract_pred_multi, all_possible_predictions)"
   ]
  },
  {
   "cell_type": "code",
   "execution_count": null,
   "metadata": {
    "hidden": true
   },
   "outputs": [],
   "source": [
    "abstract_pred_multi"
   ]
  },
  {
   "cell_type": "code",
   "execution_count": null,
   "metadata": {
    "hidden": true
   },
   "outputs": [],
   "source": []
  }
 ],
 "metadata": {
  "kernelspec": {
   "display_name": "TensorFlow-GPU",
   "language": "python",
   "name": "tf-gpu"
  },
  "language_info": {
   "codemirror_mode": {
    "name": "ipython",
    "version": 3
   },
   "file_extension": ".py",
   "mimetype": "text/x-python",
   "name": "python",
   "nbconvert_exporter": "python",
   "pygments_lexer": "ipython3",
   "version": "3.7.3"
  }
 },
 "nbformat": 4,
 "nbformat_minor": 2
}
