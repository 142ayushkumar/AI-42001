{
 "cells": [
  {
   "cell_type": "markdown",
   "metadata": {},
   "source": [
    "# Clustering papers based on titles, keywords and topics"
   ]
  },
  {
   "cell_type": "code",
   "execution_count": 1,
   "metadata": {},
   "outputs": [],
   "source": [
    "# importing libraries\n",
    "import numpy as np\n",
    "import matplotlib.pyplot as plt\n",
    "import pandas as pd\n",
    "import re\n",
    "import string\n",
    "import itertools\n",
    "from tqdm import tqdm_notebook as tqdm"
   ]
  },
  {
   "cell_type": "code",
   "execution_count": 2,
   "metadata": {},
   "outputs": [],
   "source": [
    "# Reading data from a csv file\n",
    "df_train = pd.read_csv(\"AAAI.csv\")"
   ]
  },
  {
   "cell_type": "code",
   "execution_count": 3,
   "metadata": {},
   "outputs": [
    {
     "data": {
      "text/html": [
       "<div>\n",
       "<style scoped>\n",
       "    .dataframe tbody tr th:only-of-type {\n",
       "        vertical-align: middle;\n",
       "    }\n",
       "\n",
       "    .dataframe tbody tr th {\n",
       "        vertical-align: top;\n",
       "    }\n",
       "\n",
       "    .dataframe thead th {\n",
       "        text-align: right;\n",
       "    }\n",
       "</style>\n",
       "<table border=\"1\" class=\"dataframe\">\n",
       "  <thead>\n",
       "    <tr style=\"text-align: right;\">\n",
       "      <th></th>\n",
       "      <th>Title</th>\n",
       "      <th>Keywords</th>\n",
       "      <th>Topics</th>\n",
       "      <th>High-Level Keyword(s)</th>\n",
       "      <th>Abstract</th>\n",
       "    </tr>\n",
       "  </thead>\n",
       "  <tbody>\n",
       "    <tr>\n",
       "      <td>0</td>\n",
       "      <td>The cascade auction – a mechanism for deterrin...</td>\n",
       "      <td>Mediators\\nAuctions\\nCollusion\\nAd Exchanges</td>\n",
       "      <td>Auctions and Market-Based Systems\\nE-Commerce\\...</td>\n",
       "      <td>Multiagent Systems</td>\n",
       "      <td>We introduce a sealed bid auction of a single ...</td>\n",
       "    </tr>\n",
       "    <tr>\n",
       "      <td>1</td>\n",
       "      <td>Basis Adaptation for Sparse Nonlinear Reinforc...</td>\n",
       "      <td>Reinforcement learning\\nSparsity\\nMirror desce...</td>\n",
       "      <td>Dimension Reduction/Feature Selection\\nOnline ...</td>\n",
       "      <td>Machine Learning</td>\n",
       "      <td>This paper presents a new approach to basis ad...</td>\n",
       "    </tr>\n",
       "    <tr>\n",
       "      <td>2</td>\n",
       "      <td>Optimal Coalition Structures in Cooperative Gr...</td>\n",
       "      <td>Cooperative Game Theory\\nCoalition Structure G...</td>\n",
       "      <td>Coordination and Collaboration\\nGame Theory</td>\n",
       "      <td>Multiagent Systems</td>\n",
       "      <td>Representation  languages for coalitional game...</td>\n",
       "    </tr>\n",
       "    <tr>\n",
       "      <td>3</td>\n",
       "      <td>External Memory Best-First Search for Multiple...</td>\n",
       "      <td>External-Memory Search\\nParallel Search\\nMulti...</td>\n",
       "      <td>Heuristic Search\\nEvaluation and Analysis (Sea...</td>\n",
       "      <td>Heuristic Search and Optimization</td>\n",
       "      <td>Multiple sequence alignment (MSA) is a central...</td>\n",
       "    </tr>\n",
       "    <tr>\n",
       "      <td>4</td>\n",
       "      <td>Posted Prices Exchange for Display Advertising...</td>\n",
       "      <td>Display Advertising\\nDynamic Pricing\\nMarket E...</td>\n",
       "      <td>Auctions and Market-Based Systems\\nE-Commerce\\...</td>\n",
       "      <td>Multiagent Systems</td>\n",
       "      <td>We propose a new market design for display adv...</td>\n",
       "    </tr>\n",
       "    <tr>\n",
       "      <td>...</td>\n",
       "      <td>...</td>\n",
       "      <td>...</td>\n",
       "      <td>...</td>\n",
       "      <td>...</td>\n",
       "      <td>...</td>\n",
       "    </tr>\n",
       "    <tr>\n",
       "      <td>145</td>\n",
       "      <td>Probabilistic Sense Sentiment Similarity throu...</td>\n",
       "      <td>Sentiment Similarity\\nIndirect yse/no Question...</td>\n",
       "      <td>Information Extraction\\nQuestion Answering\\nNa...</td>\n",
       "      <td>Natural Language Processing</td>\n",
       "      <td>Sentiment Similarity of word pairs reflects th...</td>\n",
       "    </tr>\n",
       "    <tr>\n",
       "      <td>146</td>\n",
       "      <td>Strategic Behavior when Allocating Indivisible...</td>\n",
       "      <td>Fair division\\nElicition free protocol\\nBackwa...</td>\n",
       "      <td>Game Theory\\nMechanism Design</td>\n",
       "      <td>Multiagent Systems</td>\n",
       "      <td>We study a simple sequential allocation mechan...</td>\n",
       "    </tr>\n",
       "    <tr>\n",
       "      <td>147</td>\n",
       "      <td>A Pattern Matching Based Graphical Model for Q...</td>\n",
       "      <td>Opinion Question\\nSubjectivity Detection\\nOpin...</td>\n",
       "      <td>Natural Language Processing (General/Other)</td>\n",
       "      <td>Natural Language Processing</td>\n",
       "      <td>This paper presents the results of developing ...</td>\n",
       "    </tr>\n",
       "    <tr>\n",
       "      <td>148</td>\n",
       "      <td>Grounding Natural Language References to Unvis...</td>\n",
       "      <td>Human-robot interaction\\nIntegrated perception...</td>\n",
       "      <td>Natural Language Processing (General/Other)\\nR...</td>\n",
       "      <td>Natural Language Processing</td>\n",
       "      <td>While much research exists on resolving spatia...</td>\n",
       "    </tr>\n",
       "    <tr>\n",
       "      <td>149</td>\n",
       "      <td>Story Generation with Crowdsourced Plot Graphs</td>\n",
       "      <td>Story generation\\nNarrative intelligence\\nKnow...</td>\n",
       "      <td>Knowledge-Based Systems (General/Other)\\nMachi...</td>\n",
       "      <td>Multidisciplinary Topics</td>\n",
       "      <td>Story generation is the problem of automatical...</td>\n",
       "    </tr>\n",
       "  </tbody>\n",
       "</table>\n",
       "<p>150 rows × 5 columns</p>\n",
       "</div>"
      ],
      "text/plain": [
       "                                                 Title  \\\n",
       "0    The cascade auction – a mechanism for deterrin...   \n",
       "1    Basis Adaptation for Sparse Nonlinear Reinforc...   \n",
       "2    Optimal Coalition Structures in Cooperative Gr...   \n",
       "3    External Memory Best-First Search for Multiple...   \n",
       "4    Posted Prices Exchange for Display Advertising...   \n",
       "..                                                 ...   \n",
       "145  Probabilistic Sense Sentiment Similarity throu...   \n",
       "146  Strategic Behavior when Allocating Indivisible...   \n",
       "147  A Pattern Matching Based Graphical Model for Q...   \n",
       "148  Grounding Natural Language References to Unvis...   \n",
       "149     Story Generation with Crowdsourced Plot Graphs   \n",
       "\n",
       "                                              Keywords  \\\n",
       "0         Mediators\\nAuctions\\nCollusion\\nAd Exchanges   \n",
       "1    Reinforcement learning\\nSparsity\\nMirror desce...   \n",
       "2    Cooperative Game Theory\\nCoalition Structure G...   \n",
       "3    External-Memory Search\\nParallel Search\\nMulti...   \n",
       "4    Display Advertising\\nDynamic Pricing\\nMarket E...   \n",
       "..                                                 ...   \n",
       "145  Sentiment Similarity\\nIndirect yse/no Question...   \n",
       "146  Fair division\\nElicition free protocol\\nBackwa...   \n",
       "147  Opinion Question\\nSubjectivity Detection\\nOpin...   \n",
       "148  Human-robot interaction\\nIntegrated perception...   \n",
       "149  Story generation\\nNarrative intelligence\\nKnow...   \n",
       "\n",
       "                                                Topics  \\\n",
       "0    Auctions and Market-Based Systems\\nE-Commerce\\...   \n",
       "1    Dimension Reduction/Feature Selection\\nOnline ...   \n",
       "2          Coordination and Collaboration\\nGame Theory   \n",
       "3    Heuristic Search\\nEvaluation and Analysis (Sea...   \n",
       "4    Auctions and Market-Based Systems\\nE-Commerce\\...   \n",
       "..                                                 ...   \n",
       "145  Information Extraction\\nQuestion Answering\\nNa...   \n",
       "146                      Game Theory\\nMechanism Design   \n",
       "147        Natural Language Processing (General/Other)   \n",
       "148  Natural Language Processing (General/Other)\\nR...   \n",
       "149  Knowledge-Based Systems (General/Other)\\nMachi...   \n",
       "\n",
       "                 High-Level Keyword(s)  \\\n",
       "0                   Multiagent Systems   \n",
       "1                     Machine Learning   \n",
       "2                   Multiagent Systems   \n",
       "3    Heuristic Search and Optimization   \n",
       "4                   Multiagent Systems   \n",
       "..                                 ...   \n",
       "145        Natural Language Processing   \n",
       "146                 Multiagent Systems   \n",
       "147        Natural Language Processing   \n",
       "148        Natural Language Processing   \n",
       "149           Multidisciplinary Topics   \n",
       "\n",
       "                                              Abstract  \n",
       "0    We introduce a sealed bid auction of a single ...  \n",
       "1    This paper presents a new approach to basis ad...  \n",
       "2    Representation  languages for coalitional game...  \n",
       "3    Multiple sequence alignment (MSA) is a central...  \n",
       "4    We propose a new market design for display adv...  \n",
       "..                                                 ...  \n",
       "145  Sentiment Similarity of word pairs reflects th...  \n",
       "146  We study a simple sequential allocation mechan...  \n",
       "147  This paper presents the results of developing ...  \n",
       "148  While much research exists on resolving spatia...  \n",
       "149  Story generation is the problem of automatical...  \n",
       "\n",
       "[150 rows x 5 columns]"
      ]
     },
     "execution_count": 3,
     "metadata": {},
     "output_type": "execute_result"
    }
   ],
   "source": [
    "df_train"
   ]
  },
  {
   "cell_type": "code",
   "execution_count": 4,
   "metadata": {},
   "outputs": [
    {
     "name": "stdout",
     "output_type": "stream",
     "text": [
      "All possible prediction classes are ['Heuristic Search and Optimization', 'Multidisciplinary Topics', 'Constraints and Satisfiability', 'Reasoning about Plans, Processes, and Actions', 'Natural Language Processing', 'Multiagent Systems', 'Knowledge Representation and Reasoning', 'Robotics', 'Machine Learning']\n"
     ]
    }
   ],
   "source": [
    "all_possible_predictions = list(set(df_train[\"High-Level Keyword(s)\"]))\n",
    "print(f\"All possible prediction classes are {all_possible_predictions}\")"
   ]
  },
  {
   "cell_type": "code",
   "execution_count": 5,
   "metadata": {},
   "outputs": [
    {
     "name": "stdout",
     "output_type": "stream",
     "text": [
      "Printing length of clusters:\n",
      "\n",
      "Heuristic Search and Optimization: 9\n",
      "Multidisciplinary Topics: 7\n",
      "Constraints and Satisfiability: 10\n",
      "Reasoning about Plans, Processes, and Actions: 12\n",
      "Natural Language Processing: 13\n",
      "Multiagent Systems: 32\n",
      "Knowledge Representation and Reasoning: 17\n",
      "Robotics: 5\n",
      "Machine Learning: 45\n"
     ]
    }
   ],
   "source": [
    "print(f\"Printing length of clusters:\\n\")\n",
    "for i in all_possible_predictions:\n",
    "    num = df_train[df_train[\"High-Level Keyword(s)\"] == i].shape[0]\n",
    "    print(f\"{i}: {num}\")"
   ]
  },
  {
   "cell_type": "code",
   "execution_count": 6,
   "metadata": {},
   "outputs": [
    {
     "data": {
      "text/plain": [
       "['Machine Learning',\n",
       " 'Multiagent Systems',\n",
       " 'Knowledge Representation and Reasoning',\n",
       " 'Natural Language Processing',\n",
       " 'Reasoning about Plans, Processes, and Actions',\n",
       " 'Constraints and Satisfiability',\n",
       " 'Heuristic Search and Optimization',\n",
       " 'Multidisciplinary Topics',\n",
       " 'Robotics']"
      ]
     },
     "execution_count": 6,
     "metadata": {},
     "output_type": "execute_result"
    }
   ],
   "source": [
    "# sorting all_possible_predictions list on number of predictions in dataset \n",
    "all_possible_predictions = sorted(all_possible_predictions, key = lambda x: df_train[df_train[\"High-Level Keyword(s)\"] == x].shape[0])\n",
    "all_possible_predictions = all_possible_predictions[::-1]\n",
    "all_possible_predictions"
   ]
  },
  {
   "cell_type": "code",
   "execution_count": 7,
   "metadata": {},
   "outputs": [],
   "source": [
    "# Removing the High-Level Keyword(s) column, X_train is the feature vector\n",
    "X_train = df_train.drop(\"High-Level Keyword(s)\", axis=1)"
   ]
  },
  {
   "cell_type": "code",
   "execution_count": 8,
   "metadata": {},
   "outputs": [
    {
     "data": {
      "text/html": [
       "<div>\n",
       "<style scoped>\n",
       "    .dataframe tbody tr th:only-of-type {\n",
       "        vertical-align: middle;\n",
       "    }\n",
       "\n",
       "    .dataframe tbody tr th {\n",
       "        vertical-align: top;\n",
       "    }\n",
       "\n",
       "    .dataframe thead th {\n",
       "        text-align: right;\n",
       "    }\n",
       "</style>\n",
       "<table border=\"1\" class=\"dataframe\">\n",
       "  <thead>\n",
       "    <tr style=\"text-align: right;\">\n",
       "      <th></th>\n",
       "      <th>Title</th>\n",
       "      <th>Keywords</th>\n",
       "      <th>Topics</th>\n",
       "      <th>Abstract</th>\n",
       "    </tr>\n",
       "  </thead>\n",
       "  <tbody>\n",
       "    <tr>\n",
       "      <td>0</td>\n",
       "      <td>The cascade auction – a mechanism for deterrin...</td>\n",
       "      <td>Mediators\\nAuctions\\nCollusion\\nAd Exchanges</td>\n",
       "      <td>Auctions and Market-Based Systems\\nE-Commerce\\...</td>\n",
       "      <td>We introduce a sealed bid auction of a single ...</td>\n",
       "    </tr>\n",
       "    <tr>\n",
       "      <td>1</td>\n",
       "      <td>Basis Adaptation for Sparse Nonlinear Reinforc...</td>\n",
       "      <td>Reinforcement learning\\nSparsity\\nMirror desce...</td>\n",
       "      <td>Dimension Reduction/Feature Selection\\nOnline ...</td>\n",
       "      <td>This paper presents a new approach to basis ad...</td>\n",
       "    </tr>\n",
       "    <tr>\n",
       "      <td>2</td>\n",
       "      <td>Optimal Coalition Structures in Cooperative Gr...</td>\n",
       "      <td>Cooperative Game Theory\\nCoalition Structure G...</td>\n",
       "      <td>Coordination and Collaboration\\nGame Theory</td>\n",
       "      <td>Representation  languages for coalitional game...</td>\n",
       "    </tr>\n",
       "    <tr>\n",
       "      <td>3</td>\n",
       "      <td>External Memory Best-First Search for Multiple...</td>\n",
       "      <td>External-Memory Search\\nParallel Search\\nMulti...</td>\n",
       "      <td>Heuristic Search\\nEvaluation and Analysis (Sea...</td>\n",
       "      <td>Multiple sequence alignment (MSA) is a central...</td>\n",
       "    </tr>\n",
       "    <tr>\n",
       "      <td>4</td>\n",
       "      <td>Posted Prices Exchange for Display Advertising...</td>\n",
       "      <td>Display Advertising\\nDynamic Pricing\\nMarket E...</td>\n",
       "      <td>Auctions and Market-Based Systems\\nE-Commerce\\...</td>\n",
       "      <td>We propose a new market design for display adv...</td>\n",
       "    </tr>\n",
       "    <tr>\n",
       "      <td>...</td>\n",
       "      <td>...</td>\n",
       "      <td>...</td>\n",
       "      <td>...</td>\n",
       "      <td>...</td>\n",
       "    </tr>\n",
       "    <tr>\n",
       "      <td>145</td>\n",
       "      <td>Probabilistic Sense Sentiment Similarity throu...</td>\n",
       "      <td>Sentiment Similarity\\nIndirect yse/no Question...</td>\n",
       "      <td>Information Extraction\\nQuestion Answering\\nNa...</td>\n",
       "      <td>Sentiment Similarity of word pairs reflects th...</td>\n",
       "    </tr>\n",
       "    <tr>\n",
       "      <td>146</td>\n",
       "      <td>Strategic Behavior when Allocating Indivisible...</td>\n",
       "      <td>Fair division\\nElicition free protocol\\nBackwa...</td>\n",
       "      <td>Game Theory\\nMechanism Design</td>\n",
       "      <td>We study a simple sequential allocation mechan...</td>\n",
       "    </tr>\n",
       "    <tr>\n",
       "      <td>147</td>\n",
       "      <td>A Pattern Matching Based Graphical Model for Q...</td>\n",
       "      <td>Opinion Question\\nSubjectivity Detection\\nOpin...</td>\n",
       "      <td>Natural Language Processing (General/Other)</td>\n",
       "      <td>This paper presents the results of developing ...</td>\n",
       "    </tr>\n",
       "    <tr>\n",
       "      <td>148</td>\n",
       "      <td>Grounding Natural Language References to Unvis...</td>\n",
       "      <td>Human-robot interaction\\nIntegrated perception...</td>\n",
       "      <td>Natural Language Processing (General/Other)\\nR...</td>\n",
       "      <td>While much research exists on resolving spatia...</td>\n",
       "    </tr>\n",
       "    <tr>\n",
       "      <td>149</td>\n",
       "      <td>Story Generation with Crowdsourced Plot Graphs</td>\n",
       "      <td>Story generation\\nNarrative intelligence\\nKnow...</td>\n",
       "      <td>Knowledge-Based Systems (General/Other)\\nMachi...</td>\n",
       "      <td>Story generation is the problem of automatical...</td>\n",
       "    </tr>\n",
       "  </tbody>\n",
       "</table>\n",
       "<p>150 rows × 4 columns</p>\n",
       "</div>"
      ],
      "text/plain": [
       "                                                 Title  \\\n",
       "0    The cascade auction – a mechanism for deterrin...   \n",
       "1    Basis Adaptation for Sparse Nonlinear Reinforc...   \n",
       "2    Optimal Coalition Structures in Cooperative Gr...   \n",
       "3    External Memory Best-First Search for Multiple...   \n",
       "4    Posted Prices Exchange for Display Advertising...   \n",
       "..                                                 ...   \n",
       "145  Probabilistic Sense Sentiment Similarity throu...   \n",
       "146  Strategic Behavior when Allocating Indivisible...   \n",
       "147  A Pattern Matching Based Graphical Model for Q...   \n",
       "148  Grounding Natural Language References to Unvis...   \n",
       "149     Story Generation with Crowdsourced Plot Graphs   \n",
       "\n",
       "                                              Keywords  \\\n",
       "0         Mediators\\nAuctions\\nCollusion\\nAd Exchanges   \n",
       "1    Reinforcement learning\\nSparsity\\nMirror desce...   \n",
       "2    Cooperative Game Theory\\nCoalition Structure G...   \n",
       "3    External-Memory Search\\nParallel Search\\nMulti...   \n",
       "4    Display Advertising\\nDynamic Pricing\\nMarket E...   \n",
       "..                                                 ...   \n",
       "145  Sentiment Similarity\\nIndirect yse/no Question...   \n",
       "146  Fair division\\nElicition free protocol\\nBackwa...   \n",
       "147  Opinion Question\\nSubjectivity Detection\\nOpin...   \n",
       "148  Human-robot interaction\\nIntegrated perception...   \n",
       "149  Story generation\\nNarrative intelligence\\nKnow...   \n",
       "\n",
       "                                                Topics  \\\n",
       "0    Auctions and Market-Based Systems\\nE-Commerce\\...   \n",
       "1    Dimension Reduction/Feature Selection\\nOnline ...   \n",
       "2          Coordination and Collaboration\\nGame Theory   \n",
       "3    Heuristic Search\\nEvaluation and Analysis (Sea...   \n",
       "4    Auctions and Market-Based Systems\\nE-Commerce\\...   \n",
       "..                                                 ...   \n",
       "145  Information Extraction\\nQuestion Answering\\nNa...   \n",
       "146                      Game Theory\\nMechanism Design   \n",
       "147        Natural Language Processing (General/Other)   \n",
       "148  Natural Language Processing (General/Other)\\nR...   \n",
       "149  Knowledge-Based Systems (General/Other)\\nMachi...   \n",
       "\n",
       "                                              Abstract  \n",
       "0    We introduce a sealed bid auction of a single ...  \n",
       "1    This paper presents a new approach to basis ad...  \n",
       "2    Representation  languages for coalitional game...  \n",
       "3    Multiple sequence alignment (MSA) is a central...  \n",
       "4    We propose a new market design for display adv...  \n",
       "..                                                 ...  \n",
       "145  Sentiment Similarity of word pairs reflects th...  \n",
       "146  We study a simple sequential allocation mechan...  \n",
       "147  This paper presents the results of developing ...  \n",
       "148  While much research exists on resolving spatia...  \n",
       "149  Story generation is the problem of automatical...  \n",
       "\n",
       "[150 rows x 4 columns]"
      ]
     },
     "execution_count": 8,
     "metadata": {},
     "output_type": "execute_result"
    }
   ],
   "source": [
    "X_train"
   ]
  },
  {
   "cell_type": "markdown",
   "metadata": {},
   "source": [
    "# Cleaning Text "
   ]
  },
  {
   "cell_type": "code",
   "execution_count": 9,
   "metadata": {},
   "outputs": [],
   "source": [
    "def remove_punctuation(s):\n",
    "    '''\n",
    "    s: string \n",
    "    String will be returned by removing punctuations and newline character '\\n' from s\n",
    "    '''\n",
    "    s = s.replace('\\n', ' ')\n",
    "    translator = str.maketrans(string.punctuation, ' '*len(string.punctuation)) #map punctuation to space\n",
    "    s = s.translate(translator)\n",
    "    \n",
    "    # remove redundant spaces after replacing puncutations and newline with spaces\n",
    "    s = re.sub(' +', ' ', s)\n",
    "    return s\n",
    "\n",
    "def clean_df(df):\n",
    "    '''\n",
    "    df: Pandas DataFrame\n",
    "    Inplace changes dataframe\n",
    "    '''\n",
    "    cols = df.columns\n",
    "    for col in cols:\n",
    "        for i in range(len(df[col])):\n",
    "            df[col][i] = remove_punctuation(df[col][i])"
   ]
  },
  {
   "cell_type": "code",
   "execution_count": 10,
   "metadata": {},
   "outputs": [],
   "source": [
    "# Cleaning X_train\n",
    "clean_df(X_train)"
   ]
  },
  {
   "cell_type": "code",
   "execution_count": 11,
   "metadata": {},
   "outputs": [
    {
     "data": {
      "text/plain": [
       "8211"
      ]
     },
     "execution_count": 11,
     "metadata": {},
     "output_type": "execute_result"
    }
   ],
   "source": [
    "ord(df_train[\"Title\"][0][20])"
   ]
  },
  {
   "cell_type": "code",
   "execution_count": 12,
   "metadata": {},
   "outputs": [
    {
     "data": {
      "text/plain": [
       "45"
      ]
     },
     "execution_count": 12,
     "metadata": {},
     "output_type": "execute_result"
    }
   ],
   "source": [
    "ord('-')"
   ]
  },
  {
   "cell_type": "code",
   "execution_count": 13,
   "metadata": {},
   "outputs": [
    {
     "data": {
      "text/plain": [
       "8212"
      ]
     },
     "execution_count": 13,
     "metadata": {},
     "output_type": "execute_result"
    }
   ],
   "source": [
    "ord(df_train[\"Title\"][28][31])"
   ]
  },
  {
   "cell_type": "code",
   "execution_count": 14,
   "metadata": {},
   "outputs": [
    {
     "data": {
      "text/html": [
       "<div>\n",
       "<style scoped>\n",
       "    .dataframe tbody tr th:only-of-type {\n",
       "        vertical-align: middle;\n",
       "    }\n",
       "\n",
       "    .dataframe tbody tr th {\n",
       "        vertical-align: top;\n",
       "    }\n",
       "\n",
       "    .dataframe thead th {\n",
       "        text-align: right;\n",
       "    }\n",
       "</style>\n",
       "<table border=\"1\" class=\"dataframe\">\n",
       "  <thead>\n",
       "    <tr style=\"text-align: right;\">\n",
       "      <th></th>\n",
       "      <th>Title</th>\n",
       "      <th>Keywords</th>\n",
       "      <th>Topics</th>\n",
       "      <th>Abstract</th>\n",
       "    </tr>\n",
       "  </thead>\n",
       "  <tbody>\n",
       "    <tr>\n",
       "      <td>0</td>\n",
       "      <td>The cascade auction – a mechanism for deterrin...</td>\n",
       "      <td>Mediators Auctions Collusion Ad Exchanges</td>\n",
       "      <td>Auctions and Market Based Systems E Commerce G...</td>\n",
       "      <td>We introduce a sealed bid auction of a single ...</td>\n",
       "    </tr>\n",
       "    <tr>\n",
       "      <td>1</td>\n",
       "      <td>Basis Adaptation for Sparse Nonlinear Reinforc...</td>\n",
       "      <td>Reinforcement learning Sparsity Mirror descent...</td>\n",
       "      <td>Dimension Reduction Feature Selection Online L...</td>\n",
       "      <td>This paper presents a new approach to basis ad...</td>\n",
       "    </tr>\n",
       "    <tr>\n",
       "      <td>2</td>\n",
       "      <td>Optimal Coalition Structures in Cooperative Gr...</td>\n",
       "      <td>Cooperative Game Theory Coalition Structure Ge...</td>\n",
       "      <td>Coordination and Collaboration Game Theory</td>\n",
       "      <td>Representation languages for coalitional games...</td>\n",
       "    </tr>\n",
       "    <tr>\n",
       "      <td>3</td>\n",
       "      <td>External Memory Best First Search for Multiple...</td>\n",
       "      <td>External Memory Search Parallel Search Multipl...</td>\n",
       "      <td>Heuristic Search Evaluation and Analysis Searc...</td>\n",
       "      <td>Multiple sequence alignment MSA is a central p...</td>\n",
       "    </tr>\n",
       "    <tr>\n",
       "      <td>4</td>\n",
       "      <td>Posted Prices Exchange for Display Advertising...</td>\n",
       "      <td>Display Advertising Dynamic Pricing Market Equ...</td>\n",
       "      <td>Auctions and Market Based Systems E Commerce M...</td>\n",
       "      <td>We propose a new market design for display adv...</td>\n",
       "    </tr>\n",
       "    <tr>\n",
       "      <td>...</td>\n",
       "      <td>...</td>\n",
       "      <td>...</td>\n",
       "      <td>...</td>\n",
       "      <td>...</td>\n",
       "    </tr>\n",
       "    <tr>\n",
       "      <td>145</td>\n",
       "      <td>Probabilistic Sense Sentiment Similarity throu...</td>\n",
       "      <td>Sentiment Similarity Indirect yse no Question ...</td>\n",
       "      <td>Information Extraction Question Answering Natu...</td>\n",
       "      <td>Sentiment Similarity of word pairs reflects th...</td>\n",
       "    </tr>\n",
       "    <tr>\n",
       "      <td>146</td>\n",
       "      <td>Strategic Behavior when Allocating Indivisible...</td>\n",
       "      <td>Fair division Elicition free protocol Backward...</td>\n",
       "      <td>Game Theory Mechanism Design</td>\n",
       "      <td>We study a simple sequential allocation mechan...</td>\n",
       "    </tr>\n",
       "    <tr>\n",
       "      <td>147</td>\n",
       "      <td>A Pattern Matching Based Graphical Model for Q...</td>\n",
       "      <td>Opinion Question Subjectivity Detection Opinio...</td>\n",
       "      <td>Natural Language Processing General Other</td>\n",
       "      <td>This paper presents the results of developing ...</td>\n",
       "    </tr>\n",
       "    <tr>\n",
       "      <td>148</td>\n",
       "      <td>Grounding Natural Language References to Unvis...</td>\n",
       "      <td>Human robot interaction Integrated perception ...</td>\n",
       "      <td>Natural Language Processing General Other Robo...</td>\n",
       "      <td>While much research exists on resolving spatia...</td>\n",
       "    </tr>\n",
       "    <tr>\n",
       "      <td>149</td>\n",
       "      <td>Story Generation with Crowdsourced Plot Graphs</td>\n",
       "      <td>Story generation Narrative intelligence Knowle...</td>\n",
       "      <td>Knowledge Based Systems General Other Machine ...</td>\n",
       "      <td>Story generation is the problem of automatical...</td>\n",
       "    </tr>\n",
       "  </tbody>\n",
       "</table>\n",
       "<p>150 rows × 4 columns</p>\n",
       "</div>"
      ],
      "text/plain": [
       "                                                 Title  \\\n",
       "0    The cascade auction – a mechanism for deterrin...   \n",
       "1    Basis Adaptation for Sparse Nonlinear Reinforc...   \n",
       "2    Optimal Coalition Structures in Cooperative Gr...   \n",
       "3    External Memory Best First Search for Multiple...   \n",
       "4    Posted Prices Exchange for Display Advertising...   \n",
       "..                                                 ...   \n",
       "145  Probabilistic Sense Sentiment Similarity throu...   \n",
       "146  Strategic Behavior when Allocating Indivisible...   \n",
       "147  A Pattern Matching Based Graphical Model for Q...   \n",
       "148  Grounding Natural Language References to Unvis...   \n",
       "149     Story Generation with Crowdsourced Plot Graphs   \n",
       "\n",
       "                                              Keywords  \\\n",
       "0            Mediators Auctions Collusion Ad Exchanges   \n",
       "1    Reinforcement learning Sparsity Mirror descent...   \n",
       "2    Cooperative Game Theory Coalition Structure Ge...   \n",
       "3    External Memory Search Parallel Search Multipl...   \n",
       "4    Display Advertising Dynamic Pricing Market Equ...   \n",
       "..                                                 ...   \n",
       "145  Sentiment Similarity Indirect yse no Question ...   \n",
       "146  Fair division Elicition free protocol Backward...   \n",
       "147  Opinion Question Subjectivity Detection Opinio...   \n",
       "148  Human robot interaction Integrated perception ...   \n",
       "149  Story generation Narrative intelligence Knowle...   \n",
       "\n",
       "                                                Topics  \\\n",
       "0    Auctions and Market Based Systems E Commerce G...   \n",
       "1    Dimension Reduction Feature Selection Online L...   \n",
       "2           Coordination and Collaboration Game Theory   \n",
       "3    Heuristic Search Evaluation and Analysis Searc...   \n",
       "4    Auctions and Market Based Systems E Commerce M...   \n",
       "..                                                 ...   \n",
       "145  Information Extraction Question Answering Natu...   \n",
       "146                       Game Theory Mechanism Design   \n",
       "147         Natural Language Processing General Other    \n",
       "148  Natural Language Processing General Other Robo...   \n",
       "149  Knowledge Based Systems General Other Machine ...   \n",
       "\n",
       "                                              Abstract  \n",
       "0    We introduce a sealed bid auction of a single ...  \n",
       "1    This paper presents a new approach to basis ad...  \n",
       "2    Representation languages for coalitional games...  \n",
       "3    Multiple sequence alignment MSA is a central p...  \n",
       "4    We propose a new market design for display adv...  \n",
       "..                                                 ...  \n",
       "145  Sentiment Similarity of word pairs reflects th...  \n",
       "146  We study a simple sequential allocation mechan...  \n",
       "147  This paper presents the results of developing ...  \n",
       "148  While much research exists on resolving spatia...  \n",
       "149  Story generation is the problem of automatical...  \n",
       "\n",
       "[150 rows x 4 columns]"
      ]
     },
     "execution_count": 14,
     "metadata": {},
     "output_type": "execute_result"
    }
   ],
   "source": [
    "X_train"
   ]
  },
  {
   "cell_type": "markdown",
   "metadata": {},
   "source": [
    "# Utility Funcitons ( Jacardian Similarity, getting thresholds etc.)"
   ]
  },
  {
   "cell_type": "markdown",
   "metadata": {},
   "source": [
    "JC = $\\dfrac{H \\cap S}{H \\cup S}$"
   ]
  },
  {
   "cell_type": "code",
   "execution_count": 15,
   "metadata": {},
   "outputs": [],
   "source": [
    "def Intersection(H, S):\n",
    "    '''\n",
    "    Returns a list Intersection of H and S set\n",
    "    '''\n",
    "    return set(H) - (set(H) - set(S))\n",
    "\n",
    "def Union(H, S):\n",
    "    '''\n",
    "    Returns a list of union of H and S set\n",
    "    '''\n",
    "    return set(H + S)\n",
    "\n",
    "def Jacardian_score(H, S):\n",
    "    '''\n",
    "    Returns jacardian similarity\n",
    "    '''\n",
    "    if len(Union(H, S)) == 0:\n",
    "        print(f\"Empty H and S Passed\")\n",
    "        return 0\n",
    "    return len(Intersection(H, S))/ len(Union(H, S))\n",
    "\n",
    "def dist(H, S):\n",
    "    '''\n",
    "        Returns Jacardian Score\n",
    "    '''\n",
    "    return Jacardian_score(H, S)\n",
    "\n",
    "def calc_dist(a, b, f, X):\n",
    "    '''\n",
    "    a: list of indices of cluster from X which belongs to one segment\n",
    "    b: list of indices of cluster from X which belongs to one segment\n",
    "    f: funtion, for single use min, multi use max\n",
    "    Uses function dist to calculate jacardian distance between two clusters a and b\n",
    "    '''\n",
    "    distances = []\n",
    "    for i in a:\n",
    "        for j in b:\n",
    "            distances.append(dist(X[i], X[j]))\n",
    "    return f(distances)"
   ]
  },
  {
   "cell_type": "markdown",
   "metadata": {},
   "source": [
    "# Agglomerative Clustering"
   ]
  },
  {
   "cell_type": "code",
   "execution_count": 18,
   "metadata": {},
   "outputs": [],
   "source": [
    "def agglomerative_clustering_single(X_train, n_cluster):\n",
    "    '''\n",
    "    X_train: Training dataset on which it will calculate similarity\n",
    "    n_cluster: Number of clusters required\n",
    "    Returns a cluster list which will contain informations of clusters\n",
    "    '''\n",
    "    #Every points in datset is a single cluster initially\n",
    "    clusters = []\n",
    "    for i in range(len(X_train)):\n",
    "        clusters.append([i])\n",
    "    # curr cluster is number of current clusters, dist_store will store distances\n",
    "    curr_clusters = len(X_train)\n",
    "    dist_store = []\n",
    "    while curr_clusters > n_cluster:\n",
    "        dist_store.clear()\n",
    "        for i in range(curr_clusters):\n",
    "            for j in range(i+1, curr_clusters):\n",
    "                dist_store.append([calc_dist(clusters[i], clusters[j], min, X_train), j, i])\n",
    "        # sorting distances in ascending order and merging two lists having min distances\n",
    "        dist_store = sorted(dist_store, key = lambda x:x[0])\n",
    "        # now merge first one\n",
    "        to_merge = dist_store[0]\n",
    "        clusters[to_merge[1]].extend(clusters[to_merge[2]])\n",
    "        del clusters[to_merge[2]]\n",
    "        curr_clusters -= 1\n",
    "    clusters = sorted(clusters, key = lambda x: len(x))\n",
    "    clusters = clusters[::-1]\n",
    "    return clusters\n",
    "    "
   ]
  },
  {
   "cell_type": "code",
   "execution_count": 19,
   "metadata": {},
   "outputs": [],
   "source": [
    "def agglomerative_clustering_multi(X_train, n_cluster):\n",
    "    '''\n",
    "    X_train: Training dataset on which it will calculate similarity\n",
    "    n_cluster: Number of clusters required\n",
    "    Returns a cluster list which will contain informations of clusters\n",
    "    '''\n",
    "    #Every points in datset is a single cluster initially\n",
    "    clusters = []\n",
    "    for i in range(len(X_train)):\n",
    "        clusters.append([i])\n",
    "    # curr cluster is number of current clusters, dist_store will store distances\n",
    "    curr_clusters = len(X_train)\n",
    "    dist_store = []\n",
    "    while curr_clusters > n_cluster:\n",
    "        dist_store.clear()\n",
    "        for i in range(curr_clusters):\n",
    "            for j in range(i+1, curr_clusters):\n",
    "                dist_store.append([calc_dist(clusters[i], clusters[j], max, X_train), j, i])\n",
    "        # sorting distances in ascending order and merging two lists having min distances\n",
    "        dist_store = sorted(dist_store, key = lambda x:x[0])\n",
    "        # now merge first one\n",
    "        to_merge = dist_store[0]\n",
    "        clusters[to_merge[1]].extend(clusters[to_merge[2]])\n",
    "        del clusters[to_merge[2]]\n",
    "        curr_clusters -= 1\n",
    "    clusters = sorted(clusters, key = lambda x: len(x))\n",
    "    clusters = clusters[::-1]\n",
    "    return clusters\n",
    "    "
   ]
  },
  {
   "cell_type": "markdown",
   "metadata": {},
   "source": [
    "# Clustering based on Title"
   ]
  },
  {
   "cell_type": "code",
   "execution_count": 20,
   "metadata": {},
   "outputs": [],
   "source": [
    "X_title = X_train[\"Title\"].str.split(\" \")"
   ]
  },
  {
   "cell_type": "code",
   "execution_count": 21,
   "metadata": {
    "scrolled": false
   },
   "outputs": [],
   "source": [
    "title_pred_single = agglomerative_clustering_single(X_title, 9)"
   ]
  },
  {
   "cell_type": "code",
   "execution_count": 64,
   "metadata": {},
   "outputs": [
    {
     "name": "stdout",
     "output_type": "stream",
     "text": [
      "Printing clusters for single linkage hierarchical clustering, considering only title\n",
      "0: [141, 140, 139, 138, 137, 136, 135, 134, 133, 132, 131, 130, 129, 128, 127, 126, 125, 124, 123, 122, 121, 120, 119, 118, 117, 116, 115, 114, 113, 112, 111, 110, 109, 108, 107, 106, 105, 104, 103, 102, 101, 100, 99, 98, 97, 96, 95, 94, 93, 92, 91, 90, 89, 88, 87, 86, 85, 84, 83, 82, 81, 80, 79, 78, 77, 76, 75, 74, 73, 72, 71, 70, 69, 68, 67, 66, 65, 64, 63, 62, 61, 60, 59, 58, 57, 56, 55, 54, 53, 52, 51, 50, 49, 48, 47, 46, 45, 44, 43, 42, 41, 40, 39, 38, 37, 36, 35, 34, 33, 32, 31, 30, 29, 28, 27, 26, 25, 24, 23, 22, 21, 20, 19, 18, 17, 16, 15, 14, 13, 12, 11, 10, 9, 8, 7, 6, 5, 4, 3, 2, 1, 0]\n",
      "1: [149]\n",
      "2: [148]\n",
      "3: [147]\n",
      "4: [146]\n",
      "5: [145]\n",
      "6: [144]\n",
      "7: [143]\n",
      "8: [142]\n"
     ]
    }
   ],
   "source": [
    "print(f\"Printing clusters for single linkage hierarchical clustering, considering only title\")\n",
    "for i, cluster in enumerate(title_pred_single):\n",
    "    print(f\"{i}: {cluster}\")"
   ]
  },
  {
   "cell_type": "code",
   "execution_count": 23,
   "metadata": {},
   "outputs": [],
   "source": [
    "title_pred_multi = agglomerative_clustering_multi(X_title, 9)"
   ]
  },
  {
   "cell_type": "code",
   "execution_count": 66,
   "metadata": {},
   "outputs": [
    {
     "name": "stdout",
     "output_type": "stream",
     "text": [
      "Printing clusters for multi linkage hierarchical clustering, considering only title\n",
      "0: [148, 127, 111, 94, 84, 71, 62, 54, 49, 46, 36, 31, 28, 23, 21, 18, 15, 12, 10, 8, 7, 6, 5, 4, 3, 2, 1, 0]\n",
      "1: [149, 129, 113, 95, 85, 73, 63, 56, 55, 50, 45, 41, 40, 39, 38, 34, 30, 142, 125, 109, 104, 131, 128]\n",
      "2: [144, 123, 105, 93, 83, 79, 72, 143, 136, 119, 97, 86, 74, 64, 57, 51, 47, 43, 134, 116, 112, 106]\n",
      "3: [146, 126, 110, 92, 81, 69, 60, 53, 44, 35, 32, 29, 26, 24, 20, 16, 14, 139, 130]\n",
      "4: [140, 118, 96, 87, 75, 61, 52, 48, 42, 37, 33, 27, 25, 22, 19, 17, 13, 11, 9]\n",
      "5: [141, 122, 107, 103, 135, 117, 115, 133, 114, 100, 98, 88, 76, 67, 59]\n",
      "6: [147, 132, 137, 120, 99, 90, 77, 68, 65]\n",
      "7: [145, 124, 108, 89, 82, 78, 70, 66, 58]\n",
      "8: [138, 121, 102, 101, 91, 80]\n"
     ]
    }
   ],
   "source": [
    "print(f\"Printing clusters for multi linkage hierarchical clustering, considering only title\")\n",
    "for i, cluster in enumerate(title_pred_multi):\n",
    "    print(f\"{i}: {cluster}\")"
   ]
  },
  {
   "cell_type": "markdown",
   "metadata": {},
   "source": [
    "# Clustering based on Keywords"
   ]
  },
  {
   "cell_type": "code",
   "execution_count": 25,
   "metadata": {},
   "outputs": [],
   "source": [
    "X_keywords = X_train[\"Keywords\"].str.split(\" \")"
   ]
  },
  {
   "cell_type": "code",
   "execution_count": 26,
   "metadata": {},
   "outputs": [],
   "source": [
    "keywords_pred_single = agglomerative_clustering_single(X_keywords, 9)"
   ]
  },
  {
   "cell_type": "code",
   "execution_count": 68,
   "metadata": {},
   "outputs": [
    {
     "name": "stdout",
     "output_type": "stream",
     "text": [
      "Printing clusters for single linkage hierarchical clustering, considering only keywords\n",
      "0: [141, 140, 139, 138, 137, 136, 135, 134, 133, 132, 131, 130, 129, 128, 127, 126, 125, 124, 123, 122, 121, 120, 119, 118, 117, 116, 115, 114, 113, 112, 111, 110, 109, 108, 107, 106, 105, 104, 103, 102, 101, 100, 99, 98, 97, 96, 95, 94, 93, 92, 91, 90, 89, 88, 87, 86, 85, 84, 83, 82, 81, 80, 79, 78, 77, 76, 75, 74, 73, 72, 71, 70, 69, 68, 67, 66, 65, 64, 63, 62, 61, 60, 59, 58, 57, 56, 55, 54, 53, 52, 51, 50, 49, 48, 47, 46, 45, 44, 43, 42, 41, 40, 39, 38, 37, 36, 35, 34, 33, 32, 31, 30, 29, 28, 27, 26, 25, 24, 23, 22, 21, 20, 19, 18, 17, 16, 15, 14, 13, 12, 11, 10, 9, 8, 7, 6, 5, 4, 3, 2, 1, 0]\n",
      "1: [149]\n",
      "2: [148]\n",
      "3: [147]\n",
      "4: [146]\n",
      "5: [145]\n",
      "6: [144]\n",
      "7: [143]\n",
      "8: [142]\n"
     ]
    }
   ],
   "source": [
    "print(f\"Printing clusters for single linkage hierarchical clustering, considering only keywords\")\n",
    "for i, cluster in enumerate(keywords_pred_single):\n",
    "    print(f\"{i}: {cluster}\")"
   ]
  },
  {
   "cell_type": "code",
   "execution_count": 28,
   "metadata": {},
   "outputs": [],
   "source": [
    "keywords_pred_multi = agglomerative_clustering_multi(X_keywords, 9)"
   ]
  },
  {
   "cell_type": "code",
   "execution_count": 67,
   "metadata": {},
   "outputs": [
    {
     "name": "stdout",
     "output_type": "stream",
     "text": [
      "Printing clusters for multi linkage hierarchical clustering, considering only keywords\n",
      "0: [139, 119, 101, 87, 77, 67, 56, 46, 132, 121, 103, 128, 109, 93, 83, 71, 62, 54, 39, 33, 29, 23, 19, 15, 126, 107, 91, 81, 70, 60, 50, 43]\n",
      "1: [149, 127, 108, 98, 134, 117, 147, 118, 99, 86, 73, 65, 57, 47, 37, 31, 26, 25, 21, 18, 13, 10, 8, 6, 4]\n",
      "2: [141, 112, 95, 84, 74, 64, 53, 42, 35, 30, 24, 20, 16, 12, 133, 138, 123, 105, 90, 79, 69, 59, 49, 41]\n",
      "3: [145, 113, 96, 76, 63, 51, 40, 34, 28, 22, 17, 14, 11, 9, 7, 5, 3, 2, 1, 0]\n",
      "4: [148, 124, 106, 144, 129, 114, 130, 140, 116, 97, 85, 75, 66, 55, 45, 38, 32, 27]\n",
      "5: [136, 111, 92, 82, 72, 61, 52, 44, 36, 131, 115, 100]\n",
      "6: [143, 135, 110, 94, 88, 78, 68, 58, 48]\n",
      "7: [146, 120, 102, 89, 80]\n",
      "8: [142, 125, 137, 122, 104]\n"
     ]
    }
   ],
   "source": [
    "print(f\"Printing clusters for multi linkage hierarchical clustering, considering only keywords\")\n",
    "for i, cluster in enumerate(keywords_pred_multi):\n",
    "    print(f\"{i}: {cluster}\")"
   ]
  },
  {
   "cell_type": "markdown",
   "metadata": {},
   "source": [
    "# Clustering on Topics"
   ]
  },
  {
   "cell_type": "code",
   "execution_count": 30,
   "metadata": {},
   "outputs": [],
   "source": [
    "X_topics = X_train[\"Topics\"].str.split(\" \")"
   ]
  },
  {
   "cell_type": "code",
   "execution_count": 31,
   "metadata": {},
   "outputs": [],
   "source": [
    "topics_pred_single = agglomerative_clustering_single(X_topics, 9)"
   ]
  },
  {
   "cell_type": "code",
   "execution_count": 69,
   "metadata": {},
   "outputs": [
    {
     "name": "stdout",
     "output_type": "stream",
     "text": [
      "Printing clusters for single linkage hierarchical clustering, considering only topics\n",
      "0: [141, 140, 139, 138, 137, 136, 135, 134, 133, 132, 131, 130, 129, 128, 127, 126, 125, 124, 123, 122, 121, 120, 119, 118, 117, 116, 115, 114, 113, 112, 111, 110, 109, 108, 107, 106, 105, 104, 103, 102, 101, 100, 99, 98, 97, 96, 95, 94, 93, 92, 91, 90, 89, 88, 87, 86, 85, 84, 83, 82, 81, 80, 79, 78, 77, 76, 75, 74, 73, 72, 71, 70, 69, 68, 67, 66, 65, 64, 63, 62, 61, 60, 59, 58, 57, 56, 55, 54, 53, 52, 51, 50, 49, 48, 47, 46, 45, 44, 43, 42, 41, 40, 39, 38, 37, 36, 35, 34, 33, 32, 31, 30, 29, 28, 27, 26, 25, 24, 23, 22, 21, 20, 19, 18, 17, 16, 15, 14, 13, 12, 11, 10, 9, 8, 7, 6, 5, 4, 3, 2, 1, 0]\n",
      "1: [149]\n",
      "2: [148]\n",
      "3: [147]\n",
      "4: [146]\n",
      "5: [145]\n",
      "6: [144]\n",
      "7: [143]\n",
      "8: [142]\n"
     ]
    }
   ],
   "source": [
    "print(f\"Printing clusters for single linkage hierarchical clustering, considering only topics\")\n",
    "for i, cluster in enumerate(topics_pred_single):\n",
    "    print(f\"{i}: {cluster}\")"
   ]
  },
  {
   "cell_type": "code",
   "execution_count": 33,
   "metadata": {},
   "outputs": [],
   "source": [
    "topics_pred_multi = agglomerative_clustering_multi(X_topics, 9)"
   ]
  },
  {
   "cell_type": "code",
   "execution_count": 71,
   "metadata": {},
   "outputs": [
    {
     "name": "stdout",
     "output_type": "stream",
     "text": [
      "Printing clusters for multi linkage hierarchical clustering, considering only topics\n",
      "0: [146, 71, 39, 37, 27, 26, 109, 117, 90, 124, 67, 48, 119, 116, 107, 89, 58, 115, 91, 56, 35, 18, 16, 88, 55, 36, 30]\n",
      "1: [145, 136, 73, 44, 33, 32, 106, 77, 126, 92, 144, 108, 137, 85, 70, 74, 46, 21, 20, 128, 93]\n",
      "2: [133, 96, 61, 127, 97, 62, 103, 104, 82, 130, 69, 31, 25, 15, 11, 5, 3, 1, 0, 110, 63]\n",
      "3: [149, 138, 99, 118, 113, 131, 75, 60, 45, 87, 120, 111, 65, 141, 129, 72, 49, 34, 125, 123]\n",
      "4: [148, 143, 105, 86, 98, 83, 81, 52, 42, 139, 134, 100, 53, 41, 19, 14, 114]\n",
      "5: [135, 79, 54, 122, 112, 66, 43, 24, 12, 10, 94, 76, 101, 64]\n",
      "6: [140, 80, 57, 121, 68, 47, 40, 132, 95, 59, 38]\n",
      "7: [142, 102, 78, 50, 29, 23, 22, 13, 8, 6]\n",
      "8: [147, 84, 51, 28, 17, 9, 7, 4, 2]\n"
     ]
    }
   ],
   "source": [
    "print(f\"Printing clusters for multi linkage hierarchical clustering, considering only topics\")\n",
    "for i, cluster in enumerate(topics_pred_multi):\n",
    "    print(f\"{i}: {cluster}\")"
   ]
  },
  {
   "cell_type": "markdown",
   "metadata": {},
   "source": [
    "# Clustering on Abstract"
   ]
  },
  {
   "cell_type": "code",
   "execution_count": 35,
   "metadata": {},
   "outputs": [],
   "source": [
    "X_abstract = X_train[\"Abstract\"].str.split(\" \")"
   ]
  },
  {
   "cell_type": "code",
   "execution_count": 36,
   "metadata": {},
   "outputs": [],
   "source": [
    "abstract_pred_single = agglomerative_clustering_single(X_abstract, 9)"
   ]
  },
  {
   "cell_type": "code",
   "execution_count": 73,
   "metadata": {},
   "outputs": [
    {
     "name": "stdout",
     "output_type": "stream",
     "text": [
      "Printing clusters for single linkage hierarchical clustering, considering only abstract\n",
      "0: [149, 136, 138, 70, 144, 117, 55, 73, 88, 0, 93, 8, 11, 124, 25, 20, 9, 78, 4, 41, 63, 75, 36, 54, 126, 98, 68, 137, 109, 39, 5, 97, 129, 12, 120, 108, 79, 34, 72, 60, 100, 59, 106, 19, 51, 17, 22, 118, 85, 52, 30, 35, 119, 116, 6, 146, 42, 33, 111, 113, 135, 90, 62, 87, 128, 145, 50, 127, 141, 31, 53, 71, 47, 15, 82, 56, 107, 121, 18, 66, 57, 2, 28, 49, 16, 94, 83, 95, 134, 76, 23, 58, 104, 61, 114, 96, 115, 105, 148, 131, 29, 48, 7, 99, 46, 122, 86, 89, 1, 37, 101, 80, 64, 103, 110, 67, 123, 133, 65, 69, 74, 132, 140, 38, 147, 139, 13, 26, 43, 130, 24, 92, 3, 45, 40, 21, 77, 102, 143, 91, 27, 142]\n",
      "1: [125]\n",
      "2: [112]\n",
      "3: [84]\n",
      "4: [81]\n",
      "5: [44]\n",
      "6: [32]\n",
      "7: [14]\n",
      "8: [10]\n"
     ]
    }
   ],
   "source": [
    "print(f\"Printing clusters for single linkage hierarchical clustering, considering only abstract\")\n",
    "for i, cluster in enumerate(abstract_pred_single):\n",
    "    print(f\"{i}: {cluster}\")"
   ]
  },
  {
   "cell_type": "code",
   "execution_count": 38,
   "metadata": {},
   "outputs": [],
   "source": [
    "abstract_pred_multi = agglomerative_clustering_multi(X_abstract, 9)"
   ]
  },
  {
   "cell_type": "code",
   "execution_count": 72,
   "metadata": {},
   "outputs": [
    {
     "name": "stdout",
     "output_type": "stream",
     "text": [
      "Printing clusters for multi linkage hierarchical clustering, considering only abstract\n",
      "0: [146, 42, 132, 47, 125, 122, 138, 31, 72, 60, 88, 18, 126, 28, 23, 102, 145, 106, 134, 76, 51, 81, 21, 11, 0, 139, 65, 133, 97, 104, 61, 66, 24, 112, 43, 96, 13, 94, 83]\n",
      "1: [147, 137, 5, 111, 105, 90, 62, 3, 79, 34, 57, 141, 30, 110, 119, 50, 7, 118, 75, 36, 92, 10]\n",
      "2: [149, 136, 69, 127, 59, 44, 131, 107, 115, 35, 129, 12, 70, 38, 1]\n",
      "3: [142, 87, 6, 2, 135, 33, 80, 32, 73, 25, 49, 48, 67, 40]\n",
      "4: [130, 74, 120, 20, 9, 93, 8, 53, 63, 17, 101, 37, 58, 14]\n",
      "5: [143, 123, 113, 77, 91, 140, 100, 124, 103, 95, 89, 82, 56]\n",
      "6: [128, 78, 4, 27, 116, 54, 109, 39, 99, 46, 98, 68, 22]\n",
      "7: [148, 121, 144, 71, 114, 15, 86, 29, 26, 64, 45]\n",
      "8: [117, 55, 84, 108, 41, 19, 85, 52, 16]\n"
     ]
    }
   ],
   "source": [
    "print(f\"Printing clusters for multi linkage hierarchical clustering, considering only abstract\")\n",
    "for i, cluster in enumerate(abstract_pred_multi):\n",
    "    print(f\"{i}: {cluster}\")"
   ]
  },
  {
   "cell_type": "markdown",
   "metadata": {},
   "source": [
    "# Removing stopwords, and again repeating above works"
   ]
  },
  {
   "cell_type": "code",
   "execution_count": 40,
   "metadata": {},
   "outputs": [],
   "source": [
    "from nltk.corpus import stopwords"
   ]
  },
  {
   "cell_type": "code",
   "execution_count": 41,
   "metadata": {},
   "outputs": [],
   "source": [
    "stop_words = set(stopwords.words('english'))"
   ]
  },
  {
   "cell_type": "markdown",
   "metadata": {},
   "source": [
    "## Clustering based on Title"
   ]
  },
  {
   "cell_type": "code",
   "execution_count": 42,
   "metadata": {},
   "outputs": [],
   "source": [
    "X_title = X_train[\"Title\"].str.split(\" \")\n",
    "X_title = X_title.apply(lambda x: [item for item in x if item not in stop_words])"
   ]
  },
  {
   "cell_type": "code",
   "execution_count": 43,
   "metadata": {
    "scrolled": false
   },
   "outputs": [],
   "source": [
    "title_pred_single = agglomerative_clustering_single(X_title, 9)"
   ]
  },
  {
   "cell_type": "code",
   "execution_count": 44,
   "metadata": {},
   "outputs": [
    {
     "name": "stdout",
     "output_type": "stream",
     "text": [
      "[[141, 140, 139, 138, 137, 136, 135, 134, 133, 132, 131, 130, 129, 128, 127, 126, 125, 124, 123, 122, 121, 120, 119, 118, 117, 116, 115, 114, 113, 112, 111, 110, 109, 108, 107, 106, 105, 104, 103, 102, 101, 100, 99, 98, 97, 96, 95, 94, 93, 92, 91, 90, 89, 88, 87, 86, 85, 84, 83, 82, 81, 80, 79, 78, 77, 76, 75, 74, 73, 72, 71, 70, 69, 68, 67, 66, 65, 64, 63, 62, 61, 60, 59, 58, 57, 56, 55, 54, 53, 52, 51, 50, 49, 48, 47, 46, 45, 44, 43, 42, 41, 40, 39, 38, 37, 36, 35, 34, 33, 32, 31, 30, 29, 28, 27, 26, 25, 24, 23, 22, 21, 20, 19, 18, 17, 16, 15, 14, 13, 12, 11, 10, 9, 8, 7, 6, 5, 4, 3, 2, 1, 0], [149], [148], [147], [146], [145], [144], [143], [142]]\n"
     ]
    }
   ],
   "source": [
    "print(title_pred_single)"
   ]
  },
  {
   "cell_type": "code",
   "execution_count": 45,
   "metadata": {},
   "outputs": [],
   "source": [
    "title_pred_multi = agglomerative_clustering_multi(X_title, 9)"
   ]
  },
  {
   "cell_type": "code",
   "execution_count": 76,
   "metadata": {},
   "outputs": [
    {
     "name": "stdout",
     "output_type": "stream",
     "text": [
      "Printing clusters for multi linkage hierarchical clustering, considering only topics\n",
      "0: [146, 71, 39, 37, 27, 26, 109, 117, 90, 124, 67, 48, 119, 116, 107, 89, 58, 115, 91, 56, 35, 18, 16, 88, 55, 36, 30]\n",
      "1: [145, 136, 73, 44, 33, 32, 106, 77, 126, 92, 144, 108, 137, 85, 70, 74, 46, 21, 20, 128, 93]\n",
      "2: [133, 96, 61, 127, 97, 62, 103, 104, 82, 130, 69, 31, 25, 15, 11, 5, 3, 1, 0, 110, 63]\n",
      "3: [149, 138, 99, 118, 113, 131, 75, 60, 45, 87, 120, 111, 65, 141, 129, 72, 49, 34, 125, 123]\n",
      "4: [148, 143, 105, 86, 98, 83, 81, 52, 42, 139, 134, 100, 53, 41, 19, 14, 114]\n",
      "5: [135, 79, 54, 122, 112, 66, 43, 24, 12, 10, 94, 76, 101, 64]\n",
      "6: [140, 80, 57, 121, 68, 47, 40, 132, 95, 59, 38]\n",
      "7: [142, 102, 78, 50, 29, 23, 22, 13, 8, 6]\n",
      "8: [147, 84, 51, 28, 17, 9, 7, 4, 2]\n"
     ]
    }
   ],
   "source": [
    "print(f\"Printing clusters for multi linkage hierarchical clustering, considering only topics\")\n",
    "for i, cluster in enumerate(topics_pred_multi):\n",
    "    print(f\"{i}: {cluster}\")"
   ]
  },
  {
   "cell_type": "markdown",
   "metadata": {},
   "source": [
    "## Clustering based on Keywords"
   ]
  },
  {
   "cell_type": "code",
   "execution_count": 47,
   "metadata": {},
   "outputs": [],
   "source": [
    "X_keywords = X_train[\"Keywords\"].str.split(\" \")\n",
    "X_keywords = X_keywords.apply(lambda x: [item for item in x if item not in stop_words])"
   ]
  },
  {
   "cell_type": "code",
   "execution_count": 48,
   "metadata": {},
   "outputs": [],
   "source": [
    "keywords_pred_single = agglomerative_clustering_single(X_keywords, 9)"
   ]
  },
  {
   "cell_type": "code",
   "execution_count": 79,
   "metadata": {},
   "outputs": [
    {
     "name": "stdout",
     "output_type": "stream",
     "text": [
      "Printing clusters for single linkage hierarchical clustering, considering only keywords\n",
      "0: [141, 140, 139, 138, 137, 136, 135, 134, 133, 132, 131, 130, 129, 128, 127, 126, 125, 124, 123, 122, 121, 120, 119, 118, 117, 116, 115, 114, 113, 112, 111, 110, 109, 108, 107, 106, 105, 104, 103, 102, 101, 100, 99, 98, 97, 96, 95, 94, 93, 92, 91, 90, 89, 88, 87, 86, 85, 84, 83, 82, 81, 80, 79, 78, 77, 76, 75, 74, 73, 72, 71, 70, 69, 68, 67, 66, 65, 64, 63, 62, 61, 60, 59, 58, 57, 56, 55, 54, 53, 52, 51, 50, 49, 48, 47, 46, 45, 44, 43, 42, 41, 40, 39, 38, 37, 36, 35, 34, 33, 32, 31, 30, 29, 28, 27, 26, 25, 24, 23, 22, 21, 20, 19, 18, 17, 16, 15, 14, 13, 12, 11, 10, 9, 8, 7, 6, 5, 4, 3, 2, 1, 0]\n",
      "1: [149]\n",
      "2: [148]\n",
      "3: [147]\n",
      "4: [146]\n",
      "5: [145]\n",
      "6: [144]\n",
      "7: [143]\n",
      "8: [142]\n"
     ]
    }
   ],
   "source": [
    "print(f\"Printing clusters for single linkage hierarchical clustering, considering only keywords\")\n",
    "for i, cluster in enumerate(keywords_pred_single):\n",
    "    print(f\"{i}: {cluster}\")"
   ]
  },
  {
   "cell_type": "code",
   "execution_count": 50,
   "metadata": {},
   "outputs": [],
   "source": [
    "keywords_pred_multi = agglomerative_clustering_multi(X_keywords, 9)"
   ]
  },
  {
   "cell_type": "code",
   "execution_count": 78,
   "metadata": {},
   "outputs": [
    {
     "name": "stdout",
     "output_type": "stream",
     "text": [
      "Printing clusters for multi linkage hierarchical clustering, considering only keywords\n",
      "0: [139, 119, 101, 87, 77, 67, 56, 46, 132, 121, 103, 128, 109, 93, 83, 71, 62, 54, 39, 33, 29, 23, 19, 15, 126, 107, 91, 81, 70, 60, 50, 43]\n",
      "1: [149, 127, 108, 98, 134, 117, 147, 118, 99, 86, 73, 65, 57, 47, 37, 31, 26, 25, 21, 18, 13, 10, 8, 6, 4]\n",
      "2: [141, 112, 95, 84, 74, 64, 53, 42, 35, 30, 24, 20, 16, 12, 133, 138, 123, 105, 90, 79, 69, 59, 49, 41]\n",
      "3: [145, 113, 96, 76, 63, 51, 40, 34, 28, 22, 17, 14, 11, 9, 7, 5, 3, 2, 1, 0]\n",
      "4: [148, 124, 106, 144, 129, 114, 130, 140, 116, 97, 85, 75, 66, 55, 45, 38, 32, 27]\n",
      "5: [136, 111, 92, 82, 72, 61, 52, 44, 36, 131, 115, 100]\n",
      "6: [143, 135, 110, 94, 88, 78, 68, 58, 48]\n",
      "7: [146, 120, 102, 89, 80]\n",
      "8: [142, 125, 137, 122, 104]\n"
     ]
    }
   ],
   "source": [
    "print(f\"Printing clusters for multi linkage hierarchical clustering, considering only keywords\")\n",
    "for i, cluster in enumerate(keywords_pred_multi):\n",
    "    print(f\"{i}: {cluster}\")"
   ]
  },
  {
   "cell_type": "markdown",
   "metadata": {},
   "source": [
    "## Clustering on Topics"
   ]
  },
  {
   "cell_type": "code",
   "execution_count": 52,
   "metadata": {},
   "outputs": [],
   "source": [
    "X_topics = X_train[\"Topics\"].str.split(\" \")\n",
    "X_topics = X_topics.apply(lambda x: [item for item in x if item not in stop_words])"
   ]
  },
  {
   "cell_type": "code",
   "execution_count": 53,
   "metadata": {},
   "outputs": [],
   "source": [
    "topics_pred_single = agglomerative_clustering_single(X_topics, 9)"
   ]
  },
  {
   "cell_type": "code",
   "execution_count": 77,
   "metadata": {},
   "outputs": [
    {
     "name": "stdout",
     "output_type": "stream",
     "text": [
      "Printing clusters for single linkage hierarchical clustering, considering only topics\n",
      "0: [141, 140, 139, 138, 137, 136, 135, 134, 133, 132, 131, 130, 129, 128, 127, 126, 125, 124, 123, 122, 121, 120, 119, 118, 117, 116, 115, 114, 113, 112, 111, 110, 109, 108, 107, 106, 105, 104, 103, 102, 101, 100, 99, 98, 97, 96, 95, 94, 93, 92, 91, 90, 89, 88, 87, 86, 85, 84, 83, 82, 81, 80, 79, 78, 77, 76, 75, 74, 73, 72, 71, 70, 69, 68, 67, 66, 65, 64, 63, 62, 61, 60, 59, 58, 57, 56, 55, 54, 53, 52, 51, 50, 49, 48, 47, 46, 45, 44, 43, 42, 41, 40, 39, 38, 37, 36, 35, 34, 33, 32, 31, 30, 29, 28, 27, 26, 25, 24, 23, 22, 21, 20, 19, 18, 17, 16, 15, 14, 13, 12, 11, 10, 9, 8, 7, 6, 5, 4, 3, 2, 1, 0]\n",
      "1: [149]\n",
      "2: [148]\n",
      "3: [147]\n",
      "4: [146]\n",
      "5: [145]\n",
      "6: [144]\n",
      "7: [143]\n",
      "8: [142]\n"
     ]
    }
   ],
   "source": [
    "print(f\"Printing clusters for single linkage hierarchical clustering, considering only topics\")\n",
    "for i, cluster in enumerate(topics_pred_single):\n",
    "    print(f\"{i}: {cluster}\")"
   ]
  },
  {
   "cell_type": "code",
   "execution_count": 55,
   "metadata": {},
   "outputs": [],
   "source": [
    "topics_pred_multi = agglomerative_clustering_multi(X_topics, 9)"
   ]
  },
  {
   "cell_type": "code",
   "execution_count": 56,
   "metadata": {},
   "outputs": [
    {
     "name": "stdout",
     "output_type": "stream",
     "text": [
      "[[146, 71, 39, 37, 27, 26, 109, 117, 90, 124, 67, 48, 119, 116, 107, 89, 58, 115, 91, 56, 35, 18, 16, 88, 55, 36, 30], [145, 136, 73, 44, 33, 32, 106, 77, 126, 92, 144, 108, 137, 85, 70, 74, 46, 21, 20, 128, 93], [133, 96, 61, 127, 97, 62, 103, 104, 82, 130, 69, 31, 25, 15, 11, 5, 3, 1, 0, 110, 63], [149, 138, 99, 118, 113, 131, 75, 60, 45, 87, 120, 111, 65, 141, 129, 72, 49, 34, 125, 123], [148, 143, 105, 86, 98, 83, 81, 52, 42, 139, 134, 100, 53, 41, 19, 14, 114], [135, 79, 54, 122, 112, 66, 43, 24, 12, 10, 94, 76, 101, 64], [140, 80, 57, 121, 68, 47, 40, 132, 95, 59, 38], [142, 102, 78, 50, 29, 23, 22, 13, 8, 6], [147, 84, 51, 28, 17, 9, 7, 4, 2]]\n"
     ]
    }
   ],
   "source": [
    "print(topics_pred_multi)"
   ]
  },
  {
   "cell_type": "markdown",
   "metadata": {},
   "source": [
    "## Clustering on Abstract"
   ]
  },
  {
   "cell_type": "code",
   "execution_count": 57,
   "metadata": {},
   "outputs": [],
   "source": [
    "X_abstract = X_train[\"Abstract\"].str.split(\" \")\n",
    "X_abstract = X_abstract.apply(lambda x: [item for item in x if item not in stop_words])"
   ]
  },
  {
   "cell_type": "code",
   "execution_count": 58,
   "metadata": {},
   "outputs": [],
   "source": [
    "abstract_pred_single = agglomerative_clustering_single(X_abstract, 9)"
   ]
  },
  {
   "cell_type": "code",
   "execution_count": 74,
   "metadata": {},
   "outputs": [
    {
     "name": "stdout",
     "output_type": "stream",
     "text": [
      "Printing clusters for single linkage hierarchical clustering, considering only abstract\n",
      "0: [149, 136, 138, 70, 144, 117, 55, 73, 88, 0, 93, 8, 11, 124, 25, 20, 9, 78, 4, 41, 63, 75, 36, 54, 126, 98, 68, 137, 109, 39, 5, 97, 129, 12, 120, 108, 79, 34, 72, 60, 100, 59, 106, 19, 51, 17, 22, 118, 85, 52, 30, 35, 119, 116, 6, 146, 42, 33, 111, 113, 135, 90, 62, 87, 128, 145, 50, 127, 141, 31, 53, 71, 47, 15, 82, 56, 107, 121, 18, 66, 57, 2, 28, 49, 16, 94, 83, 95, 134, 76, 23, 58, 104, 61, 114, 96, 115, 105, 148, 131, 29, 48, 7, 99, 46, 122, 86, 89, 1, 37, 101, 80, 64, 103, 110, 67, 123, 133, 65, 69, 74, 132, 140, 38, 147, 139, 13, 26, 43, 130, 24, 92, 3, 45, 40, 21, 77, 102, 143, 91, 27, 142]\n",
      "1: [125]\n",
      "2: [112]\n",
      "3: [84]\n",
      "4: [81]\n",
      "5: [44]\n",
      "6: [32]\n",
      "7: [14]\n",
      "8: [10]\n"
     ]
    }
   ],
   "source": [
    "print(f\"Printing clusters for single linkage hierarchical clustering, considering only abstract\")\n",
    "for i, cluster in enumerate(abstract_pred_single):\n",
    "    print(f\"{i}: {cluster}\")"
   ]
  },
  {
   "cell_type": "code",
   "execution_count": 60,
   "metadata": {},
   "outputs": [],
   "source": [
    "abstract_pred_multi = agglomerative_clustering_multi(X_abstract, 9)"
   ]
  },
  {
   "cell_type": "code",
   "execution_count": 75,
   "metadata": {},
   "outputs": [
    {
     "name": "stdout",
     "output_type": "stream",
     "text": [
      "Printing clusters for multi linkage hierarchical clustering, considering only abstract\n",
      "0: [146, 42, 132, 47, 125, 122, 138, 31, 72, 60, 88, 18, 126, 28, 23, 102, 145, 106, 134, 76, 51, 81, 21, 11, 0, 139, 65, 133, 97, 104, 61, 66, 24, 112, 43, 96, 13, 94, 83]\n",
      "1: [147, 137, 5, 111, 105, 90, 62, 3, 79, 34, 57, 141, 30, 110, 119, 50, 7, 118, 75, 36, 92, 10]\n",
      "2: [149, 136, 69, 127, 59, 44, 131, 107, 115, 35, 129, 12, 70, 38, 1]\n",
      "3: [142, 87, 6, 2, 135, 33, 80, 32, 73, 25, 49, 48, 67, 40]\n",
      "4: [130, 74, 120, 20, 9, 93, 8, 53, 63, 17, 101, 37, 58, 14]\n",
      "5: [143, 123, 113, 77, 91, 140, 100, 124, 103, 95, 89, 82, 56]\n",
      "6: [128, 78, 4, 27, 116, 54, 109, 39, 99, 46, 98, 68, 22]\n",
      "7: [148, 121, 144, 71, 114, 15, 86, 29, 26, 64, 45]\n",
      "8: [117, 55, 84, 108, 41, 19, 85, 52, 16]\n"
     ]
    }
   ],
   "source": [
    "print(f\"Printing clusters for multi linkage hierarchical clustering, considering only abstract\")\n",
    "for i, cluster in enumerate(abstract_pred_multi):\n",
    "    print(f\"{i}: {cluster}\")"
   ]
  },
  {
   "cell_type": "markdown",
   "metadata": {},
   "source": [
    "Clealry multi linkage algorithm is producing better result than single linkage algorithm"
   ]
  },
  {
   "cell_type": "code",
   "execution_count": null,
   "metadata": {},
   "outputs": [],
   "source": []
  }
 ],
 "metadata": {
  "kernelspec": {
   "display_name": "Python 3",
   "language": "python",
   "name": "python3"
  },
  "language_info": {
   "codemirror_mode": {
    "name": "ipython",
    "version": 3
   },
   "file_extension": ".py",
   "mimetype": "text/x-python",
   "name": "python",
   "nbconvert_exporter": "python",
   "pygments_lexer": "ipython3",
   "version": "3.7.3"
  }
 },
 "nbformat": 4,
 "nbformat_minor": 2
}
