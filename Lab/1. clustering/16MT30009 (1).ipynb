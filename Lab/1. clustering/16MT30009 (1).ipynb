{
 "cells": [
  {
   "cell_type": "markdown",
   "metadata": {},
   "source": [
    "# Lab 1"
   ]
  },
  {
   "cell_type": "markdown",
   "metadata": {},
   "source": [
    "## Imports"
   ]
  },
  {
   "cell_type": "code",
   "execution_count": 1,
   "metadata": {},
   "outputs": [],
   "source": [
    "import numpy as np\n",
    "import matplotlib.pyplot as plt\n",
    "import statistics\n",
    "from collections import Counter"
   ]
  },
  {
   "cell_type": "markdown",
   "metadata": {},
   "source": [
    "## Data Creation"
   ]
  },
  {
   "cell_type": "markdown",
   "metadata": {},
   "source": [
    "Sample 20 vectors from each gaussian\n",
    "\n",
    "$\\mu_1 = \\begin{bmatrix}2 \\\\ 2\\end{bmatrix}$  $\\sum_1 = \\begin{bmatrix} 2 & 0 \\\\ 0 & 2 \\end{bmatrix}$    \n",
    "$\\mu_2 = \\begin{bmatrix}4 \\\\ 4\\end{bmatrix}$  $\\sum_2 = \\begin{bmatrix} 2 & 0 \\\\ 0 & 2 \\end{bmatrix}$  \n",
    "$\\mu_3 = \\begin{bmatrix}3 \\\\ 4\\end{bmatrix}$  $\\sum_3 = \\begin{bmatrix} 2 & 0 \\\\ 0 & 1 \\end{bmatrix}$  \n",
    "$\\mu_4 = \\begin{bmatrix}2 \\\\ 3\\end{bmatrix}$  $\\sum_4 = \\begin{bmatrix} 1 & 0 \\\\ 0 & 2 \\end{bmatrix}$  \n",
    "$\\mu_5 = \\begin{bmatrix}3 \\\\ 3\\end{bmatrix}$  $\\sum_5 = \\begin{bmatrix} 3 & 0 \\\\ 0 & 3 \\end{bmatrix}$  "
   ]
  },
  {
   "cell_type": "code",
   "execution_count": 2,
   "metadata": {},
   "outputs": [],
   "source": [
    "# Means matrix\n",
    "means = []\n",
    "means.append(np.array([2, 3]))\n",
    "means.append(np.array([4, 4]))\n",
    "means.append(np.array([3, 4]))\n",
    "means.append(np.array([2, 3]))\n",
    "means.append(np.array([3, 3]))\n",
    "\n",
    "# Variance Matrix\n",
    "covariance = []\n",
    "covariance.append(np.array([[2, 0], [0, 2]]))\n",
    "covariance.append(np.array([[2, 0], [0, 2]]))\n",
    "covariance.append(np.array([[2, 0], [0, 1]]))\n",
    "covariance.append(np.array([[1, 0], [0, 2]]))\n",
    "covariance.append(np.array([[3, 0], [0, 3]]))"
   ]
  },
  {
   "cell_type": "markdown",
   "metadata": {},
   "source": [
    "Store vectors as a matrix [ each column = 1 vector] => $X_{train}$\n",
    "Store labels [(1, 2, 3, 4, 5)] as another vector => $Y_{train}$\n",
    "\n",
    "Sample another 5 vectors from each gaussian store vectors as matrix => $X_{test}$\n",
    "Store labels as vector => $Y_{test}$"
   ]
  },
  {
   "cell_type": "code",
   "execution_count": 3,
   "metadata": {},
   "outputs": [],
   "source": [
    "# generating training test data\n",
    "X_train = []\n",
    "Y_train = []\n",
    "for i in range(5):\n",
    "    X_train.append(np.random.multivariate_normal(means[i], covariance[i], (20)))\n",
    "    for j in range(20):\n",
    "        Y_train.append(i+1)\n",
    "X_train = np.array(X_train).reshape(100, 2)\n",
    "Y_train = np.array(Y_train).reshape(100, 1)\n",
    "\n",
    "# generating testing test data\n",
    "X_test = []\n",
    "Y_test = []\n",
    "for i in range(5):\n",
    "    X_test.append(np.random.multivariate_normal(means[i], covariance[i], (5)))\n",
    "    for j in range(5):\n",
    "        Y_test.append(i+1)\n",
    "\n",
    "X_test = np.array(X_test).reshape(25, 2)\n",
    "Y_test = np.array(Y_test).reshape(25, 1)"
   ]
  },
  {
   "cell_type": "markdown",
   "metadata": {},
   "source": [
    "## KNN Classifier"
   ]
  },
  {
   "cell_type": "markdown",
   "metadata": {},
   "source": [
    "Classify each vector in $X_{test}$ using KNN classifier. Compare $Y_{pred}$ with $Y_{test}$ and compute accuracy. \n",
    "Continue for K = 1, 3, 5\n"
   ]
  },
  {
   "cell_type": "markdown",
   "metadata": {},
   "source": [
    "### Utility functions"
   ]
  },
  {
   "cell_type": "code",
   "execution_count": 4,
   "metadata": {},
   "outputs": [],
   "source": [
    "def dist(a, b):\n",
    "    x1 = a[0]\n",
    "    y1 = a[1]\n",
    "    x2 = b[0]\n",
    "    y2 = b[1]\n",
    "    return np.sqrt((x1 - x2)**2 + (y1 - y2)** 2)"
   ]
  },
  {
   "cell_type": "markdown",
   "metadata": {},
   "source": [
    "## KNN"
   ]
  },
  {
   "cell_type": "code",
   "execution_count": 5,
   "metadata": {},
   "outputs": [],
   "source": [
    "def KNN(X_train, Y_train, X_test, Y_test, k):\n",
    "    Y_pred = []\n",
    "    for i in X_test:\n",
    "        dist_store = []\n",
    "        for j in range(len(X_train)):\n",
    "            distance = dist(X_train[j], i)\n",
    "            dist_store.append([distance, Y_train[j]])\n",
    "            \n",
    "        dist_store.sort()\n",
    "        classes = []\n",
    "        for i in range(k):\n",
    "            classes.append(dist_store[i][1][0])\n",
    "\n",
    "        mode = Counter(classes).most_common(1)[0][0]\n",
    "        Y_pred.append(mode)\n",
    "    \n",
    "    count = 0\n",
    "    \n",
    "    for i in range(len(Y_test)):\n",
    "        if Y_test[i] == Y_pred[i]:\n",
    "            count += 1\n",
    "            \n",
    "    accuracy = count/len(Y_test)\n",
    "    return accuracy\n",
    "    "
   ]
  },
  {
   "cell_type": "code",
   "execution_count": 6,
   "metadata": {},
   "outputs": [
    {
     "data": {
      "text/plain": [
       "0.32"
      ]
     },
     "execution_count": 6,
     "metadata": {},
     "output_type": "execute_result"
    }
   ],
   "source": [
    "KNN(X_train, Y_train, X_test, Y_test, 1)"
   ]
  },
  {
   "cell_type": "code",
   "execution_count": 7,
   "metadata": {},
   "outputs": [
    {
     "data": {
      "text/plain": [
       "0.32"
      ]
     },
     "execution_count": 7,
     "metadata": {},
     "output_type": "execute_result"
    }
   ],
   "source": [
    "KNN(X_train, Y_train, X_test, Y_test, 2)"
   ]
  },
  {
   "cell_type": "code",
   "execution_count": 8,
   "metadata": {},
   "outputs": [
    {
     "data": {
      "text/plain": [
       "0.32"
      ]
     },
     "execution_count": 8,
     "metadata": {},
     "output_type": "execute_result"
    }
   ],
   "source": [
    "KNN(X_train, Y_train, X_test, Y_test, 3)"
   ]
  },
  {
   "cell_type": "code",
   "execution_count": 9,
   "metadata": {},
   "outputs": [
    {
     "data": {
      "text/plain": [
       "0.44"
      ]
     },
     "execution_count": 9,
     "metadata": {},
     "output_type": "execute_result"
    }
   ],
   "source": [
    "KNN(X_train, Y_train, X_test, Y_test, 4)"
   ]
  },
  {
   "cell_type": "code",
   "execution_count": 10,
   "metadata": {},
   "outputs": [
    {
     "data": {
      "text/plain": [
       "0.44"
      ]
     },
     "execution_count": 10,
     "metadata": {},
     "output_type": "execute_result"
    }
   ],
   "source": [
    "KNN(X_train, Y_train, X_test, Y_test, 5)"
   ]
  },
  {
   "cell_type": "markdown",
   "metadata": {},
   "source": [
    "## Agglomerative Clustering"
   ]
  },
  {
   "cell_type": "markdown",
   "metadata": {},
   "source": [
    "Implement agglomerative clustering on all 100 vectors of $X_{train}$\n",
    "Use both single linkage and multiple linkage, Threshold = 2"
   ]
  },
  {
   "cell_type": "markdown",
   "metadata": {},
   "source": [
    "### Single Linkage"
   ]
  },
  {
   "cell_type": "code",
   "execution_count": 11,
   "metadata": {},
   "outputs": [],
   "source": [
    "def agglomerative_clustering_single(X_train, Y_train, X_test, Y_test, threshold=2):\n",
    "    clusters = []\n",
    "    for i in X_train:\n",
    "        clusters.append([i])\n",
    "    n = len(X_train)\n",
    "    for i in range(n):\n",
    "        curr_cluster = clusters[i]\n",
    "        for j in range(0, n):\n",
    "            if j == i:\n",
    "                continue\n",
    "            new_cluster = clusters[j]\n",
    "            curr_len = len(curr_cluster)\n",
    "            new_len = len(new_cluster)\n",
    "            min_dist = int(1e9)\n",
    "            for k in range(curr_len):\n",
    "                for l in range(new_len):\n",
    "                    min_dist = min(min_dist, dist(curr_cluster[k], new_cluster[l]))\n",
    "            if min_dist < threshold:\n",
    "                for element in clusters[j]:\n",
    "                    clusters[i].append(element)\n",
    "                clusters[j] = []\n",
    "    count = 0\n",
    "    for x in clusters:\n",
    "        if len(x):\n",
    "            count += 1\n",
    "              \n",
    "            \n",
    "    return count, clusters"
   ]
  },
  {
   "cell_type": "code",
   "execution_count": 12,
   "metadata": {},
   "outputs": [
    {
     "data": {
      "text/plain": [
       "2"
      ]
     },
     "execution_count": 12,
     "metadata": {},
     "output_type": "execute_result"
    }
   ],
   "source": [
    "count, clusters = agglomerative_clustering_single(X_train, Y_train, X_test, Y_test, 2)\n",
    "count"
   ]
  },
  {
   "cell_type": "markdown",
   "metadata": {},
   "source": [
    "### Multiple Linkage"
   ]
  },
  {
   "cell_type": "code",
   "execution_count": 13,
   "metadata": {},
   "outputs": [],
   "source": [
    "def agglomerative_clustering_multi(X_train, Y_train, X_test, Y_test, threshold=2):\n",
    "    clusters = []\n",
    "    for i in X_train:\n",
    "        clusters.append([i])\n",
    "    n = len(X_train)\n",
    "    for i in range(n):\n",
    "        curr_cluster = clusters[i]\n",
    "        for j in range(0, n):\n",
    "            if j == i:\n",
    "                continue\n",
    "            new_cluster = clusters[j]\n",
    "            curr_len = len(curr_cluster)\n",
    "            new_len = len(new_cluster)\n",
    "            max_dist = 0\n",
    "            for k in range(curr_len):\n",
    "                for l in range(new_len):\n",
    "                    max_dist = max(max_dist, dist(curr_cluster[k], new_cluster[l]))\n",
    "            if max_dist < threshold:\n",
    "                for element in clusters[j]:\n",
    "                    clusters[i].append(element)\n",
    "                clusters[j] = []\n",
    "    count = 0\n",
    "    for x in clusters:\n",
    "        if len(x):\n",
    "            count += 1\n",
    "              \n",
    "            \n",
    "    return count, clusters"
   ]
  },
  {
   "cell_type": "code",
   "execution_count": 14,
   "metadata": {},
   "outputs": [
    {
     "data": {
      "text/plain": [
       "16"
      ]
     },
     "execution_count": 14,
     "metadata": {},
     "output_type": "execute_result"
    }
   ],
   "source": [
    "count, clusters = agglomerative_clustering_multi(X_train, Y_train, X_test, Y_test, 2)\n",
    "count"
   ]
  },
  {
   "cell_type": "markdown",
   "metadata": {},
   "source": [
    "### Plotting \n"
   ]
  },
  {
   "cell_type": "markdown",
   "metadata": {},
   "source": [
    "Plot all the 100 vectors in $X_{train}$ (Scatter plot)\n",
    "* use separate color for each class and also separate colors for different clusters"
   ]
  },
  {
   "cell_type": "code",
   "execution_count": 15,
   "metadata": {},
   "outputs": [
    {
     "data": {
      "image/png": "[encoded data removed]",
      "text/plain": [
       "<Figure size 432x288 with 1 Axes>"
      ]
     },
     "metadata": {
      "needs_background": "light"
     },
     "output_type": "display_data"
    }
   ],
   "source": [
    "colors = ['b', 'g', 'r', 'c', 'm', 'y', 'k', 'w'] # note that this code will fail to plot correctly if number of clusters are greater than 8\n",
    "for i in range(len(X_train)):\n",
    "    plt.scatter(X_train[i][0], X_train[i][1], color=colors[Y_train[i][0]])"
   ]
  },
  {
   "cell_type": "markdown",
   "metadata": {},
   "source": [
    "Now draw scatter plot again, using separate colors for different clusters calculated using aglomerative clustering"
   ]
  },
  {
   "cell_type": "code",
   "execution_count": 16,
   "metadata": {},
   "outputs": [
    {
     "data": {
      "image/png": "[encoded data removed]",
      "text/plain": [
       "<Figure size 432x288 with 1 Axes>"
      ]
     },
     "metadata": {
      "needs_background": "light"
     },
     "output_type": "display_data"
    }
   ],
   "source": [
    "colors = ['b', 'g', 'r', 'c', 'm', 'y', 'k', 'w', 'dimgrey', 'darkorange', 'forestgreen', 'lightgreen', 'blueviolet', 'fuchsia', \n",
    "         'orchid', 'teal', 'darkcyan', 'aqua', 'powderblue', 'cadetblue']\n",
    "_, clusters = agglomerative_clustering_single(X_train, Y_train, X_test, Y_test, 2)\n",
    "colors_used = 0\n",
    "for i in range(len(clusters)):\n",
    "    for points in clusters[i]:\n",
    "        plt.scatter(points[0], points[1], color=colors[colors_used])\n",
    "    if len(clusters[i]):\n",
    "        colors_used += 1"
   ]
  },
  {
   "cell_type": "code",
   "execution_count": 17,
   "metadata": {},
   "outputs": [
    {
     "data": {
      "image/png": "[encoded data removed]",
      "text/plain": [
       "<Figure size 432x288 with 1 Axes>"
      ]
     },
     "metadata": {
      "needs_background": "light"
     },
     "output_type": "display_data"
    }
   ],
   "source": [
    "colors = ['b', 'g', 'r', 'c', 'm', 'y', 'k', 'w', 'dimgrey', 'darkorange', 'forestgreen', 'lightgreen', 'blueviolet', 'fuchsia', \n",
    "         'orchid', 'teal', 'darkcyan', 'aqua', 'powderblue', 'cadetblue']\n",
    "_, clusters = agglomerative_clustering_multi(X_train, Y_train, X_test, Y_test, 2)\n",
    "colors_used = 0\n",
    "for i in range(len(clusters)):\n",
    "    for points in clusters[i]:\n",
    "        plt.scatter(points[0], points[1], color=colors[colors_used])\n",
    "    if len(clusters[i]):\n",
    "        colors_used += 1"
   ]
  },
  {
   "cell_type": "code",
   "execution_count": null,
   "metadata": {},
   "outputs": [],
   "source": []
  },
  {
   "cell_type": "code",
   "execution_count": null,
   "metadata": {},
   "outputs": [],
   "source": []
  }
 ],
 "metadata": {
  "kernelspec": {
   "display_name": "Python 3",
   "language": "python",
   "name": "python3"
  },
  "language_info": {
   "codemirror_mode": {
    "name": "ipython",
    "version": 3
   },
   "file_extension": ".py",
   "mimetype": "text/x-python",
   "name": "python",
   "nbconvert_exporter": "python",
   "pygments_lexer": "ipython3",
   "version": "3.7.3"
  }
 },
 "nbformat": 4,
 "nbformat_minor": 2
}
