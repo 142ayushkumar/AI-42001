{
 "cells": [
  {
   "cell_type": "code",
   "execution_count": 2,
   "metadata": {},
   "outputs": [],
   "source": [
    "import numpy as np\n",
    "import pandas as pd\n",
    "from sklearn.naive_bayes import GaussianNB\n",
    "from sklearn.metrics import accuracy_score\n",
    "from sklearn import tree\n",
    "import matplotlib.pyplot as plt\n",
    "import seaborn as sns; sns.set()\n",
    "%matplotlib inline"
   ]
  },
  {
   "cell_type": "code",
   "execution_count": 3,
   "metadata": {},
   "outputs": [],
   "source": [
    "sample_y =[ \n",
    "    [15,0,0],\n",
    "    [15,0,0],\n",
    "    [2,9,1],\n",
    "    [0,10,4],\n",
    "    [0,10,1],\n",
    "    [8,2,4],\n",
    "    [0,9,0],\n",
    "    [1,0,14],\n",
    "    [0,0,20],\n",
    "    [0,2,15],\n",
    "    [1,3,14],\n",
    "    [1,0,9],\n",
    "]\n",
    "sample_x = [\n",
    "    [1, 1, 'A'],\n",
    "    [1, 2, 'A'],\n",
    "    [2, 2, 'A'],\n",
    "    [1, 1, 'B'],\n",
    "    [1, 2, 'B'],\n",
    "    [2, 2, 'B'],\n",
    "    [1, 2, 'C'],\n",
    "    [2, 2, 'C'],\n",
    "    [2, 1, 'C'],\n",
    "    [1, 1, 'D'],\n",
    "    [1, 2, 'D'],\n",
    "    [2, 2, 'D']\n",
    "]"
   ]
  },
  {
   "cell_type": "code",
   "execution_count": 4,
   "metadata": {},
   "outputs": [],
   "source": [
    "train_x,train_y = [],[]\n",
    "for i,time_y in enumerate(sample_y):\n",
    "    for pos,times in enumerate(time_y):\n",
    "        y_entry = [0,0,0]\n",
    "        y_entry[pos] = 1\n",
    "        train_y.extend([np.argmax(y_entry)]*times)\n",
    "        train_x.extend([sample_x[i]]*times)"
   ]
  },
  {
   "cell_type": "code",
   "execution_count": 5,
   "metadata": {},
   "outputs": [],
   "source": [
    "train_x = pd.DataFrame(train_x,columns=['X1','X2','X3'])\n",
    "train_y = pd.DataFrame(train_y,columns=['Y'])"
   ]
  },
  {
   "cell_type": "code",
   "execution_count": 6,
   "metadata": {},
   "outputs": [
    {
     "data": {
      "text/plain": [
       "((170, 6), (170, 1))"
      ]
     },
     "execution_count": 6,
     "metadata": {},
     "output_type": "execute_result"
    }
   ],
   "source": [
    "train_x = pd.get_dummies(train_x,prefix=['X3'])\n",
    "train_x.shape, train_y.shape"
   ]
  },
  {
   "cell_type": "code",
   "execution_count": 7,
   "metadata": {},
   "outputs": [],
   "source": [
    "gnb = GaussianNB()\n",
    "y_pred = gnb.fit(train_x,train_y.values.ravel()).predict(train_x)"
   ]
  },
  {
   "cell_type": "code",
   "execution_count": 8,
   "metadata": {},
   "outputs": [
    {
     "name": "stdout",
     "output_type": "stream",
     "text": [
      "Accuracy:  0.7411764705882353\n"
     ]
    }
   ],
   "source": [
    "print(\"Accuracy: \",accuracy_score(train_y,y_pred))"
   ]
  },
  {
   "cell_type": "code",
   "execution_count": 9,
   "metadata": {},
   "outputs": [
    {
     "data": {
      "text/plain": [
       "(4, 6)"
      ]
     },
     "execution_count": 9,
     "metadata": {},
     "output_type": "execute_result"
    }
   ],
   "source": [
    "test_x = pd.DataFrame([[2,1,'A'],[2,1,'B'],[1,1,'C'],[2,1,'D']],columns=['X1','X2','X3'])\n",
    "test_x = pd.get_dummies(test_x,prefix=['X3'])\n",
    "test_x.shape"
   ]
  },
  {
   "cell_type": "code",
   "execution_count": 10,
   "metadata": {},
   "outputs": [],
   "source": [
    "test_y = gnb.predict_proba(test_x)"
   ]
  },
  {
   "cell_type": "code",
   "execution_count": 11,
   "metadata": {},
   "outputs": [
    {
     "data": {
      "text/plain": [
       "Text(0.5, 12.5, 'Class')"
      ]
     },
     "execution_count": 11,
     "metadata": {},
     "output_type": "execute_result"
    },
    {
     "data": {
      "image/png": "[encoded data removed]",
      "text/plain": [
       "<Figure size 432x288 with 2 Axes>"
      ]
     },
     "metadata": {
      "needs_background": "light"
     },
     "output_type": "display_data"
    }
   ],
   "source": [
    "sns.heatmap(test_y)\n",
    "plt.ylabel('Test Sample')\n",
    "plt.xlabel(\"Class\")"
   ]
  },
  {
   "cell_type": "code",
   "execution_count": 14,
   "metadata": {},
   "outputs": [
    {
     "data": {
      "text/plain": [
       "array([[0.98805646, 0.01194354, 0.        ],\n",
       "       [0.22764902, 0.49209604, 0.28025494],\n",
       "       [0.        , 0.04014247, 0.95985753],\n",
       "       [0.00000499, 0.00076349, 0.99923152]])"
      ]
     },
     "execution_count": 14,
     "metadata": {},
     "output_type": "execute_result"
    }
   ],
   "source": [
    "np.set_printoptions(suppress=True)\n",
    "test_y"
   ]
  },
  {
   "cell_type": "code",
   "execution_count": 15,
   "metadata": {},
   "outputs": [
    {
     "data": {
      "text/plain": [
       "array([0, 1, 2, 2], dtype=int64)"
      ]
     },
     "execution_count": 15,
     "metadata": {},
     "output_type": "execute_result"
    }
   ],
   "source": [
    "gnb.predict(test_x)"
   ]
  },
  {
   "cell_type": "code",
   "execution_count": 16,
   "metadata": {},
   "outputs": [
    {
     "name": "stdout",
     "output_type": "stream",
     "text": [
      "Accuracy:  0.7411764705882353\n",
      "[[0.98805646 0.01194354 0.        ]\n",
      " [0.22764902 0.49209604 0.28025494]\n",
      " [0.         0.04014247 0.95985753]\n",
      " [0.00000499 0.00076349 0.99923152]]\n",
      "[0 1 2 2]\n"
     ]
    },
    {
     "data": {
      "image/png": "[encoded data removed]",
      "text/plain": [
       "<Figure size 432x288 with 2 Axes>"
      ]
     },
     "metadata": {
      "needs_background": "light"
     },
     "output_type": "display_data"
    }
   ],
   "source": [
    "import numpy as np\n",
    "import pandas as pd\n",
    "from sklearn.naive_bayes import GaussianNB\n",
    "from sklearn.metrics import accuracy_score\n",
    "from sklearn import tree\n",
    "import matplotlib.pyplot as plt\n",
    "import seaborn as sns; sns.set()\n",
    "%matplotlib inline\n",
    "\n",
    "sample_y =[ \n",
    "    [15,0,0],\n",
    "    [15,0,0],\n",
    "    [2,9,1],\n",
    "    [0,10,4],\n",
    "    [0,10,1],\n",
    "    [8,2,4],\n",
    "    [0,9,0],\n",
    "    [1,0,14],\n",
    "    [0,0,20],\n",
    "    [0,2,15],\n",
    "    [1,3,14],\n",
    "    [1,0,9],\n",
    "]\n",
    "sample_x = [\n",
    "    [1, 1, 'A'],\n",
    "    [1, 2, 'A'],\n",
    "    [2, 2, 'A'],\n",
    "    [1, 1, 'B'],\n",
    "    [1, 2, 'B'],\n",
    "    [2, 2, 'B'],\n",
    "    [1, 2, 'C'],\n",
    "    [2, 2, 'C'],\n",
    "    [2, 1, 'C'],\n",
    "    [1, 1, 'D'],\n",
    "    [1, 2, 'D'],\n",
    "    [2, 2, 'D']\n",
    "]\n",
    "\n",
    "train_x,train_y = [],[]\n",
    "for i,time_y in enumerate(sample_y):\n",
    "    for pos,times in enumerate(time_y):\n",
    "        y_entry = [0,0,0]\n",
    "        y_entry[pos] = 1\n",
    "        train_y.extend([np.argmax(y_entry)]*times)\n",
    "        train_x.extend([sample_x[i]]*times)\n",
    "        \n",
    "train_x = pd.DataFrame(train_x,columns=['X1','X2','X3'])\n",
    "train_y = pd.DataFrame(train_y,columns=['Y'])\n",
    "\n",
    "train_x = pd.get_dummies(train_x,prefix=['X3'])\n",
    "train_x.shape, train_y.shape\n",
    "\n",
    "\n",
    "gnb = GaussianNB()\n",
    "y_pred = gnb.fit(train_x,train_y.values.ravel()).predict(train_x)\n",
    "\n",
    "print(\"Accuracy: \",accuracy_score(train_y,y_pred))\n",
    "test_x = pd.DataFrame([[2,1,'A'],[2,1,'B'],[1,1,'C'],[2,1,'D']],columns=['X1','X2','X3'])\n",
    "test_x = pd.get_dummies(test_x,prefix=['X3'])\n",
    "test_y = gnb.predict_proba(test_x)\n",
    "sns.heatmap(test_y)\n",
    "plt.ylabel('Test Sample')\n",
    "plt.xlabel(\"Class\")\n",
    "np.set_printoptions(suppress=True)\n",
    "print(test_y)\n",
    "print(gnb.predict(test_x))"
   ]
  },
  {
   "cell_type": "code",
   "execution_count": null,
   "metadata": {},
   "outputs": [],
   "source": []
  }
 ],
 "metadata": {
  "kernelspec": {
   "display_name": "Python 3",
   "language": "python",
   "name": "python3"
  },
  "language_info": {
   "codemirror_mode": {
    "name": "ipython",
    "version": 3
   },
   "file_extension": ".py",
   "mimetype": "text/x-python",
   "name": "python",
   "nbconvert_exporter": "python",
   "pygments_lexer": "ipython3",
   "version": "3.7.3"
  }
 },
 "nbformat": 4,
 "nbformat_minor": 2
}
