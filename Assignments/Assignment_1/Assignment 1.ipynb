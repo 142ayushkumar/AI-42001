{
 "cells": [
  {
   "cell_type": "code",
   "execution_count": 5,
   "metadata": {},
   "outputs": [],
   "source": [
    "from sklearn.ensemble import RandomForestClassifier\n",
    "import numpy as np"
   ]
  },
  {
   "cell_type": "code",
   "execution_count": 7,
   "metadata": {},
   "outputs": [],
   "source": [
    "X = np.array([[1, 1, 'A'], [1, 2, 'A'], [2, 2, 'A'], [2, 1, 'A'], [1, 1, 'B'],\n",
    "             [1, 2, 'B'], [2, 2, 'B'], [2, 1, 'B'], [1, 1, 'C'], [1, 2, 'C'],\n",
    "             [2, 2, 'C'], [2, 1, 'C'], [1, 1, 'D'], [1, 2, 'D'], [2, 2, 'D'],\n",
    "             [2, 1, 'D']])"
   ]
  },
  {
   "cell_type": "code",
   "execution_count": 11,
   "metadata": {},
   "outputs": [
    {
     "data": {
      "text/plain": [
       "(20, 2)"
      ]
     },
     "execution_count": 11,
     "metadata": {},
     "output_type": "execute_result"
    }
   ],
   "source": [
    "X.shape"
   ]
  },
  {
   "cell_type": "code",
   "execution_count": 9,
   "metadata": {},
   "outputs": [],
   "source": [
    "X = np.array([[1, 1, 'A'],\n",
    "              [1, 2, 'A'],\n",
    "              [2, 2, 'A'],\n",
    "              [2, 1, 'A'],\n",
    "              [1, 1, 'B'],\n",
    "              [1, 2, 'B'],\n",
    "              [2, 2, 'B'],\n",
    "              [2, 1, 'B'],\n",
    "              [1, 1, 'C'],\n",
    "              [2, 2, 'C'],\n",
    "              [2, 1, 'C'],\n",
    "              [1, 1, 'D'],\n",
    "              [1, 2, 'D'], \n",
    "              [2, 2, 'D'],\n",
    "              [2, 1, 'D']\n",
    "             ])\n",
    "\n",
    "Y = np.array([\n",
    "    [15, 0, 0],\n",
    "    [15, 0, 0],\n",
    "    [2, 9, 1],\n",
    "    ['X', 'X', 'X'],\n",
    "    [0, 10, 4],\n",
    "    [0, 10, 1],\n",
    "    [8, 2, 4],\n",
    "    ['X', 'X', 'X'],\n",
    "    [0, 9, 0],\n",
    "    [1, 0, 14],\n",
    "    [0, 0, 20],\n",
    "    [0, 2, 15],\n",
    "    [1, 3, 14],\n",
    "    [1, 0, 9],\n",
    "    ['X', 'X', 'X']\n",
    "])"
   ]
  },
  {
   "cell_type": "code",
   "execution_count": 10,
   "metadata": {},
   "outputs": [],
   "source": [
    "X = np.array([\n",
    "    [5, 7],\n",
    "    [7, 12],\n",
    "    [12, 5],\n",
    "    [10, 8],\n",
    "    [6, 11],\n",
    "    [13, 8],\n",
    "    [8, 12],\n",
    "    [9, 11],\n",
    "    [11, 6],\n",
    "    [8, 12],\n",
    "    [13, 6],\n",
    "    [14, 8],\n",
    "    [17, 15],\n",
    "    [15, 9],\n",
    "    [13, 10],\n",
    "    [11, 5],\n",
    "    [16, 18],\n",
    "    [15, 7],\n",
    "    [12, 12],\n",
    "    [18, 9]\n",
    "])\n",
    "\n",
    "Y = np.array([1, 1, 1, 1, 1, 1, 1, 1, 1, 1, 2, 2, 2, 2, 2, 2, 2, 2, 2, 2])"
   ]
  },
  {
   "cell_type": "code",
   "execution_count": 15,
   "metadata": {},
   "outputs": [],
   "source": [
    "x = np.array([[[1]]*2])"
   ]
  },
  {
   "cell_type": "code",
   "execution_count": 26,
   "metadata": {},
   "outputs": [
    {
     "data": {
      "text/plain": [
       "array([[['1', '1', 'A'],\n",
       "        ['1', '1', 'A']],\n",
       "\n",
       "       [['1', '2', 'A'],\n",
       "        ['1', '2', 'A']]], dtype='<U11')"
      ]
     },
     "execution_count": 26,
     "metadata": {},
     "output_type": "execute_result"
    }
   ],
   "source": [
    "x"
   ]
  },
  {
   "cell_type": "code",
   "execution_count": null,
   "metadata": {},
   "outputs": [],
   "source": []
  }
 ],
 "metadata": {
  "kernelspec": {
   "display_name": "Python 3",
   "language": "python",
   "name": "python3"
  },
  "language_info": {
   "codemirror_mode": {
    "name": "ipython",
    "version": 3
   },
   "file_extension": ".py",
   "mimetype": "text/x-python",
   "name": "python",
   "nbconvert_exporter": "python",
   "pygments_lexer": "ipython3",
   "version": "3.7.3"
  }
 },
 "nbformat": 4,
 "nbformat_minor": 2
}
